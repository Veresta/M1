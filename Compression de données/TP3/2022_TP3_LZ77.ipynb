{
 "cells": [
  {
   "cell_type": "markdown",
   "metadata": {},
   "source": [
    "# LZ77 et LZSS"
   ]
  },
  {
   "cell_type": "markdown",
   "metadata": {},
   "source": [
    "## 0. Préparation"
   ]
  },
  {
   "cell_type": "markdown",
   "metadata": {},
   "source": [
    "Importez votre bibliothèque pour compresser avec l'algorithme de Huffman, ou utilisez le code ci-dessous."
   ]
  },
  {
   "cell_type": "markdown",
   "metadata": {},
   "source": [
    "Vous aurez besoin de la fonction `huffmanSize(text)` qui calcule la taille, en nombre de bits, du résultat si on compresse le texte `text` avec l'algorithme de Huffman (**la somme de la taille de l'arbre et de la taille du message compressé**). \n",
    "Pour la fonction `huffmanSize(text)` on ne tient pas compte des quelques ajustements à faire pour écrire le résultat en octets à la fin (bits inutiles, ...)"
   ]
  },
  {
   "cell_type": "code",
   "execution_count": null,
   "metadata": {},
   "outputs": [],
   "source": []
  },
  {
   "cell_type": "markdown",
   "metadata": {},
   "source": [
    "## 1. LZ77\n",
    "Implantez l'algorithme LZ77 tel que vu en cours. La fonction `LZ77(texte,L,W)` prend en argument le texte, la borne sur la longueur et la taille de la fenêtre. Elle retourne la liste des triplets correspondant à la compression selon l'algorithme de LZ77."
   ]
  },
  {
   "cell_type": "code",
   "execution_count": 85,
   "metadata": {},
   "outputs": [
    {
     "name": "stdout",
     "output_type": "stream",
     "text": [
      "b\n",
      "i :  b  | j :  b\n",
      "ajout\n",
      "i :  a  | j :  a\n",
      "ajout\n",
      "i :  a  | j :  a\n",
      "ajout\n",
      "i :  b  | j :  b\n",
      "ajout\n",
      "i :  a  | j :  a\n",
      "ajout\n",
      "i :  a  | j :  a\n",
      "ajout\n",
      "i :  b  | j :  b\n",
      "ajout\n",
      "i :  a  | j :  a\n",
      "ajout\n",
      "i :  a  | j :  a\n",
      "ajout\n",
      "i :  b  | j :  b\n",
      "ajout\n",
      "i :  b  | j :  b\n",
      "ajout\n",
      "i :  a  | j :  a\n",
      "ajout\n",
      "i :  a  | j :  b\n",
      "i :  a  | j :  b\n",
      "i :  b  | j :  b\n",
      "ajout\n",
      "i :  a  | j :  a\n",
      "ajout\n"
     ]
    },
    {
     "ename": "IndexError",
     "evalue": "string index out of range",
     "output_type": "error",
     "traceback": [
      "\u001b[0;31m---------------------------------------------------------------------------\u001b[0m",
      "\u001b[0;31mIndexError\u001b[0m                                Traceback (most recent call last)",
      "Cell \u001b[0;32mIn [85], line 54\u001b[0m\n\u001b[1;32m     52\u001b[0m u \u001b[38;5;241m=\u001b[39m \u001b[38;5;124m\"\u001b[39m\u001b[38;5;124mbaabaabaabbaa\u001b[39m\u001b[38;5;124m\"\u001b[39m\n\u001b[1;32m     53\u001b[0m \u001b[38;5;66;03m#print(longest_common_prefix(u,4,12,8))\u001b[39;00m\n\u001b[0;32m---> 54\u001b[0m \u001b[43mLZ77\u001b[49m\u001b[43m(\u001b[49m\u001b[43mu\u001b[49m\u001b[43m,\u001b[49m\u001b[38;5;241;43m8\u001b[39;49m\u001b[43m,\u001b[49m\u001b[38;5;241;43m8\u001b[39;49m\u001b[43m)\u001b[49m\n",
      "Cell \u001b[0;32mIn [85], line 46\u001b[0m, in \u001b[0;36mLZ77\u001b[0;34m(text, L, W)\u001b[0m\n\u001b[1;32m     44\u001b[0m     \u001b[38;5;28;01melse\u001b[39;00m:\n\u001b[1;32m     45\u001b[0m         val, indice \u001b[38;5;241m=\u001b[39m longest_common_prefix(text,stayZero(pos\u001b[38;5;241m-\u001b[39mW),pos\u001b[38;5;241m-\u001b[39m\u001b[38;5;241m2\u001b[39m,L)\n\u001b[0;32m---> 46\u001b[0m         res\u001b[38;5;241m.\u001b[39mappend((\u001b[38;5;28mlen\u001b[39m(val)\u001b[38;5;241m-\u001b[39m\u001b[38;5;241m1\u001b[39m, indice, \u001b[43mtext\u001b[49m\u001b[43m[\u001b[49m\u001b[43mpos\u001b[49m\u001b[38;5;241;43m+\u001b[39;49m\u001b[38;5;241;43m1\u001b[39;49m\u001b[43m]\u001b[49m))\n\u001b[1;32m     47\u001b[0m         pos\u001b[38;5;241m+\u001b[39m\u001b[38;5;241m=\u001b[39m(\u001b[38;5;28mlen\u001b[39m(val)\u001b[38;5;241m-\u001b[39m\u001b[38;5;241m1\u001b[39m)\n\u001b[1;32m     48\u001b[0m \u001b[38;5;28;01mreturn\u001b[39;00m res\n",
      "\u001b[0;31mIndexError\u001b[0m: string index out of range"
     ]
    }
   ],
   "source": [
    "def stayZero(number):\n",
    "    if(number <= 0): return 0\n",
    "    return number\n",
    "\n",
    "def longest_common_prefix(T, index1, index2, l):\n",
    "    pref_main = list()\n",
    "    indiceFound_main = -1\n",
    "    indiceFound_tmp = -1\n",
    "    pref_tmp = list()\n",
    "    j = index2\n",
    "    for i in range(index1, len(T)):\n",
    "        print(\"i : \",T[i], \" | j : \", T[j])\n",
    "        if(T[i] == T[j]):\n",
    "            if(indiceFound_tmp == -1): indiceFound_tmp = index2 - i\n",
    "            print(\"ajout\")\n",
    "            if(j+1 == len(u)-1):\n",
    "                pref_main = pref_tmp\n",
    "                indiceFound_main = indiceFound_tmp\n",
    "                return pref_main, indiceFound_main\n",
    "            j+=1\n",
    "            pref_tmp.append(T[i])\n",
    "        else:\n",
    "            \n",
    "            if(len(pref_main) < len(pref_tmp)):\n",
    "                pref_main = pref_tmp\n",
    "                indiceFound_main = indiceFound_tmp\n",
    "                indiceFound_tmp = -1\n",
    "                pref_tmp = list()\n",
    "            if(j > index2): break\n",
    "            j = index2\n",
    "    return pref_main, indiceFound_main\n",
    "\n",
    "def LZ77(text,L,W):\n",
    "    res = []\n",
    "    rencontre = set()\n",
    "    pos = 0\n",
    "    print(text[9])\n",
    "    while(pos < len(text)):\n",
    "        if(text[pos] not in rencontre): \n",
    "            rencontre.add(text[pos])\n",
    "            res.append((0,0,text[pos]))\n",
    "            pos+=1\n",
    "            continue\n",
    "        else:\n",
    "            val, indice = longest_common_prefix(text,stayZero(pos-W),pos-2,L)\n",
    "            res.append((len(val)-1, indice, text[pos+1]))\n",
    "            pos+=(len(val)-1)\n",
    "    return res\n",
    "                    \n",
    "\n",
    "\n",
    "u = \"baabaabaabbaa\"\n",
    "#print(longest_common_prefix(u,4,12,8))\n",
    "LZ77(u,8,8)"
   ]
  },
  {
   "cell_type": "markdown",
   "metadata": {},
   "source": [
    "Implantez la fonction `decompressionLZ77(s)` qui décompresse le résultat de `LZ77`. Vérifiez, en générant aléatoirement différent textes de différentes tailles et sur différents alphabets, que vous avez bien toujours\n",
    "`decompressionLZ77(LZ77(texte,maxL,W)) == texte`"
   ]
  },
  {
   "cell_type": "code",
   "execution_count": 16,
   "metadata": {},
   "outputs": [],
   "source": [
    "def deLZ77(comp):\n",
    "    ...\n",
    "\n",
    "u = \"baabaabaabbaa\"\n",
    "print(deLZ77(LZ77(u, 8, 8)))"
   ]
  },
  {
   "cell_type": "code",
   "execution_count": 17,
   "metadata": {},
   "outputs": [],
   "source": [
    "from random import choice\n",
    "\n",
    "def randWord(alphabet,size):\n",
    "    ...\n",
    "                   \n",
    "for _ in range(200):\n",
    "    u = randWord(['a','b','c'],20)\n",
    "    if deLZ77(LZ77(u,4,9)) != u:\n",
    "        raise Exception(\"LZ77 error on word:\" + u)"
   ]
  },
  {
   "cell_type": "markdown",
   "metadata": {},
   "source": [
    "On souhaite maintenant compresser un texte en utilisant LZ77 + Huffman. Calculez l'efficacité de cette méthode si on l'applique au texte `etranger.txt`, en comparant avec juste appliquer Huffman. On prendra `maxL=7` et `W=1024`.\n",
    "\n",
    "**Important :** c'est normal si ça prend quelques minutes, à moins que vous n'ayiez optimisé la fonction `LZ77`."
   ]
  },
  {
   "cell_type": "code",
   "execution_count": null,
   "metadata": {},
   "outputs": [],
   "source": []
  },
  {
   "cell_type": "markdown",
   "metadata": {},
   "source": [
    "Pour améliorer le résultat, on va dissocier les différents éléments des couples. Quelle serait la taille totale de la compression LZ77+Huffman si on utilisait trois arbres de Huffman différents pour les trois coordonnées des triplets (un pour les longueurs, un pour les positions et un pour les caracteres)."
   ]
  },
  {
   "cell_type": "code",
   "execution_count": null,
   "metadata": {},
   "outputs": [],
   "source": [
    "\n"
   ]
  },
  {
   "cell_type": "code",
   "execution_count": null,
   "metadata": {},
   "outputs": [],
   "source": []
  },
  {
   "cell_type": "markdown",
   "metadata": {},
   "source": [
    "## 3. LZSS\n",
    "Implantez l'algorithme de LZSS en une fonction `LZSS(texte,L,W,s)`, où `s` est le seuil. Elle retournera une liste avec des caractères et des couples `(longueur,position)`. \n",
    "\n",
    "*Remarque :* pour la suite il peut être utile de réprésenter un caractère `c` par un tuple de taille 1. Comme ça on peut distinguer les caractères des couples `(longueur,position)` avec la fonction `len`. Pour créer un tuple de taille 1 avec la valeur `c` en python, il suffit d'écrire `(x,)`."
   ]
  },
  {
   "cell_type": "code",
   "execution_count": 12,
   "metadata": {},
   "outputs": [
    {
     "name": "stdout",
     "output_type": "stream",
     "text": [
      "tatataata\n",
      "[('t',), ('a',), (4, 1), (2, 2), ('a',)]\n"
     ]
    }
   ],
   "source": [
    "def LZSS(text,L,W,s):\n",
    "    ...\n",
    "    \n",
    "u = \"tatataata\"\n",
    "print(LZSS(u,8,8,2))"
   ]
  },
  {
   "cell_type": "markdown",
   "metadata": {},
   "source": [
    "Implantez le décompresseur et vérifiez que cela fonctionne correctement."
   ]
  },
  {
   "cell_type": "code",
   "execution_count": null,
   "metadata": {},
   "outputs": [],
   "source": []
  },
  {
   "cell_type": "markdown",
   "metadata": {},
   "source": [
    "Reprendre les tests pour les tailles de la compression par LZSS, comme il a été fait au-dessus pour LZ77. On testera :\n",
    "- Huffman seul sur le résultat de LZSS\n",
    "- Séparer dans deux arbres de Huffman les caractères et les couples.\n",
    "- Encoder les caractères et les longueurs dans deux arbres de Huffman différents, et les positions en clair.\n",
    "\n",
    "Essayez différentes valeurs de `L` et `W`"
   ]
  },
  {
   "cell_type": "code",
   "execution_count": null,
   "metadata": {},
   "outputs": [],
   "source": []
  },
  {
   "cell_type": "code",
   "execution_count": null,
   "metadata": {},
   "outputs": [],
   "source": []
  }
 ],
 "metadata": {
  "kernelspec": {
   "display_name": "Python 3.10.6 64-bit",
   "language": "python",
   "name": "python3"
  },
  "language_info": {
   "codemirror_mode": {
    "name": "ipython",
    "version": 3
   },
   "file_extension": ".py",
   "mimetype": "text/x-python",
   "name": "python",
   "nbconvert_exporter": "python",
   "pygments_lexer": "ipython3",
   "version": "3.10.6"
  },
  "vscode": {
   "interpreter": {
    "hash": "aee8b7b246df8f9039afb4144a1f6fd8d2ca17a180786b69acc140d282b71a49"
   }
  }
 },
 "nbformat": 4,
 "nbformat_minor": 2
}
