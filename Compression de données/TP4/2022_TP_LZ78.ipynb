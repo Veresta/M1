{
 "cells": [
  {
   "cell_type": "markdown",
   "metadata": {},
   "source": [
    "# Algorithmes de LZ78 et LZSS"
   ]
  },
  {
   "cell_type": "markdown",
   "metadata": {},
   "source": [
    "## 1. Huffman\n",
    "\n",
    "Reprenez le code des tps précédents pour avoir une fonction ``huffmanSize(text)`` qui retourne la taille, en nombre de bits, de la compression du message ``text`` au moyen de la méthode de Huffman."
   ]
  },
  {
   "cell_type": "code",
   "execution_count": 77,
   "metadata": {},
   "outputs": [],
   "source": [
    "def count(L):\n",
    "   D = {}\n",
    "   for a in L:\n",
    "       if a not in D:\n",
    "           D[a] = 1\n",
    "       else:\n",
    "           D[a] +=1\n",
    "   return [(v,k) for (k,v) in D.items()]\n",
    "\n",
    "class Heap:\n",
    "   def __init__(self, function= lambda x:x):\n",
    "       self.tab = []\n",
    "       self.f = function\n",
    "   def father(self,i):\n",
    "       if i == 0:\n",
    "           return None\n",
    "       return int((i-1)/2)\n",
    "   def left(self,i):\n",
    "       if 2*i+1 < len(self.tab):\n",
    "           return 2*i+1\n",
    "       return None\n",
    "   def right(self,i):\n",
    "       if 2*i+2 < len(self.tab):\n",
    "           return 2*i+2\n",
    "       return None\n",
    "   def __str__(self):\n",
    "       return str(self.tab)\n",
    "   def add(self,x):\n",
    "       self.tab.append(x)\n",
    "       i = len(self.tab)-1\n",
    "       while i>0 and self.f(self.tab[i]) < self.f(self.tab[self.father(i)]):\n",
    "           self.tab[i], self.tab[self.father(i)] = self.tab[self.father(i)], self.tab[i]\n",
    "           i = self.father(i)\n",
    "   def extract(self):\n",
    "       if len(self.tab) == 1:\n",
    "               return self.tab.pop()\n",
    "       res = self.tab[0]\n",
    "       self.tab[0] = self.tab.pop()\n",
    "       i = 0\n",
    "       while True:\n",
    "           l,r = self.left(i), self.right(i)\n",
    "           vl, vr = self.f(self.tab[i]), self.f(self.tab[i])\n",
    "           if l is not None:\n",
    "               vl = self.f(self.tab[l])\n",
    "           if r is not None:\n",
    "               vr = self.f(self.tab[r])\n",
    "           if self.f(self.tab[i]) <= vr and self.f(self.tab[i]) <= vl:\n",
    "               return res\n",
    "           if vl < vr:\n",
    "               self.tab[i], self.tab[l] = self.tab[l], self.tab[i]\n",
    "               i = l\n",
    "           else:\n",
    "               self.tab[i], self.tab[r] = self.tab[r], self.tab[i]\n",
    "               i = r    \n",
    "\n",
    "def huffmanTree(L):\n",
    "   C = count(L)\n",
    "   H = Heap(lambda x:x[0])\n",
    "   for c in C:\n",
    "       H.add(c)\n",
    "   while len(H.tab)>1:\n",
    "       x1 = H.extract()\n",
    "       x2 = H.extract()\n",
    "       A = (x1[0]+x2[0],x1,x2)\n",
    "       H.add(A)\n",
    "   return H.tab[0]  \n",
    "\n",
    "def huffmanToCode(T,C=None,word=None):\n",
    "   if word is None:\n",
    "       word = []\n",
    "   if C is None:\n",
    "       C = {}\n",
    "   if len(T) == 2: # leaf\n",
    "       C[T[1]] = u\"\".join(word)\n",
    "   else:\n",
    "       word.append('0')\n",
    "       huffmanToCode(T[1],C,word)\n",
    "       word[-1] = '1'\n",
    "       huffmanToCode(T[2],C,word)\n",
    "       word.pop()\n",
    "   return C\n",
    "\n",
    "from math import log\n",
    "\n",
    "def huffmanSize(text):\n",
    "   K = count(text)\n",
    "   T = huffmanTree(text)\n",
    "   C = huffmanToCode(T)\n",
    "   k = len(K)\n",
    "   b = int(log(k+1,2)+1)\n",
    "   return sum([len(C[l])*nb for nb,l in K])+ (b+2)*k -1"
   ]
  },
  {
   "cell_type": "markdown",
   "metadata": {},
   "source": [
    "## 2. LZ78\n",
    "\n",
    "Implantez l'algorithme de LZ78. La fonction aura pour signature ``lz78(u, size=None)``, où ``size`` représente la taille maximale du dictionnaire (voir le cours). Si ``size`` vaut ``None``, alors le dictionnaire n'a pas de limite de taille. Sinon, il est vidé dès qu'il atteint cette taille (voir le cours), et réinitialisé pour ne plus contenir que le mot vide.\n",
    "\n",
    "La sortie de l'algorithme sera, comme dans le cours, une liste de paires (numéro,caractère)."
   ]
  },
  {
   "cell_type": "code",
   "execution_count": 78,
   "metadata": {},
   "outputs": [],
   "source": [
    "def lz78(u, size=None):\n",
    "    output = list()\n",
    "    dictionnaire = dict()\n",
    "    dictionnaire[''] = 0\n",
    "    compteur = 1\n",
    "    i = 0\n",
    "    while i < len(u):\n",
    "        if len(dictionnaire) == size:\n",
    "            dictionnaire = dict()\n",
    "            dictionnaire[''] = 0\n",
    "        elif u[i] not in dictionnaire:\n",
    "            dictionnaire[u[i]] = compteur\n",
    "            output.append((0, u[i]))\n",
    "            compteur +=1\n",
    "            i+=1\n",
    "        else:\n",
    "            l = 0\n",
    "            while u[i:i+l] in dictionnaire.keys() and i + l < len(u):\n",
    "                l+=1\n",
    "            dictionnaire[u[i:i+l]] = compteur\n",
    "            output.append((dictionnaire[u[i:i+l-1]], u[i:i+l][-1]))\n",
    "            compteur+=1\n",
    "            i+=l\n",
    "    return output"
   ]
  },
  {
   "cell_type": "markdown",
   "metadata": {},
   "source": [
    "Vérifiez que votre fonction fonctionne correctement avec l'exemple du cours."
   ]
  },
  {
   "cell_type": "code",
   "execution_count": 56,
   "metadata": {},
   "outputs": [
    {
     "name": "stdout",
     "output_type": "stream",
     "text": [
      "[(0, 'a'), (0, 'b'), (2, 'a'), (3, 'b'), (1, 'a'), (1, 'b')]\n"
     ]
    }
   ],
   "source": [
    "print(lz78(\"abbababaaab\"))\n",
    "\n",
    "#Resultat : (0,a) (0,b) (2,a) (3,b) (1,a) (1,b)"
   ]
  },
  {
   "cell_type": "markdown",
   "metadata": {},
   "source": [
    "Ecrire la fonction `un_lz78(seq,size=None)` qui décompresse la séquence `seq` produite par `lz78`."
   ]
  },
  {
   "cell_type": "code",
   "execution_count": 80,
   "metadata": {},
   "outputs": [],
   "source": [
    "def un_lz78(seq, size=None):\n",
    "    res = \"\"\n",
    "    dictionnaire = dict()\n",
    "    dictionnaire[0] = ''\n",
    "    cpt = 1\n",
    "    for u, v in seq:\n",
    "        ajout = dictionnaire[u] + v\n",
    "        res += ajout\n",
    "        dictionnaire[cpt] = ajout\n",
    "        cpt+=1\n",
    "    return res"
   ]
  },
  {
   "cell_type": "markdown",
   "metadata": {},
   "source": [
    "Vérifiez que votre fonction fonctionne avec le script ci-dessous."
   ]
  },
  {
   "cell_type": "code",
   "execution_count": 79,
   "metadata": {},
   "outputs": [
    {
     "name": "stdout",
     "output_type": "stream",
     "text": [
      "ccbcbccbaaacbccaaaac True\n",
      "ccbcbccbaaacbccaaaac True\n",
      "aabbbcccbbbccbabaccb True\n",
      "aabbbcccbbbccbabaccb True\n",
      "bbccaccaccccabaabbcb True\n",
      "bbccaccaccccabaabbcb True\n",
      "ccabcbccbabcabbcccbb True\n",
      "ccabcbccbabcabbcccbb True\n",
      "aabacccccabaacbbcbbb True\n",
      "aabacccccabaacbbcbbb True\n",
      "bcbaaacbcbacaacbabbb True\n",
      "bcbaaacbcbacaacbabbb True\n",
      "cbcabbbbaacccababccc True\n",
      "cbcabbbbaacccababccc True\n",
      "ccbcaaccbacbccbbbccb True\n",
      "ccbcaaccbacbccbbbccb True\n",
      "cbbbaacaccabcabaccbb True\n",
      "cbbbaacaccabcabaccbb True\n",
      "baaaacbbaccbccabaaac True\n",
      "baaaacbbaccbccabaaac True\n"
     ]
    }
   ],
   "source": [
    "from random import choice\n",
    "for _ in range(10):\n",
    "    u = \"\".join([choice(['a','b','c']) for _ in range(20)])\n",
    "    print(u, un_lz78(lz78(u))==u)\n",
    "    print(u, un_lz78(lz78(u,5),5)==u)"
   ]
  },
  {
   "cell_type": "markdown",
   "metadata": {},
   "source": [
    "## 3. Tests LZ78 + Huffman\n",
    "\n",
    "Appliquez lz78 au fichier `etranger.txt` (en ouvrant le fichier avec l'option 'r', pas 'rb'). Quelle est la taille de la compression du résultat de lz78 par Huffman (sans limite de taille pour l'alphabet)? Comparez-là à la taille initiale du fichier `etranger.txt`."
   ]
  },
  {
   "cell_type": "code",
   "execution_count": 82,
   "metadata": {},
   "outputs": [
    {
     "name": "stdout",
     "output_type": "stream",
     "text": [
      "0.7783588115268366\n"
     ]
    }
   ],
   "source": [
    "with open(\"etranger.txt\", \"r\") as file:\n",
    "    data = file.read()\n",
    "    encodage = lz78(data)\n",
    "    print(huffmanSize(encodage)/len(data)/8)"
   ]
  },
  {
   "cell_type": "markdown",
   "metadata": {},
   "source": [
    "On souhaite maintenant utiliser deux arbres de Huffman : un pour les indices, et un pour les caractères. Que deviendrait la taille du fichier compressé si on appliquait cette technique à `etranger.txt` ?"
   ]
  },
  {
   "cell_type": "code",
   "execution_count": null,
   "metadata": {},
   "outputs": [],
   "source": []
  },
  {
   "cell_type": "markdown",
   "metadata": {},
   "source": [
    "Même question si en limitant la taille du dictionnaire à s=512, s=1024, ou s=2048."
   ]
  },
  {
   "cell_type": "code",
   "execution_count": null,
   "metadata": {},
   "outputs": [],
   "source": []
  },
  {
   "cell_type": "markdown",
   "metadata": {},
   "source": [
    "Essayez d'autres stratégies quand le dictionnaire est plein (par exemple enlever la moitié des mots selon leur indice, ou selon leur taille)"
   ]
  },
  {
   "cell_type": "code",
   "execution_count": null,
   "metadata": {},
   "outputs": [],
   "source": []
  },
  {
   "cell_type": "markdown",
   "metadata": {},
   "source": [
    "## 4. LZW\n",
    "\n",
    "Reprendre les parties 2. et 3. avec LZW au lieu de LZ78."
   ]
  },
  {
   "cell_type": "code",
   "execution_count": 1,
   "metadata": {},
   "outputs": [
    {
     "data": {
      "text/plain": [
       "True"
      ]
     },
     "execution_count": 1,
     "metadata": {},
     "output_type": "execute_result"
    }
   ],
   "source": []
  }
 ],
 "metadata": {
  "kernelspec": {
   "display_name": "Python 3.10.6 64-bit",
   "language": "python",
   "name": "python3"
  },
  "language_info": {
   "codemirror_mode": {
    "name": "ipython",
    "version": 3
   },
   "file_extension": ".py",
   "mimetype": "text/x-python",
   "name": "python",
   "nbconvert_exporter": "python",
   "pygments_lexer": "ipython3",
   "version": "3.10.6"
  },
  "vscode": {
   "interpreter": {
    "hash": "aee8b7b246df8f9039afb4144a1f6fd8d2ca17a180786b69acc140d282b71a49"
   }
  }
 },
 "nbformat": 4,
 "nbformat_minor": 2
}
