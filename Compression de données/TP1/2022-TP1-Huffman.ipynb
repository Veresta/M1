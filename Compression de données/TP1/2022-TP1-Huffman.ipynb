{
 "cells": [
  {
   "cell_type": "markdown",
   "metadata": {},
   "source": [
    "# I. Préparation"
   ]
  },
  {
   "cell_type": "markdown",
   "metadata": {},
   "source": [
    "## 1. Comptage"
   ]
  },
  {
   "cell_type": "markdown",
   "metadata": {},
   "source": [
    "Ecrire une fonction `count` qui prend en parametre une chaîne de charactere `u` (ou en fait n'importe quel itérable), et qui renvoie une liste de paires `(k,a)`  où `a` décrit l'ensemble des symboles de `u` et `k` est son nombre d'occurrences dans `u`.\n",
    "\n",
    "Par exemple, si `u=\"aababababbabcccbcbccccddddaaaaaaaaaaaaaaaaaaaaaa\"`, cela doit retourner \n",
    "`[(28, 'a'), (8, 'b'), (8, 'c'), (4, 'd')]`."
   ]
  },
  {
   "cell_type": "code",
   "execution_count": 21,
   "metadata": {},
   "outputs": [
    {
     "data": {
      "text/plain": [
       "[(28, 'a'), (8, 'b'), (8, 'c'), (4, 'd')]"
      ]
     },
     "execution_count": 21,
     "metadata": {},
     "output_type": "execute_result"
    }
   ],
   "source": [
    "from collections import Counter\n",
    "import re\n",
    "\n",
    "def count(u):\n",
    "    res = dict(Counter(list(u)))\n",
    "    return [(res[k],k) for k in res]\n",
    "\n",
    "count(\"aababababbabcccbcbccccddddaaaaaaaaaaaaaaaaaaaaaa\")\n",
    "    "
   ]
  },
  {
   "cell_type": "markdown",
   "metadata": {},
   "source": [
    "## 2. File de priorité"
   ]
  },
  {
   "cell_type": "markdown",
   "metadata": {},
   "source": [
    "Le but de cette partie est d'écrire une classe `Heap` qui gère une file de priorité sous forme d'un tas. La classe doit implanter les méthodes suivantes :\n",
    "- `__init__(self, key = lambda x:x)` le constructeur, qui prend en argument une fonction `key` (par défaut l'identité) qui sera utilisée pour les comparaisons : au lieu de comparer deux données `x` et `y`, on comparera\n",
    "toujours `self.key(x)` et `self.key(y)`.\n",
    "- `add(self,x)` qui ajoute la donnée `x` dans la file de priorité et met à jour la représentation interne pour garder la structure de tas selon les clés `self.key()`.\n",
    "- `extract(self)` qui renvoie la donnée de plus petite clé et l'enlève de la file de priorité (et met à jour la représentation interne pour garder la structure de tas selon les clés `self.key()`). S'il n'y a pas d'élément, cela renvoie une exception.\n",
    "\n",
    "Vos méthodes `add(self,x)`  et `extract(self)`  doivent être de complexité $\\mathcal{O}(\\log n)$, où $n$ est le nombre de données actuellement dans la file de priorité.\n",
    "\n",
    "Vous pouvez bien sûr ajouter toutes les méthodes que vous souhaitez."
   ]
  },
  {
   "cell_type": "code",
   "execution_count": 72,
   "metadata": {},
   "outputs": [],
   "source": [
    "class Heap:\n",
    "    def __init__(self, key = lambda x:x):\n",
    "        self.heap = [0] #Init the heap with one value\n",
    "        self.key = key\n",
    "        self.size = 0 #Current size of the heap\n",
    "    \n",
    "    def shift_up(self, i):\n",
    "        # While the element is not the root or the left element\n",
    "        Stop = False\n",
    "        while (i // 2 > 0) and Stop == False:\n",
    "            # If the element is less than its parent swap the elements\n",
    "            if self.key(self.heap[i]) < self.key(self.heap[i // 2]):\n",
    "                self.heap[i], self.heap[i // 2] = self.heap[i // 2], self.heap[i]\n",
    "            else:\n",
    "                Stop = True\n",
    "            # Move the index to the parent to keep the properties\n",
    "            i //= 2\n",
    "\n",
    "    def add(self, x):\n",
    "        if(self.size == 0):\n",
    "            self.heap.append(x)\n",
    "            self.size+=1\n",
    "        else:\n",
    "            self.heap.append(x)\n",
    "            self.size+=1\n",
    "            self.shift_up(self.size)\n",
    "\n",
    "    def shift_down(self, i):\n",
    "        # if the current node has at least one child\n",
    "        while (i * 2) <= self.size:\n",
    "            # Get the index of the min child of the current node\n",
    "            mc = self.min_child(i)\n",
    "            # Swap the values of the current element is greater than its min child\n",
    "            if self.key(self.heap[i]) > self.key(self.heap[mc]):\n",
    "                self.heap[i], self.heap[mc] = self.heap[mc], self.heap[i]\n",
    "            i = mc\n",
    " \n",
    "    def min_child(self, i):\n",
    "        # If the current node has only one child, return the index of the unique child\n",
    "        if (i * 2)+1 > self.size:\n",
    "            return i * 2\n",
    "        else:\n",
    "            # Here in the current node has two children\n",
    "            # Return the index of the min child according to their values\n",
    "            if self.key(self.heap[i*2]) < self.key(self.heap[(i*2)+1]):\n",
    "                return i * 2\n",
    "            else:\n",
    "                return (i * 2) + 1\n",
    "\n",
    "\n",
    "    def extract(self):\n",
    "        if(len(self.heap)==1):\n",
    "             raise ValueError(\"Empty Heap\")\n",
    "        root = self.heap[1]\n",
    " \n",
    "        # Move the last value of the heap to the root\n",
    "        self.heap[1] = self.heap[self.size]\n",
    " \n",
    "        # Pop the last value since a copy was set on the root\n",
    "        *self.heap, _ = self.heap\n",
    " \n",
    "        # Decrease the size of the heap\n",
    "        self.size -= 1\n",
    " \n",
    "        # Move down the root (value at index 1) to keep the heap property\n",
    "        self.shift_down(1)\n",
    " \n",
    "        # Return the min value of the heap\n",
    "        return root\n",
    "\n",
    "    def add_list(self, list):\n",
    "        for i in list:\n",
    "            self.add(i)\n",
    "        \n",
    "    def printHeap(self):\n",
    "        for i in range(1, self.size+1):\n",
    "            print(i)\n"
   ]
  },
  {
   "cell_type": "markdown",
   "metadata": {},
   "source": [
    "Testez votre classe `Heap` en implémentant le tri par tas (en passant en paramètre la fonction `key` à utiliser, par défaut l'identité). Vous pouvez ensuite générer aléatoirement un tableau avec des paires `(x,y)` de nombres aléatoires et les trier selon leur première coordonnée, ou selon leur deuxième coordonnée (en initialisant `key` à `lambda x:x[1]`)."
   ]
  },
  {
   "cell_type": "code",
   "execution_count": 77,
   "metadata": {},
   "outputs": [
    {
     "name": "stdout",
     "output_type": "stream",
     "text": [
      "[(51210, 5847), (48888, 7064), (90968, 8106), (74555, 6503), (59856, 6493)]\n",
      "[(48888, 7064), (51210, 5847), (59856, 6493), (74555, 6503), (90968, 8106)]\n"
     ]
    }
   ],
   "source": [
    "from random import randint\n",
    "\n",
    "def tri_par_tas(key, lst):\n",
    "    tas = Heap(key)\n",
    "    tas.add_list(lst)\n",
    "    res = list()\n",
    "    while tas.size != 0:\n",
    "        res.append(tas.extract())\n",
    "    return res\n",
    "\n",
    " \n",
    "L = []\n",
    "while len(L) < 5:\n",
    "    C = (randint(0, 100000), randint(0, 10000))\n",
    "    if C not in L:\n",
    "        L.append(C)\n",
    "print(L)\n",
    "\n",
    "print(tri_par_tas(lambda x:x[0], L))\n",
    "\n"
   ]
  },
  {
   "cell_type": "markdown",
   "metadata": {},
   "source": [
    "## 3. Encodage de Huffman"
   ]
  },
  {
   "cell_type": "markdown",
   "metadata": {},
   "source": [
    "Créer une fonction `huffmanTree(L)` qui prend en argument une liste `L` sous le format retourné par `count` de la première question, et qui retourne un arbre de Huffman correspondant à ces nombres d'occurrences. Vous avez le choix sur la façon dont l'arbre est encodé, mais vous devez utiliser `Heap` pour faire les sélections des deux arbres de poids minimal à chaque étape."
   ]
  },
  {
   "cell_type": "code",
   "execution_count": 82,
   "metadata": {},
   "outputs": [
    {
     "name": "stdout",
     "output_type": "stream",
     "text": [
      "(48, None, (20, None, (8, 'b', None, None), (12, None, (4, 'd', None, None), (8, 'c', None, None))), (28, 'a', None, None))\n"
     ]
    }
   ],
   "source": [
    "def huffmanTree(L):\n",
    "    tas = Heap(lambda x:x[0])\n",
    "    for occu, name in L:\n",
    "        tas.add((occu,name,None,None))\n",
    "    while tas.size != 1:\n",
    "        noeud1 = tas.extract()\n",
    "        noeud2 = tas.extract()\n",
    "        tmp_noeud = (noeud1[0] + noeud2[0], None, noeud1, noeud2)\n",
    "        tas.add(tmp_noeud)\n",
    "    return tas.extract()\n",
    "\n",
    "L = [(28, 'a'), (8, 'b'), (8, 'c'), (4, 'd')]\n",
    "\n",
    "print(huffmanTree(L))\n",
    "\n"
   ]
  },
  {
   "cell_type": "markdown",
   "metadata": {},
   "source": [
    "Ecrire une fonction `huffmanToCode(T)` qui prend en argument un arbre de Huffman et qui retourne un dictionnaire `C` tel que `C[a]` est l'encodage binaire du symbole `a` dans l'arbre (sous forme d'une chaîne ou d'une liste de `0` et `1`)."
   ]
  },
  {
   "cell_type": "code",
   "execution_count": null,
   "metadata": {},
   "outputs": [],
   "source": [
    "def huffmanToCode(T):\n",
    "    pass"
   ]
  },
  {
   "cell_type": "markdown",
   "metadata": {},
   "source": [
    "Ecrire une fonction `applyCode(C,u)` où `C` est un encodage comme retourné par `huffmanToCode` et `u` est un mot sur le même jeu de symboles et qui retourne la suite de `0` et de `1` associé à l'encodage alphabétique de `u`en utilisant `C` (sous forme de chaîne de caractères ou de liste). "
   ]
  },
  {
   "cell_type": "code",
   "execution_count": null,
   "metadata": {},
   "outputs": [],
   "source": []
  },
  {
   "cell_type": "markdown",
   "metadata": {},
   "source": [
    "Testez soigneusement vos fonctions, en vérifiant, par exemple, que cela est compatible avec l'exemple du cours."
   ]
  },
  {
   "cell_type": "code",
   "execution_count": null,
   "metadata": {},
   "outputs": [],
   "source": []
  },
  {
   "cell_type": "markdown",
   "metadata": {},
   "source": [
    "On souhaite maintenant appliquer la compression de `Huffman` au fichier `etranger.txt`. Calculez le taux de compression obtenu."
   ]
  },
  {
   "cell_type": "code",
   "execution_count": null,
   "metadata": {},
   "outputs": [],
   "source": []
  },
  {
   "cell_type": "markdown",
   "metadata": {},
   "source": [
    "## 4. Encodage binaire"
   ]
  },
  {
   "cell_type": "markdown",
   "metadata": {},
   "source": [
    "Ecrire une classe `ByteEncoder` qui possède deux listes internes : l'une, `self.buffer` permet de stocker jusqu'à 8 bits '0' ou '1', l'autre, `self.tab` est une liste d'entiers entre 0 et 255 correspondant à un encodage de 8 bits. Implantez les méthodes suivantes :\n",
    "- `addBit(self,b)` ajoute un bit '0' ou '1' à `buffer`. Si le buffer atteint la taille 8, l'entier correspondant à l'encodage binaire du buffer est ajouté dans `tab` et le buffer est vidé.\n",
    "- `addString(self,s)` ajoute une chaîne (ou une liste) de '0' et de '1' à buffer avec des appels répétés à `addBit`.\n",
    "- `write(filename)` écrit le contenu de l'objet dans le fichier `filename`: les éléments de `tab` sont ajouté un par un, et si le buffer n'est pas vide il est complété par des '0' avant d'être ajouté. Attention à bien ouvrir le fichier en écriture binaire avec \"wb\" et pour écrire une liste L de nombres (entre 0 et 255) utiliser la méthode `write(bytes(L))`."
   ]
  },
  {
   "cell_type": "code",
   "execution_count": null,
   "metadata": {},
   "outputs": [],
   "source": []
  },
  {
   "cell_type": "markdown",
   "metadata": {},
   "source": [
    "## 5. Finalisation de l'encodage de Huffman"
   ]
  },
  {
   "cell_type": "markdown",
   "metadata": {},
   "source": [
    "Ecrire une fonction `encodeTree` qui encode un arbre de Huffman dans un ByteEncoder. On suppose que les feuilles de l'arbre sont des `bytes`, des séquences de 8 bits. Cela signifie que lorsqu'on lit le fichier à compresser, il faudra s'assurer de l'ouvrir en binaire avec 'rb'."
   ]
  },
  {
   "cell_type": "code",
   "execution_count": null,
   "metadata": {},
   "outputs": [],
   "source": []
  },
  {
   "cell_type": "markdown",
   "metadata": {},
   "source": [
    "Ecrire une fonction `HuffmanEncoding(filename, outname)` qui prend en argument un nom de fichier `filename`, qui calcule l'arbre de Huffman et le message compressé associé, et qui l'écrit dans `outname`."
   ]
  },
  {
   "cell_type": "code",
   "execution_count": null,
   "metadata": {},
   "outputs": [],
   "source": []
  },
  {
   "cell_type": "markdown",
   "metadata": {},
   "source": [
    "## 6. Décodage"
   ]
  },
  {
   "cell_type": "markdown",
   "metadata": {},
   "source": [
    "Ecrire une fonction `HuffmanDecode(filename, outname)` qui ouvre le fichier de nom `filename` compressé selon la méthode de Huffman, qui le décompresse, et qui écrit le resultat dans le fichier `outname`. "
   ]
  },
  {
   "cell_type": "code",
   "execution_count": null,
   "metadata": {},
   "outputs": [],
   "source": []
  }
 ],
 "metadata": {
  "kernelspec": {
   "display_name": "Python 3",
   "language": "python",
   "name": "python3"
  },
  "language_info": {
   "codemirror_mode": {
    "name": "ipython",
    "version": 3
   },
   "file_extension": ".py",
   "mimetype": "text/x-python",
   "name": "python",
   "nbconvert_exporter": "python",
   "pygments_lexer": "ipython3",
   "version": "3.8.5"
  }
 },
 "nbformat": 4,
 "nbformat_minor": 2
}
