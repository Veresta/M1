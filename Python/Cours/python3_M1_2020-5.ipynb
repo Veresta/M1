{
 "cells": [
  {
   "cell_type": "markdown",
   "metadata": {},
   "source": [
    "# Python 5\n",
    "\n",
    "## Décorateurs\n",
    "\n",
    "Un décorateur sert à envelopper un fonction dans une autre:\n",
    "\n",
    "```python\n",
    "@dec\n",
    "def f(arg1, arg2):\n",
    "    pass\n",
    "```\n",
    "est équivalent à\n",
    "\n",
    "```python\n",
    "def f(arg1, arg2):\n",
    "    pass\n",
    "f = dec(f)\n",
    "```\n",
    "\n",
    "où `dec` prend une fonction comme argument et retourne une fonction.\n",
    "\n",
    "\n",
    "Un petit test pour comprendre ce qui se passe :\n"
   ]
  },
  {
   "cell_type": "code",
   "execution_count": 2,
   "metadata": {},
   "outputs": [],
   "source": [
    "def trace(f):\n",
    "    def traced(*args, **kwargs):\n",
    "        print ('>>')\n",
    "        f(*args, **kwargs)\n",
    "        print ('<<')\n",
    "    return traced\n",
    "\n",
    "@trace\n",
    "def f1(truc):\n",
    "    print ('truc:', truc)\n",
    "\n",
    "@trace\n",
    "def f2(x, y):\n",
    "    print ('x:', x, 'y:', y)\n",
    "    f1((x, y))\n"
   ]
  },
  {
   "cell_type": "code",
   "execution_count": 11,
   "metadata": {},
   "outputs": [
    {
     "name": "stdout",
     "output_type": "stream",
     "text": [
      ">>\n",
      "truc: 2\n",
      "<<\n"
     ]
    }
   ],
   "source": [
    "f1(2)"
   ]
  },
  {
   "cell_type": "code",
   "execution_count": 8,
   "metadata": {},
   "outputs": [
    {
     "name": "stdout",
     "output_type": "stream",
     "text": [
      ">>\n",
      "x: blaksjlkdqjl y: [666, 66]\n",
      ">>\n",
      "truc: ('blaksjlkdqjl', [666, 66])\n",
      "<<\n",
      "<<\n"
     ]
    }
   ],
   "source": [
    "f2('bla' + 'ksjlkdqjl',[666,66])"
   ]
  },
  {
   "cell_type": "markdown",
   "metadata": {},
   "source": [
    "### Exemple : mise en cache des valeurs d'une fonction récursive (*memoization*)\n",
    "\n",
    "Permet d'automatiser le procédé, déjà illustré sur l'exemple de la suite de Fibonacci.\n",
    "\n",
    "Sans décorateur :"
   ]
  },
  {
   "cell_type": "code",
   "execution_count": 20,
   "metadata": {},
   "outputs": [],
   "source": [
    "def f(n):\n",
    "    if n<2: return n\n",
    "    return f(n-1)+f(n-2)"
   ]
  },
  {
   "cell_type": "code",
   "execution_count": 21,
   "metadata": {},
   "outputs": [
    {
     "data": {
      "text/plain": [
       "[0, 1, 1, 2, 3, 5, 8, 13, 21, 34, 55, 89, 144, 233, 377]"
      ]
     },
     "execution_count": 21,
     "metadata": {},
     "output_type": "execute_result"
    }
   ],
   "source": [
    "[f(n) for n in range(15)]"
   ]
  },
  {
   "cell_type": "code",
   "execution_count": 22,
   "metadata": {},
   "outputs": [],
   "source": [
    "cache = {0:0, 1:1}\n",
    "\n",
    "def f(n):\n",
    "    try: return cache[n]\n",
    "    except KeyError:\n",
    "        cache[n] = f(n-1)+f(n-2)\n",
    "        return cache[n]"
   ]
  },
  {
   "cell_type": "code",
   "execution_count": 23,
   "metadata": {},
   "outputs": [
    {
     "data": {
      "text/plain": [
       "4224696333392304878706725602341482782579852840250681098010280137314308584370130707224123599639141511088446087538909603607640194711643596029271983312598737326253555802606991585915229492453904998722256795316982874482472992263901833716778060607011615497886719879858311468870876264597369086722884023654422295243347964480139515349562972087652656069529806499841977448720155612802665404554171717881930324025204312082516817125"
      ]
     },
     "execution_count": 23,
     "metadata": {},
     "output_type": "execute_result"
    }
   ],
   "source": [
    "f(2000)"
   ]
  },
  {
   "cell_type": "markdown",
   "metadata": {},
   "source": [
    "Avec :"
   ]
  },
  {
   "cell_type": "code",
   "execution_count": 17,
   "metadata": {},
   "outputs": [],
   "source": [
    "def memoize(f):\n",
    "    cache = {}\n",
    "    def memoized(*args):\n",
    "        try:\n",
    "            return cache[args]\n",
    "        except KeyError:\n",
    "            result = cache[args] = f(*args)\n",
    "            return result\n",
    "    return memoized"
   ]
  },
  {
   "cell_type": "code",
   "execution_count": 18,
   "metadata": {},
   "outputs": [],
   "source": [
    "@memoize\n",
    "def fib(n):\n",
    "    if n<2: return n\n",
    "    return fib(n-1)+fib(n-2)"
   ]
  },
  {
   "cell_type": "code",
   "execution_count": 24,
   "metadata": {},
   "outputs": [
    {
     "data": {
      "text/plain": [
       "43466557686937456435688527675040625802564660517371780402481729089536555417949051890403879840079255169295922593080322634775209689623239873322471161642996440906533187938298969649928516003704476137795166849228875"
      ]
     },
     "execution_count": 24,
     "metadata": {},
     "output_type": "execute_result"
    }
   ],
   "source": [
    "fib(1000)"
   ]
  },
  {
   "cell_type": "code",
   "execution_count": 25,
   "metadata": {},
   "outputs": [
    {
     "name": "stdout",
     "output_type": "stream",
     "text": [
      "354224848179261915075 \n",
      "\n",
      "280571172992510140037611932413038677189525 \n",
      "\n",
      "222232244629420445529739893461909967206666939096499764990979600 \n",
      "\n",
      "176023680645013966468226945392411250770384383304492191886725992896575345044216019675 \n",
      "\n",
      "139423224561697880139724382870407283950070256587697307264108962948325571622863290691557658876222521294125 \n",
      "\n",
      "110433070572952242346432246767718285942590237357555606380008891875277701705731473925618404421867819924194229142447517901959200 \n",
      "\n",
      "87470814955752846203978413017571327342367240967697381074230432592527501911290377655628227150878427331693193369109193672330777527943718169105124275 \n",
      "\n",
      "69283081864224717136290077681328518273399124385204820718966040597691435587278383112277161967532530675374170857404743017623467220361778016172106855838975759985190398725 \n",
      "\n",
      "54877108839480000051413673948383714443800519309123592724494953427039811201064341234954387521525390615504949092187441218246679104731442473022013980160407007017175697317900483275246652938800 \n",
      "\n",
      "43466557686937456435688527675040625802564660517371780402481729089536555417949051890403879840079255169295922593080322634775209689623239873322471161642996440906533187938298969649928516003704476137795166849228875 \n",
      "\n"
     ]
    }
   ],
   "source": [
    "for i in range(1,11): print (fib(i*100),'\\n')"
   ]
  },
  {
   "cell_type": "markdown",
   "metadata": {},
   "source": [
    "En Python 3, le module `functools` exporte un décorateur, `@lru_cache`, \n",
    "qui construit un [cache LRU](https://en.wikipedia.org/wiki/Cache_replacement_policies#Least_Recently_Used_.28LRU.29)."
   ]
  },
  {
   "cell_type": "code",
   "execution_count": 26,
   "metadata": {},
   "outputs": [],
   "source": [
    "from functools import lru_cache\n",
    "@lru_cache()\n",
    "def fib2(n):\n",
    "    if n<2: return n\n",
    "    return fib2(n-1)+fib2(n-2)"
   ]
  },
  {
   "cell_type": "code",
   "execution_count": 27,
   "metadata": {},
   "outputs": [
    {
     "name": "stdout",
     "output_type": "stream",
     "text": [
      "354224848179261915075 \n",
      "\n",
      "280571172992510140037611932413038677189525 \n",
      "\n",
      "222232244629420445529739893461909967206666939096499764990979600 \n",
      "\n",
      "176023680645013966468226945392411250770384383304492191886725992896575345044216019675 \n",
      "\n",
      "139423224561697880139724382870407283950070256587697307264108962948325571622863290691557658876222521294125 \n",
      "\n",
      "110433070572952242346432246767718285942590237357555606380008891875277701705731473925618404421867819924194229142447517901959200 \n",
      "\n",
      "87470814955752846203978413017571327342367240967697381074230432592527501911290377655628227150878427331693193369109193672330777527943718169105124275 \n",
      "\n",
      "69283081864224717136290077681328518273399124385204820718966040597691435587278383112277161967532530675374170857404743017623467220361778016172106855838975759985190398725 \n",
      "\n",
      "54877108839480000051413673948383714443800519309123592724494953427039811201064341234954387521525390615504949092187441218246679104731442473022013980160407007017175697317900483275246652938800 \n",
      "\n",
      "43466557686937456435688527675040625802564660517371780402481729089536555417949051890403879840079255169295922593080322634775209689623239873322471161642996440906533187938298969649928516003704476137795166849228875 \n",
      "\n"
     ]
    }
   ],
   "source": [
    "for i in range(1,11): print (fib2(i*100),'\\n')"
   ]
  },
  {
   "cell_type": "markdown",
   "metadata": {},
   "source": [
    "### Exemple : mesure du temps d'éxécution d'une fonction :"
   ]
  },
  {
   "cell_type": "code",
   "execution_count": 28,
   "metadata": {},
   "outputs": [],
   "source": [
    "import time\n",
    "\n",
    "def timeit(f):\n",
    "    def timed(*args, **kw):\n",
    "        ts = time.time()\n",
    "        result = f(*args, **kw)\n",
    "        te = time.time()\n",
    "        print ('%r (%r, %r) %2.2f sec' % (f.__name__, args, kw, te-ts))\n",
    "        return result\n",
    "    return timed"
   ]
  },
  {
   "cell_type": "code",
   "execution_count": 29,
   "metadata": {},
   "outputs": [
    {
     "name": "stdout",
     "output_type": "stream",
     "text": [
      "début\n",
      "fin\n",
      "'g' ((3.145926535,), {}) 3.15 sec\n"
     ]
    }
   ],
   "source": [
    "@timeit\n",
    "def g(t):\n",
    "    print ('début')\n",
    "    time.sleep(t)\n",
    "    print ('fin')\n",
    "    \n",
    "g(3.145926535)"
   ]
  },
  {
   "cell_type": "code",
   "execution_count": 30,
   "metadata": {},
   "outputs": [
    {
     "name": "stdout",
     "output_type": "stream",
     "text": [
      "Fini !\n",
      "'__init__' ((<__main__.C object at 0x7f88e81ba710>,), {}) 2.72 sec\n"
     ]
    }
   ],
   "source": [
    "class C(object):\n",
    "    @timeit\n",
    "    def __init__(self):\n",
    "        time.sleep(2.718281828)\n",
    "        print ('Fini !')\n",
    "\n",
    "c=C()"
   ]
  },
  {
   "cell_type": "markdown",
   "metadata": {},
   "source": [
    "### Exemple : vérifier le type d'un argument :"
   ]
  },
  {
   "cell_type": "code",
   "execution_count": 31,
   "metadata": {},
   "outputs": [],
   "source": [
    "def require_int(f):\n",
    "    def wrapper (arg):\n",
    "        assert isinstance(arg, int)\n",
    "        return f(arg)\n",
    "    return wrapper\n",
    "\n",
    "@require_int\n",
    "def h(n):\n",
    "    print  (n, \" est un entier.\")"
   ]
  },
  {
   "cell_type": "code",
   "execution_count": 32,
   "metadata": {},
   "outputs": [
    {
     "name": "stdout",
     "output_type": "stream",
     "text": [
      "42  est un entier.\n"
     ]
    }
   ],
   "source": [
    "h(42)"
   ]
  },
  {
   "cell_type": "code",
   "execution_count": 33,
   "metadata": {},
   "outputs": [
    {
     "ename": "AssertionError",
     "evalue": "",
     "output_type": "error",
     "traceback": [
      "\u001b[0;31m---------------------------------------------------------------------------\u001b[0m",
      "\u001b[0;31mAssertionError\u001b[0m                            Traceback (most recent call last)",
      "\u001b[0;32m<ipython-input-33-aa7d89a8c751>\u001b[0m in \u001b[0;36m<module>\u001b[0;34m\u001b[0m\n\u001b[0;32m----> 1\u001b[0;31m \u001b[0mh\u001b[0m\u001b[0;34m(\u001b[0m\u001b[0;36m2.71828\u001b[0m\u001b[0;34m)\u001b[0m\u001b[0;34m\u001b[0m\u001b[0;34m\u001b[0m\u001b[0m\n\u001b[0m",
      "\u001b[0;32m<ipython-input-31-e93f4cb037ac>\u001b[0m in \u001b[0;36mwrapper\u001b[0;34m(arg)\u001b[0m\n\u001b[1;32m      1\u001b[0m \u001b[0;32mdef\u001b[0m \u001b[0mrequire_int\u001b[0m\u001b[0;34m(\u001b[0m\u001b[0mf\u001b[0m\u001b[0;34m)\u001b[0m\u001b[0;34m:\u001b[0m\u001b[0;34m\u001b[0m\u001b[0;34m\u001b[0m\u001b[0m\n\u001b[1;32m      2\u001b[0m     \u001b[0;32mdef\u001b[0m \u001b[0mwrapper\u001b[0m \u001b[0;34m(\u001b[0m\u001b[0marg\u001b[0m\u001b[0;34m)\u001b[0m\u001b[0;34m:\u001b[0m\u001b[0;34m\u001b[0m\u001b[0;34m\u001b[0m\u001b[0m\n\u001b[0;32m----> 3\u001b[0;31m         \u001b[0;32massert\u001b[0m \u001b[0misinstance\u001b[0m\u001b[0;34m(\u001b[0m\u001b[0marg\u001b[0m\u001b[0;34m,\u001b[0m \u001b[0mint\u001b[0m\u001b[0;34m)\u001b[0m\u001b[0;34m\u001b[0m\u001b[0;34m\u001b[0m\u001b[0m\n\u001b[0m\u001b[1;32m      4\u001b[0m         \u001b[0;32mreturn\u001b[0m \u001b[0mf\u001b[0m\u001b[0;34m(\u001b[0m\u001b[0marg\u001b[0m\u001b[0;34m)\u001b[0m\u001b[0;34m\u001b[0m\u001b[0;34m\u001b[0m\u001b[0m\n\u001b[1;32m      5\u001b[0m     \u001b[0;32mreturn\u001b[0m \u001b[0mwrapper\u001b[0m\u001b[0;34m\u001b[0m\u001b[0;34m\u001b[0m\u001b[0m\n",
      "\u001b[0;31mAssertionError\u001b[0m: "
     ]
    }
   ],
   "source": [
    "h(2.71828)"
   ]
  },
  {
   "cell_type": "markdown",
   "metadata": {},
   "source": [
    "Les décorateurs peuvent être empilés :"
   ]
  },
  {
   "cell_type": "code",
   "execution_count": 34,
   "metadata": {},
   "outputs": [],
   "source": [
    "@timeit\n",
    "@require_int\n",
    "def rien(n):\n",
    "    time.sleep(n)\n",
    "    print ('Fini')"
   ]
  },
  {
   "cell_type": "code",
   "execution_count": 35,
   "metadata": {},
   "outputs": [
    {
     "name": "stdout",
     "output_type": "stream",
     "text": [
      "Fini\n",
      "'wrapper' ((3,), {}) 3.00 sec\n"
     ]
    }
   ],
   "source": [
    "rien(3)"
   ]
  },
  {
   "cell_type": "code",
   "execution_count": 36,
   "metadata": {},
   "outputs": [
    {
     "ename": "AssertionError",
     "evalue": "",
     "output_type": "error",
     "traceback": [
      "\u001b[0;31m---------------------------------------------------------------------------\u001b[0m",
      "\u001b[0;31mAssertionError\u001b[0m                            Traceback (most recent call last)",
      "\u001b[0;32m<ipython-input-36-11fdd05a28be>\u001b[0m in \u001b[0;36m<module>\u001b[0;34m\u001b[0m\n\u001b[0;32m----> 1\u001b[0;31m \u001b[0mrien\u001b[0m\u001b[0;34m(\u001b[0m\u001b[0;36m3.0\u001b[0m\u001b[0;34m)\u001b[0m\u001b[0;34m\u001b[0m\u001b[0;34m\u001b[0m\u001b[0m\n\u001b[0m",
      "\u001b[0;32m<ipython-input-28-a9c27c89792e>\u001b[0m in \u001b[0;36mtimed\u001b[0;34m(*args, **kw)\u001b[0m\n\u001b[1;32m      4\u001b[0m     \u001b[0;32mdef\u001b[0m \u001b[0mtimed\u001b[0m\u001b[0;34m(\u001b[0m\u001b[0;34m*\u001b[0m\u001b[0margs\u001b[0m\u001b[0;34m,\u001b[0m \u001b[0;34m**\u001b[0m\u001b[0mkw\u001b[0m\u001b[0;34m)\u001b[0m\u001b[0;34m:\u001b[0m\u001b[0;34m\u001b[0m\u001b[0;34m\u001b[0m\u001b[0m\n\u001b[1;32m      5\u001b[0m         \u001b[0mts\u001b[0m \u001b[0;34m=\u001b[0m \u001b[0mtime\u001b[0m\u001b[0;34m.\u001b[0m\u001b[0mtime\u001b[0m\u001b[0;34m(\u001b[0m\u001b[0;34m)\u001b[0m\u001b[0;34m\u001b[0m\u001b[0;34m\u001b[0m\u001b[0m\n\u001b[0;32m----> 6\u001b[0;31m         \u001b[0mresult\u001b[0m \u001b[0;34m=\u001b[0m \u001b[0mf\u001b[0m\u001b[0;34m(\u001b[0m\u001b[0;34m*\u001b[0m\u001b[0margs\u001b[0m\u001b[0;34m,\u001b[0m \u001b[0;34m**\u001b[0m\u001b[0mkw\u001b[0m\u001b[0;34m)\u001b[0m\u001b[0;34m\u001b[0m\u001b[0;34m\u001b[0m\u001b[0m\n\u001b[0m\u001b[1;32m      7\u001b[0m         \u001b[0mte\u001b[0m \u001b[0;34m=\u001b[0m \u001b[0mtime\u001b[0m\u001b[0;34m.\u001b[0m\u001b[0mtime\u001b[0m\u001b[0;34m(\u001b[0m\u001b[0;34m)\u001b[0m\u001b[0;34m\u001b[0m\u001b[0;34m\u001b[0m\u001b[0m\n\u001b[1;32m      8\u001b[0m         \u001b[0mprint\u001b[0m \u001b[0;34m(\u001b[0m\u001b[0;34m'%r (%r, %r) %2.2f sec'\u001b[0m \u001b[0;34m%\u001b[0m \u001b[0;34m(\u001b[0m\u001b[0mf\u001b[0m\u001b[0;34m.\u001b[0m\u001b[0m__name__\u001b[0m\u001b[0;34m,\u001b[0m \u001b[0margs\u001b[0m\u001b[0;34m,\u001b[0m \u001b[0mkw\u001b[0m\u001b[0;34m,\u001b[0m \u001b[0mte\u001b[0m\u001b[0;34m-\u001b[0m\u001b[0mts\u001b[0m\u001b[0;34m)\u001b[0m\u001b[0;34m)\u001b[0m\u001b[0;34m\u001b[0m\u001b[0;34m\u001b[0m\u001b[0m\n",
      "\u001b[0;32m<ipython-input-31-e93f4cb037ac>\u001b[0m in \u001b[0;36mwrapper\u001b[0;34m(arg)\u001b[0m\n\u001b[1;32m      1\u001b[0m \u001b[0;32mdef\u001b[0m \u001b[0mrequire_int\u001b[0m\u001b[0;34m(\u001b[0m\u001b[0mf\u001b[0m\u001b[0;34m)\u001b[0m\u001b[0;34m:\u001b[0m\u001b[0;34m\u001b[0m\u001b[0;34m\u001b[0m\u001b[0m\n\u001b[1;32m      2\u001b[0m     \u001b[0;32mdef\u001b[0m \u001b[0mwrapper\u001b[0m \u001b[0;34m(\u001b[0m\u001b[0marg\u001b[0m\u001b[0;34m)\u001b[0m\u001b[0;34m:\u001b[0m\u001b[0;34m\u001b[0m\u001b[0;34m\u001b[0m\u001b[0m\n\u001b[0;32m----> 3\u001b[0;31m         \u001b[0;32massert\u001b[0m \u001b[0misinstance\u001b[0m\u001b[0;34m(\u001b[0m\u001b[0marg\u001b[0m\u001b[0;34m,\u001b[0m \u001b[0mint\u001b[0m\u001b[0;34m)\u001b[0m\u001b[0;34m\u001b[0m\u001b[0;34m\u001b[0m\u001b[0m\n\u001b[0m\u001b[1;32m      4\u001b[0m         \u001b[0;32mreturn\u001b[0m \u001b[0mf\u001b[0m\u001b[0;34m(\u001b[0m\u001b[0marg\u001b[0m\u001b[0;34m)\u001b[0m\u001b[0;34m\u001b[0m\u001b[0;34m\u001b[0m\u001b[0m\n\u001b[1;32m      5\u001b[0m     \u001b[0;32mreturn\u001b[0m \u001b[0mwrapper\u001b[0m\u001b[0;34m\u001b[0m\u001b[0;34m\u001b[0m\u001b[0m\n",
      "\u001b[0;31mAssertionError\u001b[0m: "
     ]
    }
   ],
   "source": [
    "rien(3.0)"
   ]
  },
  {
   "cell_type": "markdown",
   "metadata": {},
   "source": [
    "On remarque que l'erreur est attribuée à la fonction `wrapper`. Si on n'a pas sous les yeux le code des décorateurs utilisés,\n",
    "on peut chercher longtemps l'origine du problème ..."
   ]
  },
  {
   "cell_type": "markdown",
   "metadata": {},
   "source": [
    "### Décorateurs avec arguments\n",
    "\n",
    "```pytyhon\n",
    "@dec(argA, argB)\n",
    "def f(arg1, arg2):\n",
    "    pass\n",
    "```\n",
    "est équivalent à\n",
    "```python\n",
    "def f(arg1, arg2):\n",
    "    pass\n",
    "f = dec(argA, argB)(f)\n",
    "```\n",
    "\n",
    "C'est donc équivalent à créer une fonction composée\n",
    "`f = dec(argA, argB)(f)` \n",
    "\n",
    "Autrement dit, `dec(argA, argB)` doit être un décorateur.\n",
    "\n",
    "\n",
    "\n",
    "### Exemple : ajouter un attribut à une fonction :\n"
   ]
  },
  {
   "cell_type": "code",
   "execution_count": 37,
   "metadata": {},
   "outputs": [],
   "source": [
    "def add_attr(val):\n",
    "    def decorated(f):\n",
    "        f.attribute = val\n",
    "        return f\n",
    "    return decorated\n",
    "\n",
    "@add_attr('Nouvel attribut')\n",
    "def f():\n",
    "    pass"
   ]
  },
  {
   "cell_type": "code",
   "execution_count": 38,
   "metadata": {},
   "outputs": [
    {
     "data": {
      "text/plain": [
       "'Nouvel attribut'"
      ]
     },
     "execution_count": 38,
     "metadata": {},
     "output_type": "execute_result"
    }
   ],
   "source": [
    "f.attribute"
   ]
  },
  {
   "cell_type": "markdown",
   "metadata": {},
   "source": [
    "### Exemple : tester le type de la valeur retournée par une fonction :"
   ]
  },
  {
   "cell_type": "code",
   "execution_count": 39,
   "metadata": {},
   "outputs": [],
   "source": [
    "def return_bool(bool_value):\n",
    "    def wrapper(func):\n",
    "        def wrapped(*args):\n",
    "            result = func(*args)\n",
    "            if result != bool_value:\n",
    "                raise TypeError\n",
    "            return result\n",
    "        return wrapped\n",
    "    return wrapper\n",
    "\n",
    "@return_bool(True)\n",
    "def always_true():\n",
    "    return True\n",
    "\n",
    "@return_bool(False)\n",
    "def always_false():\n",
    "    return True"
   ]
  },
  {
   "cell_type": "code",
   "execution_count": 40,
   "metadata": {},
   "outputs": [
    {
     "data": {
      "text/plain": [
       "True"
      ]
     },
     "execution_count": 40,
     "metadata": {},
     "output_type": "execute_result"
    }
   ],
   "source": [
    "always_true()"
   ]
  },
  {
   "cell_type": "code",
   "execution_count": 41,
   "metadata": {},
   "outputs": [
    {
     "ename": "TypeError",
     "evalue": "",
     "output_type": "error",
     "traceback": [
      "\u001b[0;31m---------------------------------------------------------------------------\u001b[0m",
      "\u001b[0;31mTypeError\u001b[0m                                 Traceback (most recent call last)",
      "\u001b[0;32m<ipython-input-41-644ede37e897>\u001b[0m in \u001b[0;36m<module>\u001b[0;34m\u001b[0m\n\u001b[0;32m----> 1\u001b[0;31m \u001b[0malways_false\u001b[0m\u001b[0;34m(\u001b[0m\u001b[0;34m)\u001b[0m\u001b[0;34m\u001b[0m\u001b[0;34m\u001b[0m\u001b[0m\n\u001b[0m",
      "\u001b[0;32m<ipython-input-39-d96151da2fbc>\u001b[0m in \u001b[0;36mwrapped\u001b[0;34m(*args)\u001b[0m\n\u001b[1;32m      4\u001b[0m             \u001b[0mresult\u001b[0m \u001b[0;34m=\u001b[0m \u001b[0mfunc\u001b[0m\u001b[0;34m(\u001b[0m\u001b[0;34m*\u001b[0m\u001b[0margs\u001b[0m\u001b[0;34m)\u001b[0m\u001b[0;34m\u001b[0m\u001b[0;34m\u001b[0m\u001b[0m\n\u001b[1;32m      5\u001b[0m             \u001b[0;32mif\u001b[0m \u001b[0mresult\u001b[0m \u001b[0;34m!=\u001b[0m \u001b[0mbool_value\u001b[0m\u001b[0;34m:\u001b[0m\u001b[0;34m\u001b[0m\u001b[0;34m\u001b[0m\u001b[0m\n\u001b[0;32m----> 6\u001b[0;31m                 \u001b[0;32mraise\u001b[0m \u001b[0mTypeError\u001b[0m\u001b[0;34m\u001b[0m\u001b[0;34m\u001b[0m\u001b[0m\n\u001b[0m\u001b[1;32m      7\u001b[0m             \u001b[0;32mreturn\u001b[0m \u001b[0mresult\u001b[0m\u001b[0;34m\u001b[0m\u001b[0;34m\u001b[0m\u001b[0m\n\u001b[1;32m      8\u001b[0m         \u001b[0;32mreturn\u001b[0m \u001b[0mwrapped\u001b[0m\u001b[0;34m\u001b[0m\u001b[0;34m\u001b[0m\u001b[0m\n",
      "\u001b[0;31mTypeError\u001b[0m: "
     ]
    }
   ],
   "source": [
    "always_false()"
   ]
  },
  {
   "cell_type": "markdown",
   "metadata": {},
   "source": [
    "### Décorateurs définis par des classes\n",
    "\n",
    "La seule contrainte sur l'objet retourné par un décorateur est\n",
    "qu'il se comporte comme une fonction (*duck typing*), autrement\n",
    "dit qu'il soit *callable*.\n",
    "\n",
    "C'est le cas de toute classe possédant la méthode spéciale `__call__`.\n",
    "\n",
    "```Python\n",
    "class MyDecorator(object):\n",
    "    def __init__(self, f):\n",
    "    # faire quelquechose avec f ...\n",
    "   def __call__(*args):\n",
    "    # faire autre chose avec args\n",
    "```"
   ]
  },
  {
   "cell_type": "code",
   "execution_count": 43,
   "metadata": {},
   "outputs": [],
   "source": [
    "class Memoized(object):\n",
    "   def __init__(self, f):\n",
    "      self.f = f\n",
    "      self.cache = {}\n",
    "   def __call__(self, *args):\n",
    "      if args in self.cache:\n",
    "         return self.cache[args]\n",
    "      else:\n",
    "         value = self.f(*args)\n",
    "         self.cache[args] = value\n",
    "         return value\n",
    "   def __repr__(self):\n",
    "      '''Return the function's docstring.'''\n",
    "      return self.f.__doc__\n",
    "    \n",
    "   def __str__(self): return 'toto'"
   ]
  },
  {
   "cell_type": "code",
   "execution_count": 44,
   "metadata": {},
   "outputs": [],
   "source": [
    "@Memoized\n",
    "def lucas(n):\n",
    "    \"Calcule la suite de Lucas\"\n",
    "    if n==0: return 2\n",
    "    elif n==1: return 1\n",
    "    else: return lucas(n-1)+lucas(n-2)"
   ]
  },
  {
   "cell_type": "code",
   "execution_count": 45,
   "metadata": {},
   "outputs": [
    {
     "name": "stdout",
     "output_type": "stream",
     "text": [
      "[2, 1, 3, 4, 7, 11, 18, 29, 47, 76, 123, 199, 322, 521, 843, 1364, 2207, 3571, 5778, 9349, 15127, 24476, 39603, 64079, 103682, 167761, 271443, 439204, 710647, 1149851, 1860498, 3010349, 4870847, 7881196, 12752043, 20633239, 33385282, 54018521, 87403803, 141422324, 228826127, 370248451, 599074578, 969323029, 1568397607, 2537720636, 4106118243, 6643838879, 10749957122, 17393796001]\n"
     ]
    }
   ],
   "source": [
    "print ([lucas(i) for i in range(50)])"
   ]
  },
  {
   "cell_type": "code",
   "execution_count": 49,
   "metadata": {},
   "outputs": [
    {
     "name": "stdout",
     "output_type": "stream",
     "text": [
      "<function memoize.<locals>.memoized at 0x7f88e84b28c0>\n"
     ]
    }
   ],
   "source": [
    "print(fib)"
   ]
  },
  {
   "cell_type": "code",
   "execution_count": 47,
   "metadata": {},
   "outputs": [
    {
     "data": {
      "text/plain": [
       "Calcule la suite de Lucas"
      ]
     },
     "execution_count": 47,
     "metadata": {},
     "output_type": "execute_result"
    }
   ],
   "source": [
    "lucas"
   ]
  },
  {
   "cell_type": "code",
   "execution_count": 48,
   "metadata": {},
   "outputs": [
    {
     "name": "stdout",
     "output_type": "stream",
     "text": [
      "toto\n"
     ]
    }
   ],
   "source": [
    "print(lucas)"
   ]
  },
  {
   "cell_type": "markdown",
   "metadata": {},
   "source": [
    "### Exemple : permettre à une fonction de compter combien de fois elle a été appélée :"
   ]
  },
  {
   "cell_type": "code",
   "execution_count": 50,
   "metadata": {},
   "outputs": [],
   "source": [
    "class countcalls(object):\n",
    "    def __init__(self, func):\n",
    "        self.__func = func\n",
    "        self.__numcalls = 0\n",
    "    def __call__(self, *args, **kwargs):\n",
    "        self.__numcalls += 1\n",
    "        return self.__func(*args, **kwargs)\n",
    "    def count(self):\n",
    "        return self.__numcalls"
   ]
  },
  {
   "cell_type": "code",
   "execution_count": 51,
   "metadata": {},
   "outputs": [
    {
     "name": "stdout",
     "output_type": "stream",
     "text": [
      "* * * * * * +\n",
      "* +\n",
      "* +\n",
      "* +\n"
     ]
    }
   ],
   "source": [
    "@countcalls\n",
    "def p(): print ('*',end=' ')\n",
    "\n",
    "@countcalls\n",
    "def q(): print ('+')\n",
    "\n",
    "for i in range(5):\n",
    "    p()\n",
    "\n",
    "for i in range(4):\n",
    "    p();q()"
   ]
  },
  {
   "cell_type": "code",
   "execution_count": 52,
   "metadata": {},
   "outputs": [
    {
     "data": {
      "text/plain": [
       "(9, 4)"
      ]
     },
     "execution_count": 52,
     "metadata": {},
     "output_type": "execute_result"
    }
   ],
   "source": [
    "p.count(), q.count()"
   ]
  },
  {
   "cell_type": "markdown",
   "metadata": {},
   "source": [
    "### Méthodes de classes et méthodes statiques\n",
    "\n",
    "On a déjà vu la différence entre les variables des classes et celles des instances :\n"
   ]
  },
  {
   "cell_type": "code",
   "execution_count": 54,
   "metadata": {},
   "outputs": [],
   "source": [
    "class A(object):\n",
    "    c = 0\n",
    "    def __init__(self):\n",
    "        self.c +=1\n",
    "\n",
    "class B(object):\n",
    "    c = 0\n",
    "    def __init__(self):\n",
    "        B.c +=1\n"
   ]
  },
  {
   "cell_type": "code",
   "execution_count": 55,
   "metadata": {},
   "outputs": [
    {
     "name": "stdout",
     "output_type": "stream",
     "text": [
      "1 1 0\n"
     ]
    }
   ],
   "source": [
    "a=A(); b=A()\n",
    "print (a.c, b.c, A.c)"
   ]
  },
  {
   "cell_type": "code",
   "execution_count": 56,
   "metadata": {},
   "outputs": [
    {
     "name": "stdout",
     "output_type": "stream",
     "text": [
      "2 2 2\n"
     ]
    }
   ],
   "source": [
    "x=B(); y=B()\n",
    "print (x.c, y.c, B.c)"
   ]
  },
  {
   "cell_type": "markdown",
   "metadata": {},
   "source": [
    "Les méthodes normales sont des méthodes d'instances.\n",
    "Leur premier argument doit être l'instance elle-même, conventionnellement\n",
    "appelée `self`.\n",
    "\n",
    "Il existe\n",
    "aussi des méthodes de classes. \n",
    "On les définit comme les méthodes d'instance,\n",
    "leur premier argument est alors la classe\n",
    "elle-même, conventionnellement appelée `cls`,  puis on les\n",
    "passe à la fonction `classmethod` :"
   ]
  },
  {
   "cell_type": "code",
   "execution_count": 37,
   "metadata": {},
   "outputs": [],
   "source": [
    "class ASimpleClass(object):\n",
    "    description = 'a simple class'\n",
    "    def show_class(cls, msg):\n",
    "        print ('%s: %s' % (cls.description , msg, ))\n",
    "        show_class = classmethod(show_class)"
   ]
  },
  {
   "cell_type": "markdown",
   "metadata": {},
   "source": [
    "C'est plus clair avec un décorateur :"
   ]
  },
  {
   "cell_type": "code",
   "execution_count": 38,
   "metadata": {},
   "outputs": [],
   "source": [
    "class ASimpleClass(object):\n",
    "    description = 'a simple class'\n",
    "    @classmethod\n",
    "    def show_class(cls, msg):\n",
    "        print ('%s: %s' % (cls.description , msg, ))"
   ]
  },
  {
   "cell_type": "markdown",
   "metadata": {},
   "source": [
    "Par exemple, la classe `B` qui tient un compte de ses instances pourrait s'écrire\n"
   ]
  },
  {
   "cell_type": "code",
   "execution_count": 39,
   "metadata": {},
   "outputs": [],
   "source": [
    "class B(object):\n",
    "    c = 0\n",
    "    def __init__(self):\n",
    "        B.c += 1\n",
    "\n",
    "    @classmethod\n",
    "    def compte_instances(cls):\n",
    "        print ('instances : %d' % (cls.c, ))"
   ]
  },
  {
   "cell_type": "markdown",
   "metadata": {},
   "source": [
    "Une méthode statique ne prend ni une instance ni la classe comme premier paramètre.\n",
    "Elle se définit à l'aide de la fonction `staticmethod` ou du décorateur\n",
    "`@staticmethod`.\n"
   ]
  },
  {
   "cell_type": "code",
   "execution_count": 40,
   "metadata": {},
   "outputs": [],
   "source": [
    "class B(object):\n",
    "    c = 0\n",
    "    def __init__(self):\n",
    "        B.c += 1\n",
    "\n",
    "    @staticmethod\n",
    "    def compte_instances():\n",
    "        print ('instances : %d' % (B.c, ))"
   ]
  },
  {
   "cell_type": "code",
   "execution_count": 41,
   "metadata": {},
   "outputs": [
    {
     "name": "stdout",
     "output_type": "stream",
     "text": [
      "instances : 3\n"
     ]
    }
   ],
   "source": [
    "a=B(); b=B(); c=B()\n",
    "B.compte_instances()"
   ]
  },
  {
   "cell_type": "markdown",
   "metadata": {},
   "source": [
    "## Itération, itérateurs et `itertools`\n",
    "\n",
    "Rappel :\n",
    "\n",
    "- Syntaxe de l'itération : `for x in <quelquechose>`\n",
    "- `quelquechose` peut être une liste, un tuple, une chaîne, un dictionnaire, un fichier ouvert, un ensemble ...\n",
    "- Ces objets itérables possèdent une méthode spéciale `__iter__`\n",
    "- On l'appelle au moyen de la fonction `iter`\n",
    "- Elle retourne un itérateur auquel on peut appliquer la fonction `next`\n"
   ]
  },
  {
   "cell_type": "code",
   "execution_count": 58,
   "metadata": {},
   "outputs": [
    {
     "data": {
      "text/plain": [
       "1"
      ]
     },
     "execution_count": 58,
     "metadata": {},
     "output_type": "execute_result"
    }
   ],
   "source": [
    "ll = [1, 2, 3, 4, 5]\n",
    "it = ll.__iter__()\n",
    "next(it)"
   ]
  },
  {
   "cell_type": "code",
   "execution_count": 59,
   "metadata": {},
   "outputs": [
    {
     "data": {
      "text/plain": [
       "2"
      ]
     },
     "execution_count": 59,
     "metadata": {},
     "output_type": "execute_result"
    }
   ],
   "source": [
    "next(it)"
   ]
  },
  {
   "cell_type": "markdown",
   "metadata": {},
   "source": [
    "Normalement, on écrit plûtôt"
   ]
  },
  {
   "cell_type": "code",
   "execution_count": 63,
   "metadata": {},
   "outputs": [
    {
     "data": {
      "text/plain": [
       "<list_iterator at 0x7f88e85cebd0>"
      ]
     },
     "execution_count": 63,
     "metadata": {},
     "output_type": "execute_result"
    }
   ],
   "source": [
    "ll = [1, 2, 3, 4, 5]\n",
    "it = iter(ll)\n",
    "it"
   ]
  },
  {
   "cell_type": "code",
   "execution_count": 64,
   "metadata": {},
   "outputs": [
    {
     "data": {
      "text/plain": [
       "[1, 2, 3, 4, 5]"
      ]
     },
     "execution_count": 64,
     "metadata": {},
     "output_type": "execute_result"
    }
   ],
   "source": [
    "list(it)"
   ]
  },
  {
   "cell_type": "code",
   "execution_count": 65,
   "metadata": {},
   "outputs": [
    {
     "data": {
      "text/plain": [
       "[]"
      ]
     },
     "execution_count": 65,
     "metadata": {},
     "output_type": "execute_result"
    }
   ],
   "source": [
    "list(it)"
   ]
  },
  {
   "cell_type": "markdown",
   "metadata": {},
   "source": [
    "On peut définir des classes qui supportent l'itération : il suffit\n",
    "d'implémenter les méthodes `__iter__` et `__next__`.\n",
    "\n",
    "Les boucles longues sont peu efficaces et sont une des principales causes\n",
    "de lenteur en Python. \n",
    "\n",
    "Pour des boucles sur les entiers, en Python 2, on utilisera `xrange` (un générateur\n",
    "écrit directement en C)\n",
    "plutôt que `range`.  \n",
    "\n",
    "Pour des itérations plus compliquées, on pourra utiliser le module `itertools`,\n",
    "qui propose des version optimisées d'opérations courantes, et de nombreuses fonctionnalités\n",
    "commodes.\n",
    "\n",
    "### On peut chainer des itérateurs :\n",
    "\n"
   ]
  },
  {
   "cell_type": "code",
   "execution_count": 18,
   "metadata": {},
   "outputs": [
    {
     "data": {
      "text/plain": [
       "[0, 1, 2, 3, 4, 5, 4, 3, 2, 1, 0]"
      ]
     },
     "execution_count": 18,
     "metadata": {},
     "output_type": "execute_result"
    }
   ],
   "source": [
    "from itertools import *\n",
    "\n",
    "it=chain(range(5),range(5,-1,-1))\n",
    "list(it)"
   ]
  },
  {
   "cell_type": "markdown",
   "metadata": {},
   "source": [
    "### ou les tricoter ... \n"
   ]
  },
  {
   "cell_type": "code",
   "execution_count": 19,
   "metadata": {},
   "outputs": [
    {
     "data": {
      "text/plain": [
       "[(0, 5), (1, 4), (2, 3), (3, 2), (4, 1)]"
      ]
     },
     "execution_count": 19,
     "metadata": {},
     "output_type": "execute_result"
    }
   ],
   "source": [
    "it=zip(range(5),range(5,-1,-1))\n",
    "list(it)"
   ]
  },
  {
   "cell_type": "markdown",
   "metadata": {},
   "source": [
    "### Compteurs\n",
    "\n",
    "`count(start,step=1)` engendre les entiers à partir de `start`\n",
    "avec les pas `step`. \n",
    "\n",
    "La fonction `islice(iterable,[start],stop,[step])`\n",
    "remplace `iterable[start:stop:step]`:\n"
   ]
  },
  {
   "cell_type": "code",
   "execution_count": 20,
   "metadata": {},
   "outputs": [
    {
     "data": {
      "text/plain": [
       "[12, 14, 16, 18, 20]"
      ]
     },
     "execution_count": 20,
     "metadata": {},
     "output_type": "execute_result"
    }
   ],
   "source": [
    "it=islice(count(5),7,17,2)\n",
    "list(it)"
   ]
  },
  {
   "cell_type": "markdown",
   "metadata": {},
   "source": [
    "### Prooduit cartésien\n",
    "\n",
    "Avec les mots binaires de 5 digits, on pourrait faire\n"
   ]
  },
  {
   "cell_type": "code",
   "execution_count": 21,
   "metadata": {},
   "outputs": [
    {
     "data": {
      "text/plain": [
       "['01', '01', '01', '01', '01']"
      ]
     },
     "execution_count": 21,
     "metadata": {},
     "output_type": "execute_result"
    }
   ],
   "source": [
    "['01' for i in range(5)]"
   ]
  },
  {
   "cell_type": "code",
   "execution_count": 22,
   "metadata": {},
   "outputs": [
    {
     "data": {
      "text/plain": [
       "[('0', '0', '0'),\n",
       " ('0', '0', '1'),\n",
       " ('0', '1', '0'),\n",
       " ('0', '1', '1'),\n",
       " ('1', '0', '0'),\n",
       " ('1', '0', '1'),\n",
       " ('1', '1', '0'),\n",
       " ('1', '1', '1')]"
      ]
     },
     "execution_count": 22,
     "metadata": {},
     "output_type": "execute_result"
    }
   ],
   "source": [
    "list(product('01','01','01'))"
   ]
  },
  {
   "cell_type": "code",
   "execution_count": 23,
   "metadata": {},
   "outputs": [
    {
     "data": {
      "text/plain": [
       "['0b10000',\n",
       " '0b10001',\n",
       " '0b10010',\n",
       " '0b10011',\n",
       " '0b10100',\n",
       " '0b10101',\n",
       " '0b10110',\n",
       " '0b10111']"
      ]
     },
     "execution_count": 23,
     "metadata": {},
     "output_type": "execute_result"
    }
   ],
   "source": [
    "list(map(bin,range(16,24)))"
   ]
  },
  {
   "cell_type": "code",
   "execution_count": 24,
   "metadata": {},
   "outputs": [
    {
     "data": {
      "text/plain": [
       "[('1', '0', '0', '0', '0'),\n",
       " ('1', '0', '0', '0', '1'),\n",
       " ('1', '0', '0', '1', '0'),\n",
       " ('1', '0', '0', '1', '1'),\n",
       " ('1', '0', '1', '0', '0'),\n",
       " ('1', '0', '1', '0', '1'),\n",
       " ('1', '0', '1', '1', '0'),\n",
       " ('1', '0', '1', '1', '1')]"
      ]
     },
     "execution_count": 24,
     "metadata": {},
     "output_type": "execute_result"
    }
   ],
   "source": [
    "words = product(*['01' for i in range(5)])\n",
    "ll=islice(words,16,24)\n",
    "\n",
    "list(ll)"
   ]
  },
  {
   "cell_type": "markdown",
   "metadata": {},
   "source": [
    "La fonction `product` renvoie\n",
    "le produit cartésien (les tuples) d'un nombre arbitraire d'itérables.\n",
    "\n",
    "On peut s'en servir pour construire les mots de longueur donnée\n",
    "sur un alphabet, comme dans ce craqueur de mots de passe basique :"
   ]
  },
  {
   "cell_type": "code",
   "execution_count": 25,
   "metadata": {},
   "outputs": [],
   "source": [
    "from crypt import crypt\n",
    "\n",
    "def words(alphabet,length):\n",
    "    return product(*[alphabet for i in range(length)])\n",
    "\n",
    "def crack(hash_, salt, alphabet,length):\n",
    "    ww = words(alphabet,length)\n",
    "    for w in ww:\n",
    "        p = crypt(''.join(w),salt)\n",
    "        if p == hash_:\n",
    "            print ('Password found: ', ''.join(w))\n",
    "            return ''.join(w)\n"
   ]
  },
  {
   "cell_type": "code",
   "execution_count": 26,
   "metadata": {},
   "outputs": [
    {
     "data": {
      "text/plain": [
       "'XYhc/C.XeLVM6'"
      ]
     },
     "execution_count": 26,
     "metadata": {},
     "output_type": "execute_result"
    }
   ],
   "source": [
    "from string import ascii_lowercase\n",
    "pw = 'gabu'\n",
    "slt ='XY'\n",
    "h = crypt(pw,slt)\n",
    "h"
   ]
  },
  {
   "cell_type": "code",
   "execution_count": 27,
   "metadata": {},
   "outputs": [
    {
     "name": "stdout",
     "output_type": "stream",
     "text": [
      "Password found:  gabu\n"
     ]
    },
    {
     "data": {
      "text/plain": [
       "'gabu'"
      ]
     },
     "execution_count": 27,
     "metadata": {},
     "output_type": "execute_result"
    }
   ],
   "source": [
    "crack(h,'XY',ascii_lowercase,4)"
   ]
  },
  {
   "cell_type": "markdown",
   "metadata": {},
   "source": [
    "Ce n'est pas très efficace (!) mais c'est simple ...\n",
    "\n",
    "\n",
    "### tee\n",
    "La fonction `tee(iterateur,n=2)` retourne $n$ copies\n",
    "identiques de l'itérateur :"
   ]
  },
  {
   "cell_type": "code",
   "execution_count": 28,
   "metadata": {},
   "outputs": [
    {
     "data": {
      "text/plain": [
       "[(0, 0, 0), (1, 1, 1), (2, 2, 2), (3, 3, 3), (4, 4, 4)]"
      ]
     },
     "execution_count": 28,
     "metadata": {},
     "output_type": "execute_result"
    }
   ],
   "source": [
    "it = islice(count(), 5)\n",
    "i1, i2, i3 = tee(it,3)\n",
    "[(next(i1), next(i2),next(i3)) for i in range(5)]"
   ]
  },
  {
   "cell_type": "code",
   "execution_count": 29,
   "metadata": {},
   "outputs": [
    {
     "data": {
      "text/plain": [
       "[]"
      ]
     },
     "execution_count": 29,
     "metadata": {},
     "output_type": "execute_result"
    }
   ],
   "source": [
    "list(it) # entièrement consommé"
   ]
  },
  {
   "cell_type": "markdown",
   "metadata": {},
   "source": [
    "### starmap\n",
    "La fonction `starmap` fonctionne comme `map`, mais\n",
    "calcule `f(*i)` :"
   ]
  },
  {
   "cell_type": "code",
   "execution_count": 30,
   "metadata": {},
   "outputs": [
    {
     "data": {
      "text/plain": [
       "['a', 'bb', 'ccc', 'dddd']"
      ]
     },
     "execution_count": 30,
     "metadata": {},
     "output_type": "execute_result"
    }
   ],
   "source": [
    "it = zip('abcd', range(1,5))\n",
    "ff = starmap(lambda x,y: x*y,it)\n",
    "list(ff)"
   ]
  },
  {
   "cell_type": "markdown",
   "metadata": {},
   "source": [
    "### cycle\n",
    "La fonction `cycle` répète indéfiniment un itérateur fini :\n"
   ]
  },
  {
   "cell_type": "code",
   "execution_count": 86,
   "metadata": {},
   "outputs": [
    {
     "data": {
      "text/plain": [
       "['b', 'l', 'a', 'b', 'l', 'a', 'b', 'l', 'a', 'b', 'l', 'a']"
      ]
     },
     "execution_count": 86,
     "metadata": {},
     "output_type": "execute_result"
    }
   ],
   "source": [
    "it = cycle('bla')\n",
    "[next(it) for i in range(12)]"
   ]
  },
  {
   "cell_type": "markdown",
   "metadata": {},
   "source": [
    "### repeat\n",
    "La fonction `repeat` fait ce qu'on imagine :"
   ]
  },
  {
   "cell_type": "code",
   "execution_count": 87,
   "metadata": {},
   "outputs": [
    {
     "data": {
      "text/plain": [
       "['bla', 'bla', 'bla', 'bla']"
      ]
     },
     "execution_count": 87,
     "metadata": {},
     "output_type": "execute_result"
    }
   ],
   "source": [
    "it=repeat('bla',4)\n",
    "list(it)"
   ]
  },
  {
   "cell_type": "markdown",
   "metadata": {},
   "source": [
    "On l'utilise en combinaison avec `map` ou `zip` :"
   ]
  },
  {
   "cell_type": "code",
   "execution_count": 60,
   "metadata": {},
   "outputs": [
    {
     "data": {
      "text/plain": [
       "[(0, 2, 'a'), (1, 2, 'b'), (2, 2, 'c'), (3, 2, 'd')]"
      ]
     },
     "execution_count": 60,
     "metadata": {},
     "output_type": "execute_result"
    }
   ],
   "source": [
    "it = zip(range(5), repeat(2), 'abcd')\n",
    "list(it)"
   ]
  },
  {
   "cell_type": "markdown",
   "metadata": {},
   "source": [
    "### Filtrage \n",
    "Le filtrage s'effectue au moyen des fonctions \n",
    "`dropwhile, takewhile, filter, filterfalse` :"
   ]
  },
  {
   "cell_type": "code",
   "execution_count": 61,
   "metadata": {},
   "outputs": [
    {
     "data": {
      "text/plain": [
       "[0, 1, 2, 3, 4, 5, 6, 7, 8, 9]"
      ]
     },
     "execution_count": 61,
     "metadata": {},
     "output_type": "execute_result"
    }
   ],
   "source": [
    "it=takewhile(lambda x:x*x<100, count())\n",
    "list(it)"
   ]
  },
  {
   "cell_type": "code",
   "execution_count": 62,
   "metadata": {},
   "outputs": [
    {
     "data": {
      "text/plain": [
       "[0, 1, 2, 3, 4]"
      ]
     },
     "execution_count": 62,
     "metadata": {},
     "output_type": "execute_result"
    }
   ],
   "source": [
    "it=dropwhile(lambda x:x<0, range(-6,5))\n",
    "list(it)"
   ]
  },
  {
   "cell_type": "code",
   "execution_count": 63,
   "metadata": {},
   "outputs": [
    {
     "data": {
      "text/plain": [
       "[1, 3, 5, 7, 9]"
      ]
     },
     "execution_count": 63,
     "metadata": {},
     "output_type": "execute_result"
    }
   ],
   "source": [
    "it=filter(lambda x:x%2, range(10))\n",
    "list(it)"
   ]
  },
  {
   "cell_type": "code",
   "execution_count": 64,
   "metadata": {},
   "outputs": [
    {
     "data": {
      "text/plain": [
       "[0, 2, 4, 6, 8]"
      ]
     },
     "execution_count": 64,
     "metadata": {},
     "output_type": "execute_result"
    }
   ],
   "source": [
    "it=filterfalse(lambda x:x%2, range(10))\n",
    "list(it)"
   ]
  },
  {
   "cell_type": "markdown",
   "metadata": {},
   "source": [
    "### groupby\n",
    "\n",
    "Plus complexe : `groupby` construit un itérateur qui renvoie\n",
    "les clés et groupes consécutifs d'un itérable.La clé `key`\n",
    "est une fonction qui calcule une valeur sur chaque élément. Par défaut,\n",
    "c'est l'identité. \n",
    "\n",
    "On pourra donc écrire"
   ]
  },
  {
   "cell_type": "code",
   "execution_count": 65,
   "metadata": {},
   "outputs": [
    {
     "data": {
      "text/plain": [
       "[1, 2, 1, 4, 5, 2, 1, 3, 1]"
      ]
     },
     "execution_count": 65,
     "metadata": {},
     "output_type": "execute_result"
    }
   ],
   "source": [
    "ll = [1,2,2,2,1,1,4,4,5,5,2,2,1,1,3,3,1,1]\n",
    "it=groupby(ll)\n",
    "[k for k,g in it]"
   ]
  },
  {
   "cell_type": "markdown",
   "metadata": {},
   "source": [
    "Le résultat complet serait"
   ]
  },
  {
   "cell_type": "code",
   "execution_count": 66,
   "metadata": {},
   "outputs": [
    {
     "data": {
      "text/plain": [
       "[(1, [1]),\n",
       " (2, [2, 2, 2]),\n",
       " (1, [1, 1]),\n",
       " (4, [4, 4]),\n",
       " (5, [5, 5]),\n",
       " (2, [2, 2]),\n",
       " (1, [1, 1]),\n",
       " (3, [3, 3]),\n",
       " (1, [1, 1])]"
      ]
     },
     "execution_count": 66,
     "metadata": {},
     "output_type": "execute_result"
    }
   ],
   "source": [
    "it=groupby(ll)\n",
    "[(k, list(g))  for k,g in it]"
   ]
  },
  {
   "cell_type": "code",
   "execution_count": 67,
   "metadata": {},
   "outputs": [
    {
     "data": {
      "text/plain": [
       "[(1, ['a']), (2, ['b', 'c']), (1, ['d']), (2, ['e']), (1, ['f'])]"
      ]
     },
     "execution_count": 67,
     "metadata": {},
     "output_type": "execute_result"
    }
   ],
   "source": [
    "ll = [('a',1), ('b',2), ('c',2), ('d',1), ('e',2), ('f',1)]\n",
    "it=groupby(ll, lambda x: x[1])\n",
    "[(k, list(map(lambda y:y[0],g)) ) for k,g in it]"
   ]
  },
  {
   "cell_type": "markdown",
   "metadata": {},
   "source": [
    "Finalement, on dispose de quelques fonctions combinatoires basiques :"
   ]
  },
  {
   "cell_type": "code",
   "execution_count": 68,
   "metadata": {},
   "outputs": [
    {
     "data": {
      "text/plain": [
       "[('a', 'b'), ('a', 'c'), ('a', 'd'), ('b', 'c'), ('b', 'd'), ('c', 'd')]"
      ]
     },
     "execution_count": 68,
     "metadata": {},
     "output_type": "execute_result"
    }
   ],
   "source": [
    "it=combinations('abcd',2)\n",
    "list(it)"
   ]
  },
  {
   "cell_type": "code",
   "execution_count": 69,
   "metadata": {},
   "outputs": [
    {
     "data": {
      "text/plain": [
       "[('a', 'a'),\n",
       " ('a', 'b'),\n",
       " ('a', 'c'),\n",
       " ('a', 'd'),\n",
       " ('b', 'b'),\n",
       " ('b', 'c'),\n",
       " ('b', 'd'),\n",
       " ('c', 'c'),\n",
       " ('c', 'd'),\n",
       " ('d', 'd')]"
      ]
     },
     "execution_count": 69,
     "metadata": {},
     "output_type": "execute_result"
    }
   ],
   "source": [
    "it=combinations_with_replacement('abcd',2)\n",
    "list(it)"
   ]
  },
  {
   "cell_type": "code",
   "execution_count": 89,
   "metadata": {},
   "outputs": [
    {
     "data": {
      "text/plain": [
       "[(1, 2, 3), (1, 3, 2), (2, 1, 3), (2, 3, 1), (3, 1, 2), (3, 2, 1)]"
      ]
     },
     "execution_count": 89,
     "metadata": {},
     "output_type": "execute_result"
    }
   ],
   "source": [
    "it=permutations(range(1,4))\n",
    "list(it)"
   ]
  },
  {
   "cell_type": "markdown",
   "metadata": {},
   "source": [
    "## Autres optimisations\n",
    "\n",
    "Le module `operator` propose des fonctions optimisées\n",
    "pour remplacer les opérateurs standards de Python (ex. `add(x,y)`).\n",
    "\n",
    "Le module `collections` fournit des structures de données\n",
    "hautes performances pour remplacer  `dict, list, set, tuple` :\n",
    "`namedtuple(), deque, Counter, OrderedDict, defaultdict`.\n",
    "\n",
    "Le module `array` fournit des tableaux optimisés pour \n",
    "des types de données basiques (caractères, entiers, flottants ...)\n"
   ]
  },
  {
   "cell_type": "markdown",
   "metadata": {},
   "source": [
    "## Le module `ctypes`\n",
    "\n",
    "Il permet d'utiliser des bibliothèques partagées, avec des types de\n",
    "données compatibles au C."
   ]
  },
  {
   "cell_type": "code",
   "execution_count": 91,
   "metadata": {},
   "outputs": [],
   "source": [
    "from ctypes import *\n",
    "libc =  cdll.LoadLibrary(\"libc.so.6\")"
   ]
  },
  {
   "cell_type": "code",
   "execution_count": 92,
   "metadata": {},
   "outputs": [
    {
     "data": {
      "text/plain": [
       "13"
      ]
     },
     "execution_count": 92,
     "metadata": {},
     "output_type": "execute_result"
    }
   ],
   "source": [
    "printf=libc.printf\n",
    "printf(b\"%s\\n\", b\"Hello world!\") # noter le b\"\" nécessaire pour python 3"
   ]
  },
  {
   "cell_type": "markdown",
   "metadata": {},
   "source": [
    "```\n",
    "...\n",
    "[I 08:28:51.990 NotebookApp] Saving file at /python3_M1_2020-5.ipynb\n",
    "Hello world!\n",
    "[I 08:38:52.001 NotebookApp] Saving file at /python3_M1_2020-5.ipynb\n",
    "...\n",
    "```"
   ]
  },
  {
   "cell_type": "markdown",
   "metadata": {},
   "source": [
    "Le résultat s'est affiché sur le terminal dans lequel on a lancé l'interface graphique ...\n",
    "\n",
    "Dans un terminal, on obtiendrait\n",
    "```Python\n",
    ">>> from ctypes import *\n",
    ">>> libc =  cdll.LoadLibrary(\"libc.so.6\")\n",
    ">>> printf=libc.printf\n",
    ">>> printf(b\"%s\\n\", b\"Hello world!\")\n",
    "Hello world!\n",
    "13\n",
    ">>> \n",
    "```"
   ]
  },
  {
   "cell_type": "code",
   "execution_count": 93,
   "metadata": {},
   "outputs": [
    {
     "name": "stdout",
     "output_type": "stream",
     "text": [
      "1604481104\n"
     ]
    }
   ],
   "source": [
    " print (libc.time(None))"
   ]
  },
  {
   "cell_type": "markdown",
   "metadata": {},
   "source": [
    "Pour de longues itérations, on peut écrire en C la fonction critique\n",
    "et la compiler sous forme *dll/shared object*\n",
    "\n",
    "Un petit test de performances :\n",
    "```C\n",
    "/* rien.c\n",
    " compiler avec\n",
    "   gcc -Wall -fPIC -c rien.c\n",
    "   gcc -shared -Wl,-soname,librien.so.1 -o librien.so.1.0   *.o\n",
    "*/\n",
    "\n",
    "int rien(int n){\n",
    "    int i=0;\n",
    "    while (1==1) {\n",
    "        i++;\n",
    "        if(i>n){ return(i); }\n",
    "    }\n",
    "}\n",
    "```"
   ]
  },
  {
   "cell_type": "code",
   "execution_count": 94,
   "metadata": {},
   "outputs": [
    {
     "name": "stdout",
     "output_type": "stream",
     "text": [
      "Avec le C :\n",
      "0.021549701690673828\n",
      "En pur Python :\n",
      "0.5683567523956299\n"
     ]
    }
   ],
   "source": [
    "from ctypes import *\n",
    "cdll.LoadLibrary(\"./librien.so.1.0\")\n",
    "librien=CDLL(\"./librien.so.1.0\")\n",
    "\n",
    "def rien(n):\n",
    "    i=0\n",
    "    while 1==1:\n",
    "        i+=1\n",
    "        if i>n: return i\n",
    "        \n",
    "from time import time\n",
    "print (\"Avec le C :\")\n",
    "a=time()\n",
    "librien.rien(10000000)\n",
    "print (time()-a)\n",
    "print (\"En pur Python :\")\n",
    "a=time()\n",
    "rien(10000000)\n",
    "print (time()-a)"
   ]
  },
  {
   "cell_type": "markdown",
   "metadata": {},
   "source": [
    "## Cython\n",
    "\n",
    "Pour étendre Python avec du code C ou C++, il vaut mieux\n",
    "utiliser [Cython](http://cython.org)\n",
    "\n",
    "- Cython est un sur-langage de Python (basé sur Pyrex) avec les types de données du C \n",
    "- Il possède un compilateur optimisé\n",
    "- Presque tout code Python est aussi du code Cython valide\n",
    "- En déclarant les types, on obtient du code très efficace\n",
    "\n",
    "Après avoir installé Cython, on peut reprendre l'exemple précédent. On crée un fichier `rien.pyx`\n",
    "\n",
    "```Python\n",
    "# rien.pyx`\n",
    "def rien(int n):\n",
    "    cdef int i=0\n",
    "    while 1==1:\n",
    "        i+=1\n",
    "        if i>n: return i\n",
    "```\n",
    "\n",
    "Le code est le même, à ceci près que les types `int`\n",
    "de `n` et `i` ont été déclarés.\n",
    "\n",
    "Pour compiler, il faut, dans\n",
    "le même répertoire, un fichier `setup.py` structuré ainsi :\n",
    "\n",
    "```Python\n",
    "# setup.py\n",
    "from distutils.core import setup\n",
    "from Cython.Build import cythonize\n",
    "\n",
    "setup( ext_modules = cythonize(\"rien.pyx\") )\n",
    "```\n",
    "\n",
    "On compile avec la commande\n",
    "\n",
    "`python setup.py build_ext --inplace`\n",
    "\n",
    "On peut alors importer `rien` comme un module ordinaire\n"
   ]
  },
  {
   "cell_type": "code",
   "execution_count": 95,
   "metadata": {
    "scrolled": true
   },
   "outputs": [
    {
     "name": "stdout",
     "output_type": "stream",
     "text": [
      "Avec le C :\n",
      "0.0011870861053466797\n",
      "En pur Python :\n",
      "0.5563614368438721\n"
     ]
    }
   ],
   "source": [
    "from time import time\n",
    "import rien\n",
    "\n",
    "def pyrien(n):\n",
    "    i=0\n",
    "    while 1==1:\n",
    "        i+=1\n",
    "        if i>n: return i\n",
    "\n",
    "print (\"Avec le C :\")\n",
    "a=time()\n",
    "rien.rien(10000000)\n",
    "print (time()-a)\n",
    "print (\"En pur Python :\")\n",
    "a=time()\n",
    "pyrien(10000000)\n",
    "print (time()-a)"
   ]
  },
  {
   "cell_type": "code",
   "execution_count": 96,
   "metadata": {},
   "outputs": [
    {
     "data": {
      "text/plain": [
       "468.6782486443061"
      ]
     },
     "execution_count": 96,
     "metadata": {},
     "output_type": "execute_result"
    }
   ],
   "source": [
    "0.5563614368438721/0.0011870861053466797"
   ]
  },
  {
   "cell_type": "markdown",
   "metadata": {},
   "source": [
    "468 fois plus rapide ici, donc. Notons au passage que si on n'avait pas déclaré les types, l'effet aurait été beaucoup moins bon (un facteur 2)."
   ]
  },
  {
   "cell_type": "code",
   "execution_count": null,
   "metadata": {
    "collapsed": true
   },
   "outputs": [],
   "source": []
  }
 ],
 "metadata": {
  "kernelspec": {
   "display_name": "Python 3 (ipykernel)",
   "language": "python",
   "name": "python3"
  },
  "language_info": {
   "codemirror_mode": {
    "name": "ipython",
    "version": 3
   },
   "file_extension": ".py",
   "mimetype": "text/x-python",
   "name": "python",
   "nbconvert_exporter": "python",
   "pygments_lexer": "ipython3",
   "version": "3.11.1"
  }
 },
 "nbformat": 4,
 "nbformat_minor": 1
}
