{
 "cells": [
  {
   "cell_type": "markdown",
   "metadata": {},
   "source": [
    "# M1 Informatique - Python  - Cours 2\n",
    "# Orientation objet: les classes et leurs instances \n",
    "\n",
    "- Tout est un objet (entiers, fonctions, modules, sockets ...)\n",
    "-  Type structurés : classes et instances de classes \n",
    "-  On accède aux attributs et aux méthodes d'une classe avec <tt>dir()</tt>\n",
    "-  En python 2.x : \"old\" and \"new\" styles\n",
    "-  Les classes *newstyle* héritent du type <tt>object</tt>\n",
    "-  En python 3 les classes héritent automatiquement dy type `object`\n",
    "-  Syntaxe : <tt>class Toto:</tt> ou <tt>class Toto(object):</tt>\n"
   ]
  },
  {
   "cell_type": "code",
   "execution_count": 1,
   "metadata": {},
   "outputs": [
    {
     "name": "stdout",
     "output_type": "stream",
     "text": [
      "['__class__', '__delattr__', '__dict__', '__dir__', '__doc__', '__eq__', '__format__', '__ge__', '__getattribute__', '__gt__', '__hash__', '__init__', '__init_subclass__', '__le__', '__lt__', '__module__', '__ne__', '__new__', '__reduce__', '__reduce_ex__', '__repr__', '__setattr__', '__sizeof__', '__str__', '__subclasshook__', '__weakref__']\n"
     ]
    }
   ],
   "source": [
    "class Toto: pass # Attributs comme les new syle du Python 2\n",
    "\n",
    "a = Toto()        # Création d'une instance\n",
    "print(dir(a))"
   ]
  },
  {
   "cell_type": "code",
   "execution_count": 2,
   "metadata": {},
   "outputs": [
    {
     "name": "stdout",
     "output_type": "stream",
     "text": [
      "['__class__', '__delattr__', '__dir__', '__doc__', '__eq__', '__format__', '__ge__', '__getattribute__', '__gt__', '__hash__', '__init__', '__init_subclass__', '__le__', '__lt__', '__ne__', '__new__', '__reduce__', '__reduce_ex__', '__repr__', '__setattr__', '__sizeof__', '__str__', '__subclasshook__']\n"
     ]
    }
   ],
   "source": [
    "print(dir(object))"
   ]
  },
  {
   "cell_type": "markdown",
   "metadata": {},
   "source": [
    "On voit qu'il y a déjà pas mal d'attributs prédéfinis.  \n",
    "Les attributs commençant et finissant par deux soulignés sont les *méthodes\n",
    "spéciales (ou attributs spéciaux)*. Ils ne sont pas destinés à être appelés\n",
    "tels quels (on écrira <tt>len(x)</tt> plutôt que `x__len__()`).\n",
    "\n",
    "Ils permettent la surcharge des opérateurs.\n"
   ]
  },
  {
   "cell_type": "code",
   "execution_count": 2,
   "metadata": {},
   "outputs": [
    {
     "name": "stdout",
     "output_type": "stream",
     "text": [
      "42\n"
     ]
    }
   ],
   "source": [
    "class Toto:\n",
    "    def __len__(self): return 42\n",
    "\n",
    "a = Toto()\n",
    "\n",
    "print  (len(a))"
   ]
  },
  {
   "cell_type": "markdown",
   "metadata": {},
   "source": [
    "Les méthodes sont définies comme des fonctions ordinaires. Leur premier argument doit toujour être l'instance appelante, conventionnellement appelée <tt>self</tt>\n",
    "(équivalent de <tt>this</tt> dans d'autres langages, mais `self` n'est pas un mot réservé).\n",
    " \n",
    "La méthode spéciale `__init__` sert à initialiser les instances.\n",
    "Elle est appelée imédiatement\n",
    "après la création d'une instance. Son premier argument est l'instance\n",
    "elle même, les suivants\n",
    "sont les paramètres éventuels :"
   ]
  },
  {
   "cell_type": "code",
   "execution_count": 3,
   "metadata": {},
   "outputs": [
    {
     "name": "stdout",
     "output_type": "stream",
     "text": [
      "Garcin Lazare\n"
     ]
    }
   ],
   "source": [
    "class Client(object):\n",
    "    def __init__(self,nom,prenom):\n",
    "        self.nom = nom\n",
    "        self.prenom = prenom\n",
    "\n",
    "c = Client('Garcin','Lazare')\n",
    "print (c.nom, c.prenom)"
   ]
  },
  {
   "cell_type": "code",
   "execution_count": 4,
   "metadata": {},
   "outputs": [
    {
     "data": {
      "text/plain": [
       "{'nom': 'Garcin', 'prenom': 'Lazare'}"
      ]
     },
     "execution_count": 4,
     "metadata": {},
     "output_type": "execute_result"
    }
   ],
   "source": [
    "c.__dict__"
   ]
  },
  {
   "cell_type": "markdown",
   "metadata": {},
   "source": [
    "### Héritage\n",
    "\n",
    "À la place de <tt>object</tt>, on peut passer en argument n'importe quel type existant. La classe crée héritera de ses attributs,\n",
    "et on pourra les modifier si nécessaire. S'il y a des paramètres à initialiser, on doit appeler la méthode \n",
    "`__init__`\n",
    "de la classe parent."
   ]
  },
  {
   "cell_type": "code",
   "execution_count": 11,
   "metadata": {
    "collapsed": true
   },
   "outputs": [],
   "source": [
    "class Vector(tuple):\n",
    "    def __add__(self,y):\n",
    "        return Vector([a+b for (a,b) in zip(self,y)])"
   ]
  },
  {
   "cell_type": "code",
   "execution_count": 6,
   "metadata": {},
   "outputs": [
    {
     "data": {
      "text/plain": [
       "[('a', '1'), ('b', '2'), ('c', '3'), ('d', '4')]"
      ]
     },
     "execution_count": 6,
     "metadata": {},
     "output_type": "execute_result"
    }
   ],
   "source": [
    "# noter au passage la fonction zip (qui retourne un itérateur)\n",
    "list(zip('abcd','1234'))"
   ]
  },
  {
   "cell_type": "code",
   "execution_count": 13,
   "metadata": {},
   "outputs": [
    {
     "data": {
      "text/plain": [
       "(5, 7, 9)"
      ]
     },
     "execution_count": 13,
     "metadata": {},
     "output_type": "execute_result"
    }
   ],
   "source": [
    "x = Vector((1,2,3))\n",
    "y = Vector((4,5,6))\n",
    "x+y"
   ]
  },
  {
   "cell_type": "code",
   "execution_count": 14,
   "metadata": {},
   "outputs": [
    {
     "data": {
      "text/plain": [
       "(1, 2, 3, 4, 5, 6)"
      ]
     },
     "execution_count": 14,
     "metadata": {},
     "output_type": "execute_result"
    }
   ],
   "source": [
    "(1,2,3)+(4,5,6)"
   ]
  },
  {
   "cell_type": "code",
   "execution_count": 15,
   "metadata": {},
   "outputs": [
    {
     "name": "stdout",
     "output_type": "stream",
     "text": [
      "(1, 2, 3) (4, 5, 6)\n"
     ]
    }
   ],
   "source": [
    "print(x,y)"
   ]
  },
  {
   "cell_type": "code",
   "execution_count": 17,
   "metadata": {
    "collapsed": true
   },
   "outputs": [],
   "source": [
    "# Tableau à m lignes et n colonnes à partir d'une liste de mn éléments\n",
    "class Table(dict):\n",
    "    def __init__(self,m,n,*data):\n",
    "        self.rows = m\n",
    "        self.cols = n\n",
    "        if data:\n",
    "            assert len(data) == m*n\n",
    "            for i in range(m):\n",
    "                for j in range(n): self[i,j] = data[n*i+j]\n",
    "        else: \n",
    "            for i in range(m):\n",
    "                for j in range(n): self[i,j] = 0\n",
    "                    \n",
    "    def __str__(self):\n",
    "        return '\\n'.join([str([self[i,j] for j in range(self.cols)]) for i in range(self.rows)])\n",
    "            \n",
    "            "
   ]
  },
  {
   "cell_type": "code",
   "execution_count": 18,
   "metadata": {},
   "outputs": [
    {
     "name": "stdout",
     "output_type": "stream",
     "text": [
      "[1, 2, 3]\n",
      "[4, 5, 6]\n"
     ]
    },
    {
     "data": {
      "text/plain": [
       "{(0, 0): 1, (0, 1): 2, (0, 2): 3, (1, 0): 4, (1, 1): 5, (1, 2): 6}"
      ]
     },
     "execution_count": 18,
     "metadata": {},
     "output_type": "execute_result"
    }
   ],
   "source": [
    "A = Table(2,3,1,2,3,4,5,6)\n",
    "print (A)\n",
    "A"
   ]
  },
  {
   "cell_type": "code",
   "execution_count": 20,
   "metadata": {},
   "outputs": [
    {
     "name": "stdout",
     "output_type": "stream",
     "text": [
      "[2, 3, 4] [5, 10] [2, 3, 4, 5, 10] [10, 20, 15, 30, 20, 40]\n"
     ]
    }
   ],
   "source": [
    "# Un exemple de listes qui peuvent se multiplier\n",
    "class Blah(list):\n",
    "    def __mul__(self,mm):\n",
    "        return Blah([x*y for x in self for y in mm])\n",
    "\n",
    "a = Blah([2,3,4]); b = Blah([5,10]); \n",
    "print (a, b, a+b, a*b)"
   ]
  },
  {
   "cell_type": "markdown",
   "metadata": {},
   "source": [
    "On voit que <tt>Blah</tt> a hérité de l'addition des listes. On lui a seulement rajouté une méthode de multiplication, qui définit l'opération $*$.\n",
    "\n",
    "Les instances des classes dérivées sont vues comme des instances de leurs parents."
   ]
  },
  {
   "cell_type": "code",
   "execution_count": 21,
   "metadata": {},
   "outputs": [
    {
     "name": "stdout",
     "output_type": "stream",
     "text": [
      "True\n",
      "True\n",
      "False\n"
     ]
    }
   ],
   "source": [
    "class Cbase: pass\n",
    "class Cderivee(Cbase): pass\n",
    "Ibase=Cbase() ; Iderivee=Cderivee()\n",
    "print (isinstance(Ibase,Cbase))\n",
    "print (isinstance(Iderivee,Cbase))\n",
    "\n",
    "print (isinstance(Ibase,Cderivee))"
   ]
  },
  {
   "cell_type": "code",
   "execution_count": 22,
   "metadata": {},
   "outputs": [
    {
     "name": "stdout",
     "output_type": "stream",
     "text": [
      "{1: 4.5, 2: 7.8}\n",
      "0.0\n"
     ]
    }
   ],
   "source": [
    "# Autre exemple\n",
    "class defaultdict(dict):\n",
    "    \"\"\" Renvoie une valeur par défaut \n",
    "    si une clef n'est pas affectée \"\"\"\n",
    "\n",
    "    def __init__(self, default=None):\n",
    "        dict.__init__(self)\n",
    "        self.default = default\n",
    "\n",
    "    def __getitem__(self, key):  # Noter l'usage de try...except plutôt qu'un test \n",
    "        try:\n",
    "            return dict.__getitem__(self, key)\n",
    "        except KeyError:\n",
    "            return self.default\n",
    "\n",
    "d = defaultdict(0.0)\n",
    "e={1:4.5, 2:7.8}\n",
    "d.update(e)\n",
    "print (d)\n",
    "print (d[5])\n"
   ]
  },
  {
   "cell_type": "markdown",
   "metadata": {},
   "source": [
    "Les classes de Python 3 possèdent une méthode `__new__`\n",
    "qui prend en charge la construction de l'instance. \n",
    "\n",
    "Elle est\n",
    "utile pour sous-classer les types non mutables :\n"
   ]
  },
  {
   "cell_type": "code",
   "execution_count": 23,
   "metadata": {},
   "outputs": [
    {
     "name": "stdout",
     "output_type": "stream",
     "text": [
      "Toto Titi Tototiti\n",
      "<class '__main__.CapString'> <class '__main__.CapString'> <class '__main__.CapString'>\n"
     ]
    }
   ],
   "source": [
    "class CapString(str):\n",
    "    def  __new__(cls,s):\n",
    "        return  str.__new__(cls,s.lower().capitalize())\n",
    "\n",
    "    def __add__(self,x):\n",
    "        return CapString (str.__add__(self,x.lower()))\n",
    "    \n",
    "x=CapString(\"toTO\")\n",
    "y = CapString(\"tITi\")\n",
    "z = x+y\n",
    "print (x,y,z)\n",
    "print (type(x), type(y), type(z))"
   ]
  },
  {
   "cell_type": "markdown",
   "metadata": {},
   "source": [
    "L'attribut `__class__` \n",
    "d'un objet fait référence à la classe dont il est une instance. \n",
    "Il permet aux instances d'accéder aux attributs de la classe elle-même. \n",
    "\n",
    "La classe suivante possède un compteur qui compte le nombre de ses instances."
   ]
  },
  {
   "cell_type": "code",
   "execution_count": 24,
   "metadata": {},
   "outputs": [
    {
     "name": "stdout",
     "output_type": "stream",
     "text": [
      "<class '__main__.counter'>\n",
      "0\n"
     ]
    }
   ],
   "source": [
    "class counter:\n",
    "    count = 0            \n",
    "\n",
    "    def __init__(self):\n",
    "        self.__class__.count += 1 \n",
    "\n",
    "print (counter) \n",
    "print (counter.count)"
   ]
  },
  {
   "cell_type": "code",
   "execution_count": 25,
   "metadata": {},
   "outputs": [
    {
     "name": "stdout",
     "output_type": "stream",
     "text": [
      "1\n",
      "1\n"
     ]
    }
   ],
   "source": [
    "c = counter()\n",
    "print (c.count)                           \n",
    "print (counter.count)"
   ]
  },
  {
   "cell_type": "code",
   "execution_count": 26,
   "metadata": {},
   "outputs": [
    {
     "name": "stdout",
     "output_type": "stream",
     "text": [
      "2\n",
      "2\n",
      "2\n"
     ]
    }
   ],
   "source": [
    "d = counter()                     \n",
    "print (d.count)\n",
    "print (c.count)\n",
    "print (counter.count)"
   ]
  },
  {
   "cell_type": "markdown",
   "metadata": {},
   "source": [
    "<tt>count</tt> est un attribut de la classe <tt>counter</tt>.\n",
    "\n",
    "`__class__` est un attribut prédéfini de toute instance\n",
    "d'une classe. C'est une référence à la classe dont <tt>self</tt>.\n",
    "est une instance.\n",
    "\n",
    "<tt>count</tt> est accessible par référence directe à la classe, avant\n",
    "même la création d'une instance.\n",
    "Chaque instanciation incrémente <tt>count</tt>, ce qui affecte la classe\n",
    "elle-même.\n",
    "\n",
    "Sans l'attribut `__class__` on aurait\n"
   ]
  },
  {
   "cell_type": "code",
   "execution_count": 27,
   "metadata": {},
   "outputs": [
    {
     "name": "stdout",
     "output_type": "stream",
     "text": [
      "1\n",
      "1\n",
      "0\n"
     ]
    }
   ],
   "source": [
    "class compteur:\n",
    "    compte = 0\n",
    "    def __init__(self):\n",
    "        self.compte +=1\n",
    "\n",
    "a=compteur()\n",
    "print (a.compte)\n",
    "b=compteur()\n",
    "print (b.compte)\n",
    "print (compteur.compte)"
   ]
  },
  {
   "cell_type": "markdown",
   "metadata": {},
   "source": [
    "## Public, privé, protégé\n",
    "\n",
    "Python distingue les attributs publics et privés. Sont privés tous ceux qui commencent (mais ne finissent pas) par un double souligné.\n"
   ]
  },
  {
   "cell_type": "code",
   "execution_count": 7,
   "metadata": {},
   "outputs": [
    {
     "name": "stdout",
     "output_type": "stream",
     "text": [
      "encapsulated\n"
     ]
    }
   ],
   "source": [
    "class SomeClass(object):\n",
    "    def PublicMethod(self):\n",
    "        self.__private_field = \"encapsulated\"\n",
    "        return self.__PrivateMethod()\n",
    "\n",
    "    def __PrivateMethod(self):\n",
    "        return self.__private_field\n",
    "\n",
    "c = SomeClass()\n",
    "print (c.PublicMethod())                           "
   ]
  },
  {
   "cell_type": "code",
   "execution_count": 8,
   "metadata": {},
   "outputs": [
    {
     "ename": "AttributeError",
     "evalue": "'SomeClass' object has no attribute '__PrivateMethod'",
     "output_type": "error",
     "traceback": [
      "\u001b[0;31m---------------------------------------------------------------------------\u001b[0m",
      "\u001b[0;31mAttributeError\u001b[0m                            Traceback (most recent call last)",
      "Cell \u001b[0;32mIn[8], line 1\u001b[0m\n\u001b[0;32m----> 1\u001b[0m \u001b[38;5;28mprint\u001b[39m (\u001b[43mc\u001b[49m\u001b[38;5;241;43m.\u001b[39;49m\u001b[43m__PrivateMethod\u001b[49m())\n",
      "\u001b[0;31mAttributeError\u001b[0m: 'SomeClass' object has no attribute '__PrivateMethod'"
     ]
    }
   ],
   "source": [
    "print (c.__PrivateMethod())"
   ]
  },
  {
   "cell_type": "code",
   "execution_count": 9,
   "metadata": {},
   "outputs": [
    {
     "ename": "AttributeError",
     "evalue": "'SomeClass' object has no attribute '__private_field'",
     "output_type": "error",
     "traceback": [
      "\u001b[0;31m---------------------------------------------------------------------------\u001b[0m",
      "\u001b[0;31mAttributeError\u001b[0m                            Traceback (most recent call last)",
      "Cell \u001b[0;32mIn[9], line 1\u001b[0m\n\u001b[0;32m----> 1\u001b[0m \u001b[38;5;28mprint\u001b[39m (\u001b[43mc\u001b[49m\u001b[38;5;241;43m.\u001b[39;49m\u001b[43m__private_field\u001b[49m)\n",
      "\u001b[0;31mAttributeError\u001b[0m: 'SomeClass' object has no attribute '__private_field'"
     ]
    }
   ],
   "source": [
    "print (c.__private_field)"
   ]
  },
  {
   "cell_type": "code",
   "execution_count": 31,
   "metadata": {},
   "outputs": [
    {
     "data": {
      "text/plain": [
       "'encapsulated'"
      ]
     },
     "execution_count": 31,
     "metadata": {},
     "output_type": "execute_result"
    }
   ],
   "source": [
    "# En fait, on peut, mais il ne faut pas ...\n",
    "c._SomeClass__PrivateMethod()"
   ]
  },
  {
   "cell_type": "markdown",
   "metadata": {},
   "source": [
    "Python n'a pas d'attributs protégés, c'est à dire accessibles seulement dans les classes dérivées. \n",
    "L'usage est de les préfixer par un simple souligné, de manière à ce que les utilisateurs d'une classe comprennent \n",
    "qu'il s'agit d'un détail d'implémentation, mais qu'ils restent accessibles aux classes dérivées."
   ]
  },
  {
   "cell_type": "code",
   "execution_count": 32,
   "metadata": {},
   "outputs": [
    {
     "name": "stdout",
     "output_type": "stream",
     "text": [
      "protected\n"
     ]
    }
   ],
   "source": [
    "class BaseClass(object):\n",
    "    def _ProtectedMethod(self):\n",
    "        self._protected = \"protected\"\n",
    "\n",
    "class DerivedClass(BaseClass):\n",
    "    def PublicMethod(self):\n",
    "        self._ProtectedMethod()\n",
    "        print (self._protected)\n",
    "    def __PrivateMethod(self):\n",
    "        return self.__private_field\n",
    "\n",
    "d = DerivedClass()\n",
    "d.PublicMethod()"
   ]
  },
  {
   "cell_type": "markdown",
   "metadata": {},
   "source": [
    "## Propriétés\n",
    "\n",
    "Python supporte les *propriétés*, c'est à dire, les couples de méthodes <tt>fget/fset</tt> qui sont appelées de manière transparente\n",
    "lorsqu'on accède à un attribut."
   ]
  },
  {
   "cell_type": "code",
   "execution_count": 10,
   "metadata": {},
   "outputs": [],
   "source": [
    "class SomeClass(object):\n",
    "    def __init__(self, initial_value):\n",
    "        self.__read_write_prop = initial_value\n",
    "        self.__read_only_prop = initial_value\n",
    "\n",
    "    def __GetReadWriteProp(self):\n",
    "        print (\"Someone's reading ReadWriteProp\")\n",
    "        return self.__read_write_prop\n",
    "\n",
    "    def __SetReadWriteProp(self, new_value):\n",
    "        print (\"Someone's writing ReadWriteProp\")\n",
    "        self.__read_write_prop = new_value\n",
    "\n",
    "    ReadWriteProp = property(fget=__GetReadWriteProp,\n",
    "                             fset=__SetReadWriteProp)\n",
    "\n",
    "    def __GetReadOnlyProp(self):\n",
    "        print (\"Someone's reading ReadOnlyProp\")\n",
    "        return self.__read_only_prop\n",
    "\n",
    "    ReadOnlyProp = property(fget=__GetReadOnlyProp)\n"
   ]
  },
  {
   "cell_type": "code",
   "execution_count": 11,
   "metadata": {},
   "outputs": [
    {
     "name": "stdout",
     "output_type": "stream",
     "text": [
      "Someone's reading ReadWriteProp\n",
      "val =  initial\n"
     ]
    }
   ],
   "source": [
    "c = SomeClass(\"initial\")\n",
    "val = c.ReadWriteProp\n",
    "print (\"val = \",val)"
   ]
  },
  {
   "cell_type": "code",
   "execution_count": 35,
   "metadata": {},
   "outputs": [
    {
     "name": "stdout",
     "output_type": "stream",
     "text": [
      "Someone's writing ReadWriteProp\n"
     ]
    }
   ],
   "source": [
    "c.ReadWriteProp = \"new\""
   ]
  },
  {
   "cell_type": "code",
   "execution_count": 36,
   "metadata": {},
   "outputs": [
    {
     "name": "stdout",
     "output_type": "stream",
     "text": [
      "Someone's reading ReadWriteProp\n"
     ]
    }
   ],
   "source": [
    "val = c.ReadWriteProp"
   ]
  },
  {
   "cell_type": "code",
   "execution_count": 37,
   "metadata": {},
   "outputs": [
    {
     "name": "stdout",
     "output_type": "stream",
     "text": [
      "new\n"
     ]
    }
   ],
   "source": [
    "print (val)"
   ]
  },
  {
   "cell_type": "code",
   "execution_count": 38,
   "metadata": {},
   "outputs": [
    {
     "name": "stdout",
     "output_type": "stream",
     "text": [
      "Someone's reading ReadOnlyProp\n"
     ]
    }
   ],
   "source": [
    "val = c.ReadOnlyProp"
   ]
  },
  {
   "cell_type": "code",
   "execution_count": 39,
   "metadata": {},
   "outputs": [
    {
     "data": {
      "text/plain": [
       "'initial'"
      ]
     },
     "execution_count": 39,
     "metadata": {},
     "output_type": "execute_result"
    }
   ],
   "source": [
    "val"
   ]
  },
  {
   "cell_type": "code",
   "execution_count": 40,
   "metadata": {},
   "outputs": [
    {
     "ename": "AttributeError",
     "evalue": "can't set attribute",
     "output_type": "error",
     "traceback": [
      "\u001b[0;31m---------------------------------------------------------------------------\u001b[0m",
      "\u001b[0;31mAttributeError\u001b[0m                            Traceback (most recent call last)",
      "\u001b[0;32m<ipython-input-40-31ee050b85aa>\u001b[0m in \u001b[0;36m<module>\u001b[0;34m()\u001b[0m\n\u001b[0;32m----> 1\u001b[0;31m \u001b[0mc\u001b[0m\u001b[0;34m.\u001b[0m\u001b[0mReadOnlyProp\u001b[0m \u001b[0;34m=\u001b[0m \u001b[0;34m\"new\"\u001b[0m\u001b[0;34m\u001b[0m\u001b[0m\n\u001b[0m",
      "\u001b[0;31mAttributeError\u001b[0m: can't set attribute"
     ]
    }
   ],
   "source": [
    "c.ReadOnlyProp = \"new\"  "
   ]
  },
  {
   "cell_type": "markdown",
   "metadata": {},
   "source": [
    "## Attributs statiques et méthodes statiques\n",
    "\n",
    "N'ont pas besoin de connaître l'instance, et ne peuvent pas modifier l'état de leur classe."
   ]
  },
  {
   "cell_type": "code",
   "execution_count": 42,
   "metadata": {},
   "outputs": [
    {
     "name": "stdout",
     "output_type": "stream",
     "text": [
      "2\n",
      "101\n",
      "101\n",
      "5\n",
      "101\n"
     ]
    }
   ],
   "source": [
    "class InstanceCounter(object):\n",
    "    num_instances = 0\n",
    "\n",
    "    def __init__(self):\n",
    "        InstanceCounter.num_instances += 1\n",
    "\n",
    "    def GetNumInstances():    # pas de paramètre self\n",
    "        return InstanceCounter.num_instances\n",
    "\n",
    "    GetNumInstances = staticmethod(GetNumInstances) # déclare une méthode statique\n",
    "\n",
    "a = InstanceCounter()\n",
    "b = InstanceCounter()\n",
    "print (InstanceCounter.GetNumInstances())    # c'est 2\n",
    "InstanceCounter.num_instances = 100\n",
    "c = InstanceCounter()\n",
    "print (InstanceCounter.GetNumInstances())    # maintenant, c'est 101\n",
    "\n",
    "print (a.num_instances)    \n",
    "a.num_instances = 5    # modifie l'attrbut de l'instance\n",
    "print (a.num_instances)                    \n",
    "print (InstanceCounter.GetNumInstances())  # mais pas l'attribut statique de la classe"
   ]
  },
  {
   "cell_type": "markdown",
   "metadata": {},
   "source": [
    "## Méthodes de classes\n",
    "\n",
    "Elle n'ont besoin que de connaître les paramètres de leur classe, \n",
    "qui leur est donnée par l'argument `cls`\n",
    "(au lieu de `self`),\n",
    "pas ceux des instances. Le mécanisme est similaire. Elles peuvent modifier les paramètres de leur classe."
   ]
  },
  {
   "cell_type": "code",
   "execution_count": 43,
   "metadata": {},
   "outputs": [
    {
     "name": "stdout",
     "output_type": "stream",
     "text": [
      "SomeClass\n",
      "SomeClass\n",
      "DerivedClass\n",
      "DerivedClass\n"
     ]
    }
   ],
   "source": [
    "class SomeClass(object):\n",
    "    def ClassMethod(cls):\n",
    "        print (cls.__name__ ) # c'est le nom de la classe ...\n",
    "\n",
    "    ClassMethod = classmethod(ClassMethod) # déclaration d'une méthode de classe\n",
    "\n",
    "class DerivedClass(SomeClass):\n",
    "    pass\n",
    "\n",
    "SomeClass.ClassMethod()    # répond \"SomeClass\"\n",
    "c = SomeClass()\n",
    "c.ClassMethod()            # encore \"SomeClass\"\n",
    "DerivedClass.ClassMethod() # répond  \"DerivedClass\"\n",
    "d = DerivedClass()\n",
    "d.ClassMethod()            # encore \"DerivedClass\"\n",
    "\n"
   ]
  },
  {
   "cell_type": "markdown",
   "metadata": {},
   "source": [
    "## Les exceptions\n",
    "\n",
    "Mots clés : <tt>try - except - raise - finally</tt>\n"
   ]
  },
  {
   "cell_type": "code",
   "execution_count": 12,
   "metadata": {},
   "outputs": [
    {
     "name": "stdout",
     "output_type": "stream",
     "text": [
      "On essaie ...\n",
      "C'est raté ...\n"
     ]
    },
    {
     "data": {
      "text/plain": [
       "42"
      ]
     },
     "execution_count": 12,
     "metadata": {},
     "output_type": "execute_result"
    }
   ],
   "source": [
    "def f():\n",
    "    try:\n",
    "        print (\"On essaie ...\")\n",
    "        return 1/0\n",
    "    except:\n",
    "        print (\"C'est raté ...\")\n",
    "        return 2+[2]\n",
    "    finally:\n",
    "        return 42\n",
    "\n",
    "f()"
   ]
  },
  {
   "cell_type": "markdown",
   "metadata": {},
   "source": [
    "La clause <tt>finally</tt>  permet de terminer proprement\n",
    "(en refermant fichiers, sockets, etc. par exemple). Elle sera exécutée quoi qu'il arrive\n",
    "(et avant les éventuels gestionnaires d'exception).\n",
    "\n",
    "On peut capturer les exceptions :\n"
   ]
  },
  {
   "cell_type": "code",
   "execution_count": 45,
   "metadata": {},
   "outputs": [
    {
     "name": "stdout",
     "output_type": "stream",
     "text": [
      "division by zero\n"
     ]
    }
   ],
   "source": [
    "try:\n",
    "    print (1/0)\n",
    "except Exception as e: # différent de Python 2 ici\n",
    "    print (e)"
   ]
  },
  {
   "cell_type": "code",
   "execution_count": 46,
   "metadata": {},
   "outputs": [
    {
     "name": "stdout",
     "output_type": "stream",
     "text": [
      "[Errno 2] No such file or directory: 'toto.txt'\n"
     ]
    }
   ],
   "source": [
    "try:\n",
    "    s = open('toto.txt').read()\n",
    "except Exception as e:\n",
    "    print (e)"
   ]
  },
  {
   "cell_type": "markdown",
   "metadata": {},
   "source": [
    "Les exceptions prédéfinies sont décrites dans la \n",
    "[documentation](https://docs.python.org/3/library/exceptions.html#module-exceptions) du module exceptions.\n"
   ]
  },
  {
   "cell_type": "code",
   "execution_count": 47,
   "metadata": {},
   "outputs": [
    {
     "name": "stdout",
     "output_type": "stream",
     "text": [
      "[Errno 666] External program crashed: 'hello.o'\n",
      "(666, 'External program crashed')\n",
      "666 External program crashed hello.o\n"
     ]
    }
   ],
   "source": [
    "try:\n",
    "    raise EnvironmentError(666, 'External program crashed', 'hello.o')\n",
    "except EnvironmentError as e:\n",
    "    print (e)\n",
    "    print (e.args) \n",
    "    print (e.errno, e.strerror, e.filename)"
   ]
  },
  {
   "cell_type": "markdown",
   "metadata": {},
   "source": [
    "On peut définir de nouvelles exceptions :\n"
   ]
  },
  {
   "cell_type": "code",
   "execution_count": 48,
   "metadata": {},
   "outputs": [
    {
     "name": "stdout",
     "output_type": "stream",
     "text": [
      "Stupid Error\n",
      "666\n"
     ]
    }
   ],
   "source": [
    "class StupidError(Exception):\n",
    "    def __init__(self):\n",
    "         self.errno = 666\n",
    "    def __str__(self):\n",
    "        return \"Stupid Error\"\n",
    "\n",
    "try:\n",
    "        raise StupidError\n",
    "except Exception as e:\n",
    "        print (e)\n",
    "        print (e.errno)"
   ]
  },
  {
   "cell_type": "markdown",
   "metadata": {},
   "source": [
    "## Commentaires et docstrings\n",
    "\n",
    "Le commentaires ordinaires commencent par des #. Une chaîne flottant à l'intérieur d'un programme\n",
    "est vue comme un commentraire. Juste après une définition, elle esyt vue comme une <tt>docstring</tt>.\n"
   ]
  },
  {
   "cell_type": "code",
   "execution_count": 49,
   "metadata": {},
   "outputs": [
    {
     "name": "stdout",
     "output_type": "stream",
     "text": [
      "Help on function racine_carree in module __main__:\n",
      "\n",
      "racine_carree(x)\n",
      "    Cette fonction calcule la racine carrée\n",
      "    du nombre fourni comme paramètre.\n",
      "\n"
     ]
    }
   ],
   "source": [
    "# commentaires avec des dièses\n",
    "\n",
    "\"ou bien avec des chaînes littérales\"\n",
    "\n",
    "\"\"\" ou encore, sur plusieurs lignes,\n",
    "avec des triple-quotes \"\"\"\n",
    "\n",
    "def racine_carree(x):\n",
    "    \"\"\"Cette fonction calcule la racine carrée\n",
    "    du nombre fourni comme paramètre.\"\"\"\n",
    "    return x**0.5\n",
    "\n",
    "help(racine_carree)"
   ]
  },
  {
   "cell_type": "code",
   "execution_count": 50,
   "metadata": {},
   "outputs": [
    {
     "name": "stdout",
     "output_type": "stream",
     "text": [
      "Cette fonction calcule la racine carrée\n",
      "    du nombre fourni comme paramètre.\n"
     ]
    }
   ],
   "source": [
    "print (racine_carree.__doc__)"
   ]
  },
  {
   "cell_type": "markdown",
   "metadata": {},
   "source": [
    "## L'itération en Python\n",
    "\n",
    "Syntaxe : \n",
    "```python\n",
    "for i in iterable_object: do_something\n",
    "```\n",
    " \n",
    "\n",
    "Les listes, tuples, chaînes et dictionnaires sont itérables.\n",
    "\n"
   ]
  },
  {
   "cell_type": "code",
   "execution_count": 51,
   "metadata": {},
   "outputs": [
    {
     "name": "stdout",
     "output_type": "stream",
     "text": [
      "0\n",
      "1\n",
      "4\n",
      "9\n",
      "16\n",
      "25\n",
      "36\n",
      "49\n",
      "64\n",
      "81\n",
      "\n",
      "un deux trois \n",
      "103 97 98 117 122 111 109 101 117 "
     ]
    }
   ],
   "source": [
    "for x in range(10): print (x*x),\n",
    "print()\n",
    "\n",
    "h = {\"un\":1, \"deux\":2, \"trois\":3}\n",
    "for key in h: print (key, end=' ')\n",
    "print()\n",
    "\n",
    "s = 'gabuzomeu'\n",
    "for c in s: print (ord(c),end=' ')"
   ]
  },
  {
   "cell_type": "markdown",
   "metadata": {},
   "source": [
    "Les objets itérables possèdent une méthode `__iter__`\n",
    "qui renvoie un *itérateur*. \n",
    "\n",
    "On l'appelle au moyen de la fonction <tt>iter</tt>\n",
    "\n",
    "\n",
    "Un itérateur possède une\n",
    "méthode <tt>next()</tt> qui renvoie l'élément suivant."
   ]
  },
  {
   "cell_type": "code",
   "execution_count": 52,
   "metadata": {},
   "outputs": [
    {
     "name": "stdout",
     "output_type": "stream",
     "text": [
      "1 2\n"
     ]
    }
   ],
   "source": [
    "ll = [1, 2, 3, 4, 5]\n",
    "it = ll.__iter__()\n",
    "\n",
    "print (next(it), next(it)) # différent de Python 2"
   ]
  },
  {
   "cell_type": "markdown",
   "metadata": {},
   "source": [
    "Normalement, on écrit plutôt"
   ]
  },
  {
   "cell_type": "code",
   "execution_count": 53,
   "metadata": {},
   "outputs": [
    {
     "name": "stdout",
     "output_type": "stream",
     "text": [
      "1\n",
      "2\n",
      "3 4 5 "
     ]
    }
   ],
   "source": [
    "ll = [1, 2, 3, 4, 5]\n",
    "it = iter(ll)\n",
    "print (next(it))\n",
    "print (next(it))\n",
    "for x in it: print (x,end =' ')"
   ]
  },
  {
   "cell_type": "markdown",
   "metadata": {},
   "source": [
    "On remarque que l'itérateur se consume au fur et à mesure\n",
    "que <tt>next</tt> est appelée. Si on continue :"
   ]
  },
  {
   "cell_type": "code",
   "execution_count": 54,
   "metadata": {},
   "outputs": [
    {
     "ename": "StopIteration",
     "evalue": "",
     "output_type": "error",
     "traceback": [
      "\u001b[0;31m---------------------------------------------------------------------------\u001b[0m",
      "\u001b[0;31mStopIteration\u001b[0m                             Traceback (most recent call last)",
      "\u001b[0;32m<ipython-input-54-2cdb14c0d4d6>\u001b[0m in \u001b[0;36m<module>\u001b[0;34m()\u001b[0m\n\u001b[0;32m----> 1\u001b[0;31m \u001b[0mnext\u001b[0m\u001b[0;34m(\u001b[0m\u001b[0mit\u001b[0m\u001b[0;34m)\u001b[0m\u001b[0;34m\u001b[0m\u001b[0m\n\u001b[0m",
      "\u001b[0;31mStopIteration\u001b[0m: "
     ]
    }
   ],
   "source": [
    "next(it)"
   ]
  },
  {
   "cell_type": "markdown",
   "metadata": {},
   "source": [
    "```python\n",
    "for x in obj:\n",
    "   # faire quelque chose\n",
    "```\n",
    "est équivalent à\n",
    "```python\n",
    "_iter = iter(obj)\n",
    "while 1:\n",
    "    try:\n",
    "        x = next(_iter)\n",
    "    except StopIteration:\n",
    "        break\n",
    "    # faire quelque chose\n",
    "```"
   ]
  },
  {
   "cell_type": "markdown",
   "metadata": {},
   "source": [
    "Les *générateurs* permettent de créer des itérateurs\n",
    "sur des objets qui n'ont pas besoin d'être contruits à l'avance.\n",
    "La syntaxe est identique à celle des fonctions ordinaires, avec le mot clé  <tt>yield</tt>\n",
    "au lieu de <tt>return</tt>. La fonction retourne alors un générateur.\n"
   ]
  },
  {
   "cell_type": "code",
   "execution_count": 55,
   "metadata": {},
   "outputs": [
    {
     "name": "stdout",
     "output_type": "stream",
     "text": [
      "[1, 1, 2, 3, 5, 8, 13, 21, 34, 55]\n"
     ]
    }
   ],
   "source": [
    "def fib(): # suite de Fibonacci\n",
    "    a, b = 0, 1\n",
    "    while 1:\n",
    "        yield b; a, b = b, a+b\n",
    "\n",
    "F=fib()\n",
    "\n",
    "print ([next(F) for i in range(10)])"
   ]
  },
  {
   "cell_type": "code",
   "execution_count": 56,
   "metadata": {},
   "outputs": [
    {
     "name": "stdout",
     "output_type": "stream",
     "text": [
      "[89, 144, 233, 377, 610, 987, 1597, 2584, 4181, 6765]\n"
     ]
    }
   ],
   "source": [
    "print ([next(F) for i in range(10)])# On continue"
   ]
  },
  {
   "cell_type": "markdown",
   "metadata": {},
   "source": [
    "L'exécution est stoppée après <tt>yield</tt> et reprend à l'appel suivant de <tt>next()</tt>.\n",
    "\n",
    "### Expressions generatrices\n",
    "\n",
    "Lorsqu'on remplace les crochets par des parenthèses autour d'une liste en compréhension, on obtient un générateur :"
   ]
  },
  {
   "cell_type": "code",
   "execution_count": 57,
   "metadata": {
    "collapsed": true
   },
   "outputs": [],
   "source": [
    "g = (x*x for x in range(10))"
   ]
  },
  {
   "cell_type": "code",
   "execution_count": 58,
   "metadata": {},
   "outputs": [
    {
     "name": "stdout",
     "output_type": "stream",
     "text": [
      "0 1 4 9 16 25 36 49 64 81 "
     ]
    },
    {
     "ename": "StopIteration",
     "evalue": "",
     "output_type": "error",
     "traceback": [
      "\u001b[0;31m---------------------------------------------------------------------------\u001b[0m",
      "\u001b[0;31mStopIteration\u001b[0m                             Traceback (most recent call last)",
      "\u001b[0;32m<ipython-input-58-f8efc0009ee4>\u001b[0m in \u001b[0;36m<module>\u001b[0;34m()\u001b[0m\n\u001b[0;32m----> 1\u001b[0;31m \u001b[0;32mfor\u001b[0m \u001b[0mi\u001b[0m \u001b[0;32min\u001b[0m \u001b[0mrange\u001b[0m\u001b[0;34m(\u001b[0m\u001b[0;36m11\u001b[0m\u001b[0;34m)\u001b[0m\u001b[0;34m:\u001b[0m \u001b[0mprint\u001b[0m \u001b[0;34m(\u001b[0m\u001b[0mnext\u001b[0m\u001b[0;34m(\u001b[0m\u001b[0mg\u001b[0m\u001b[0;34m)\u001b[0m\u001b[0;34m,\u001b[0m \u001b[0mend\u001b[0m\u001b[0;34m=\u001b[0m\u001b[0;34m' '\u001b[0m\u001b[0;34m)\u001b[0m\u001b[0;34m\u001b[0m\u001b[0m\n\u001b[0m",
      "\u001b[0;31mStopIteration\u001b[0m: "
     ]
    }
   ],
   "source": [
    "for i in range(11): print (next(g), end=' ')\n"
   ]
  },
  {
   "cell_type": "markdown",
   "metadata": {},
   "source": [
    "On peut définir des classes qui supportent l'itération : il suffit\n",
    "d'implémenter les méthodes $\\tt\\_\\_iter\\_\\_$ et <tt>next</tt>:"
   ]
  },
  {
   "cell_type": "code",
   "execution_count": 59,
   "metadata": {},
   "outputs": [
    {
     "name": "stdout",
     "output_type": "stream",
     "text": [
      "10\n",
      "[9, 8, 7, 6, 5, 4, 3, 2, 1]\n"
     ]
    }
   ],
   "source": [
    "class countdown(object):\n",
    "\n",
    "    def __init__(self,n):\n",
    "        self.count = n\n",
    "        \n",
    "    def __iter__(self):\n",
    "        return self\n",
    "    \n",
    "    def __next__(self): # différent\n",
    "        if self.count <= 0:\n",
    "            raise StopIteration\n",
    "        r = self.count\n",
    "        self.count -= 1\n",
    "        return r\n",
    "\n",
    "\n",
    "c=countdown(10)\n",
    "print (next(c))\n",
    "\n",
    "print (list(c))  # la conversion en liste consume l'itérateur"
   ]
  },
  {
   "cell_type": "markdown",
   "metadata": {},
   "source": [
    "## Manipulation de fichiers\n",
    "\n",
    "La fonction <tt>open</tt> permet de créer ou de modifier des objets de type fichier (*file objects*).\n",
    "Un fichier peut être ouvert dans les modes <tt>'r','w','a','rw'</tt> (read,write,append,read-write)\n",
    "et <tt>'b'</tt> (binary, pour windows). En python 3, c'est un peu différent, il faut préciser un encodage.\n",
    "\n",
    "Ces *file objects* ont des méthodes <tt>read</tt> et <tt>write</tt>.\n",
    "\n",
    "Il ne faut pas oublier de refermer un fichier ouvert avec la méthode <tt>close()</tt>."
   ]
  },
  {
   "cell_type": "code",
   "execution_count": 60,
   "metadata": {
    "collapsed": true
   },
   "outputs": [],
   "source": [
    "f = open('bla.txt','w')\n",
    "f.write('Ga\\nBu\\nZo\\nMeu\\n')\n",
    "f.close()"
   ]
  },
  {
   "cell_type": "code",
   "execution_count": 61,
   "metadata": {},
   "outputs": [
    {
     "name": "stdout",
     "output_type": "stream",
     "text": [
      "Ga\r\n",
      "Bu\r\n",
      "Zo\r\n",
      "Meu\r\n"
     ]
    }
   ],
   "source": [
    "!cat bla.txt"
   ]
  },
  {
   "cell_type": "code",
   "execution_count": 62,
   "metadata": {},
   "outputs": [
    {
     "data": {
      "text/plain": [
       "'Ga\\nBu\\nZo\\nMeu\\n'"
      ]
     },
     "execution_count": 62,
     "metadata": {},
     "output_type": "execute_result"
    }
   ],
   "source": [
    "s = open('bla.txt','r').read() # lit tout le fichier sous forme d'une chaîne\n",
    "s"
   ]
  },
  {
   "cell_type": "code",
   "execution_count": 63,
   "metadata": {},
   "outputs": [
    {
     "data": {
      "text/plain": [
       "['Ga\\n', 'Bu\\n', 'Zo\\n', 'Meu\\n']"
      ]
     },
     "execution_count": 63,
     "metadata": {},
     "output_type": "execute_result"
    }
   ],
   "source": [
    "ll = open('bla.txt').readlines() # retourne une liste de lignes\n",
    "ll"
   ]
  },
  {
   "cell_type": "code",
   "execution_count": 64,
   "metadata": {},
   "outputs": [
    {
     "name": "stdout",
     "output_type": "stream",
     "text": [
      "Ga\n",
      " Bu\n",
      " Zo\n",
      " Meu\n",
      " "
     ]
    }
   ],
   "source": [
    "for line in open('bla.txt'): print (line, end=' ') # on peut itérer sur un fichier ouvert"
   ]
  },
  {
   "cell_type": "code",
   "execution_count": 65,
   "metadata": {
    "collapsed": true
   },
   "outputs": [],
   "source": [
    "with open('bla.txt','a') as f: # On utilise de préférence cette syntaxe pour éviter d'oublier de refermer le fichier\n",
    "    f.write('toto')            # open() retourne un \"context manager\", la variable f n'existe que dans le bloc indenté"
   ]
  },
  {
   "cell_type": "code",
   "execution_count": 66,
   "metadata": {},
   "outputs": [
    {
     "name": "stdout",
     "output_type": "stream",
     "text": [
      "Ga\r\n",
      "Bu\r\n",
      "Zo\r\n",
      "Meu\r\n",
      "toto"
     ]
    }
   ],
   "source": [
    "!cat bla.txt"
   ]
  },
  {
   "cell_type": "code",
   "execution_count": 67,
   "metadata": {},
   "outputs": [
    {
     "name": "stdout",
     "output_type": "stream",
     "text": [
      "Il est plus facile de se laver les dents dans un verre à pied que de se laver les pieds dans un verre à dents.\r\n"
     ]
    }
   ],
   "source": [
    "!cat blu.txt"
   ]
  },
  {
   "cell_type": "code",
   "execution_count": 68,
   "metadata": {},
   "outputs": [
    {
     "data": {
      "text/plain": [
       "'Il est plus facile de se laver les dents dans un verre à pied que de se laver les pieds dans un verre à dents.\\n'"
      ]
     },
     "execution_count": 68,
     "metadata": {},
     "output_type": "execute_result"
    }
   ],
   "source": [
    "open('blu.txt','r', encoding='utf8').read() "
   ]
  },
  {
   "cell_type": "code",
   "execution_count": 69,
   "metadata": {},
   "outputs": [
    {
     "data": {
      "text/plain": [
       "b'Il est plus facile de se laver les dents dans un verre \\xc3\\xa0 pied que de se laver les pieds dans un verre \\xc3\\xa0 dents.\\n'"
      ]
     },
     "execution_count": 69,
     "metadata": {},
     "output_type": "execute_result"
    }
   ],
   "source": [
    "open('blu.txt','rb').read() "
   ]
  },
  {
   "cell_type": "code",
   "execution_count": null,
   "metadata": {
    "collapsed": true
   },
   "outputs": [],
   "source": []
  },
  {
   "cell_type": "code",
   "execution_count": null,
   "metadata": {
    "collapsed": true
   },
   "outputs": [],
   "source": []
  }
 ],
 "metadata": {
  "kernelspec": {
   "display_name": "Python 3 (ipykernel)",
   "language": "python",
   "name": "python3"
  },
  "language_info": {
   "codemirror_mode": {
    "name": "ipython",
    "version": 3
   },
   "file_extension": ".py",
   "mimetype": "text/x-python",
   "name": "python",
   "nbconvert_exporter": "python",
   "pygments_lexer": "ipython3",
   "version": "3.11.1"
  }
 },
 "nbformat": 4,
 "nbformat_minor": 1
}
