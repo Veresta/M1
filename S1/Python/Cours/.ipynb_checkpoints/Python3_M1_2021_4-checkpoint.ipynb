{
 "cells": [
  {
   "cell_type": "markdown",
   "metadata": {},
   "source": [
    "# Python et le web\n",
    "\n",
    "### Pour le protocole <tt> http</tt> :\n",
    "\n",
    "- [urllib](https://docs.python.org/3/library/urllib.html) permet d'effectuer facilement des opérations simples (ouvrir une URL comme un fichier, GET et POST)\n",
    "- [http.server](https://docs.python.org/3.7/library/http.server.html#module-http.server) permet de monter un serveur (de test !) en quelques lignes\n",
    "- [cgi](https://docs.python.org/3/library/cgi.html) permet d'écrire des serveurs de scripts \n",
    "- [http.client](https://docs.python.org/3.7/library/http.client.html#module-http.client), bas niveau\n",
    "\n",
    "- [xmlrpc.client](https://docs.python.org/3.7/library/xmlrpc.client.html)\n",
    "- [xmlrpc.server](https://docs.python.org/3.7/library/xmlrpc.server.html)\n",
    "Web services (minimaliste) \n",
    "\n",
    "### Pour le traitement du HTML :\n",
    "\n",
    "\n",
    "- [html.parser](https://docs.python.org/3.7/library/html.parser.html#module-html.parser) analyse HTML et XHTML\n",
    "- [html.entities](https://docs.python.org/3.7/library/html.entities.html#module-html.entities)\n",
    "- Nombreuses contributions externes, comme [Beautiful Soup](https://www.crummy.com/software/BeautifulSoup/bs4/doc/) et [requests](https://requests-fr.readthedocs.io/en/latest/)]\n",
    "- Bon support du XML : [xml.*](https://docs.python.org/3.7/library/xml.html#module-xml)\n",
    "\n",
    "### Pour la construction de sites :\n",
    "\n",
    "[Django](https://www.djangoproject.com/), [Turbogears](http://turbogears.org/), [Flask](http://flask.pocoo.org/) (frameworks)\n",
    "[Zope](https://www.zope.org/) (serveur d'applications), [Plone](http://plone.fr/) (gestion de contenu)\n",
    "Bibliothèques (externes) pour [SOAP](https://en.wikipedia.org/wiki/SOAP), \n",
    "[CORBA](https://fr.wikipedia.org/wiki/Common_Object_Request_Broker_Architecture), [REST](https://fr.wikipedia.org/wiki/Representational_state_transfer) ...\n",
    "\n"
   ]
  },
  {
   "cell_type": "markdown",
   "metadata": {},
   "source": [
    "\n",
    "## Le module urllib\n",
    "\n",
    "Fonctions de base pour lire des données à partir d'une URL.\n",
    "Protocoles : <tt>http, https, ftp, gopher, file</tt>.\n",
    "\n",
    "- `urllib.request` pour lire et écrire des URLs\n",
    "- `urllib.error` contient les exceptions levées par urllib.request\n",
    "- `urllib.parse` pour analyser les URLs\n",
    "- `urllib.robotparser` pour analyser les fichiers robots.txt \n",
    "\n"
   ]
  },
  {
   "cell_type": "code",
   "execution_count": 1,
   "metadata": {},
   "outputs": [],
   "source": [
    "from urllib.request import urlopen\n",
    "s = urlopen('http://igm.univ-mlv.fr/~jyt/M1_python').read()"
   ]
  },
  {
   "cell_type": "code",
   "execution_count": 3,
   "metadata": {},
   "outputs": [
    {
     "name": "stdout",
     "output_type": "stream",
     "text": [
      "b'<html>\\n\\t<body>\\n\\t\\t<H1> M1 Informatique : Python </H1>\\n\\t\\t<ul>\\n\\t\\t\\t<li> Commencer ici : <a href=\"http://www.python.org/\">python.org</a>\\n\\t\\t\\t<li> La <a href=\"http://docs.python.org/3.8\">documentation</a> officielle\\n\\t\\t\\t<li> Le <a href=\"http://www.pythonchallenge.com/\"> Python Challenge</a>\\n\\t\\t\\t<li> <a href=\"https://python.developpez.com/cours/DiveIntoPython/\"><i>Dive into Python</i></a>  \\n\\t\\t\\tpar <a href=\"http://en.wikipedia.org/wiki/Mark_Pilgrim_%28software_developer%29\">Mark Pilgrim</a> \\n\\t\\t\\t(un livre recommand&eacute; mais ancien);\\n\\t\\t\\t<a href=\"http://diveintopython3.problemsolving.io/\">version Python 3</a>. \\n\\t\\t\\t<li> La <a href=\"http://fr.wikipedia.org/wiki/Python_%28langage%29\">page</a> de Wikip&eacute;dia contient un bon r&eacute;sum&eacute;\\n\\t\\t\\t<li> Introduction au <i>notebook</i> ipython ou jupyter :)\\n\\t\\t\\t<ul> \\n\\t\\t\\t\\t<li> <a href=\"intro_jupyter.html\">Exemple</a>  de ce qu\\'on peut obtenir (converti en html)\\n\\t\\t\\t\\t<li> Le <a href=\"intro_jupyter.ipynb\">code source</a> (fichier <tt>.ipynb</tt>), &agrave; t&eacute;l&eacute;charger\\n\\t\\t\\t\\t<li> Lancer un terminal, aller dans le dossier contenant le fichier <tt>.ipynb</tt>, et entrer la commande <tt>jupyter notebook</tt>\\n\\t\\t\\t</ul>\\n\\t\\t\\t<li> Cours 1 (22/9/21) <a href=\"python3_M1_2021-1.html\">html</a> - <a href=\"python3_M1_2021-1.ipynb\">notebook</a>\\n\\t\\t\\t<li> <a href=\"td1_python3_2020.html\"> TD 1</a> (22/9/21)\\n\\t\\t\\t<li> <a href=\"script3.py\">mod&egrave;le de script</a> avec options et documentation\\n\\t\\t\\t<li> <a href=\"td1_sol_3_2021.html\">Corrig&eacute</a> du TD 1\\n\\t\\t\\t<li> Cours 2 (29/09/2021) <a href=\"Python3_M1_2021-2.html\">html</a> - <a href=\"Python3_M1_2021-2.ipynb\">notebook</a>\\n\\t\\t\\t<li> <a href=\"td2_2021_texte.html\">TD 2</a> (29/09/2021)\\n\\t\\t\\t<li> <a href=\"td2_solpy3_2021.html\">Corrig&eacute</a> du TD 2\\n\\t\\t\\t<li> Cours 3 (6/10/2021) <a href=\"python3_M1_2021-3.html\">html</a> - <a href=\"python3_M1_2021-3.ipynb\">notebook</a>\\n\\t\\t\\t<li> <a href=\"td3_2021_texte.html\">TD 3</a> (6/10/2021)\\n\\n\\n\\n\\t\\t\\n\\n\\n\\t\\t\\t\\n\\n\\t\\t</ul>\\n\\t</body>\\n</html>\\n\\n\\t\\t\\n'\n"
     ]
    }
   ],
   "source": [
    "print(s)"
   ]
  },
  {
   "cell_type": "code",
   "execution_count": 4,
   "metadata": {},
   "outputs": [
    {
     "name": "stdout",
     "output_type": "stream",
     "text": [
      "<html>\n",
      "\t<body>\n",
      "\t\t<H1> M1 Informatique : Python </H1>\n",
      "\t\t<ul>\n",
      "\t\t\t<li> Commencer ici : <a href=\"http://www.python.org/\">python.org</a>\n",
      "\t\t\t<li> La <a href=\"http://docs.python.org/3.8\">documentation</a> officielle\n",
      "\t\t\t<li> Le <a href=\"http://www.pythonchallenge.com/\"> Python Challenge</a>\n",
      "\t\t\t<li> <a href=\"https://python.developpez.com/cours/DiveIntoPython/\"><i>Dive into Python</i></a>  \n",
      "\t\t\tpar <a href=\"http://en.wikipedia.org/wiki/Mark_Pilgrim_%28software_developer%29\">Mark Pilgrim</a> \n",
      "\t\t\t(un livre recommand&eacute; mais ancien);\n",
      "\t\t\t<a href=\"http://diveintopython3.problemsolving.io/\">version Python 3</a>. \n",
      "\t\t\t<li> La <a href=\"http://fr.wikipedia.org/wiki/Python_%28langage%29\">page</a> de Wikip&eacute;dia contient un bon r&eacute;sum&eacute;\n",
      "\t\t\t<li> Introduction au <i>notebook</i> ipython ou jupyter :)\n",
      "\t\t\t<ul> \n",
      "\t\t\t\t<li> <a href=\"intro_jupyter.html\">Exemple</a>  de ce qu'on peut obtenir (converti en html)\n",
      "\t\t\t\t<li> Le <a href=\"intro_jupyter.ipynb\">code source</a> (fichier <tt>.ipynb</tt>), &agrave; t&eacute;l&eacute;charger\n",
      "\t\t\t\t<li> Lancer un terminal, aller dans le dossier contenant le fichier <tt>.ipynb</tt>, et entrer la commande <tt>jupyter notebook</tt>\n",
      "\t\t\t</ul>\n",
      "\t\t\t<li> Cours 1 (22/9/21) <a href=\"python3_M1_2021-1.html\">html</a> - <a href=\"python3_M1_2021-1.ipynb\">notebook</a>\n",
      "\t\t\t<li> <a href=\"td1_python3_2020.html\"> TD 1</a> (22/9/21)\n",
      "\t\t\t<li> <a href=\"script3.py\">mod&egrave;le de script</a> avec options et documentation\n",
      "\t\t\t<li> <a href=\"td1_sol_3_2021.html\">Corrig&eacute</a> du TD 1\n",
      "\t\t\t<li> Cours 2 (29/09/2021) <a href=\"Python3_M1_2021-2.html\">html</a> - <a href=\"Python3_M1_2021-2.ipynb\">notebook</a>\n",
      "\t\t\t<li> <a href=\"td2_2021_texte.html\">TD 2</a> (29/09/2021)\n",
      "\t\t\t<li> <a href=\"td2_solpy3_2021.html\">Corrig&eacute</a> du TD 2\n",
      "\t\t\t<li> Cours 3 (6/10/2021) <a href=\"python3_M1_2021-3.html\">html</a> - <a href=\"python3_M1_2021-3.ipynb\">notebook</a>\n",
      "\t\t\t<li> <a href=\"td3_2021_texte.html\">TD 3</a> (6/10/2021)\n",
      "\n",
      "\n",
      "\n",
      "\t\t\n",
      "\n",
      "\n",
      "\t\t\t\n",
      "\n",
      "\t\t</ul>\n",
      "\t</body>\n",
      "</html>\n",
      "\n",
      "\t\t\n",
      "\n"
     ]
    }
   ],
   "source": [
    "print(s.decode('ascii'))"
   ]
  },
  {
   "cell_type": "markdown",
   "metadata": {},
   "source": [
    "`urlopen` renvoie un objet \"file-like\". \n",
    "\n",
    "Méthodes :\n",
    "    \n",
    "`read(), readline(), readlines(), fileno(), close()`, \n",
    "et en plus ` info(), geturl()`.\n",
    "\n",
    "\n",
    "    "
   ]
  },
  {
   "cell_type": "code",
   "execution_count": 5,
   "metadata": {},
   "outputs": [],
   "source": [
    "f = urlopen('http://igm.univ-mlv.fr/~jyt/M1_python')"
   ]
  },
  {
   "cell_type": "code",
   "execution_count": 6,
   "metadata": {},
   "outputs": [
    {
     "name": "stdout",
     "output_type": "stream",
     "text": [
      "['__abstractmethods__', '__class__', '__del__', '__delattr__', '__dict__', '__dir__', '__doc__', '__enter__', '__eq__', '__exit__', '__format__', '__ge__', '__getattribute__', '__gt__', '__hash__', '__init__', '__init_subclass__', '__iter__', '__le__', '__lt__', '__module__', '__ne__', '__new__', '__next__', '__reduce__', '__reduce_ex__', '__repr__', '__setattr__', '__sizeof__', '__str__', '__subclasshook__', '_abc_impl', '_checkClosed', '_checkReadable', '_checkSeekable', '_checkWritable', '_check_close', '_close_conn', '_get_chunk_left', '_method', '_peek_chunked', '_read1_chunked', '_read_and_discard_trailer', '_read_next_chunk_size', '_read_status', '_readall_chunked', '_readinto_chunked', '_safe_read', '_safe_readinto', 'begin', 'chunk_left', 'chunked', 'close', 'closed', 'code', 'debuglevel', 'detach', 'fileno', 'flush', 'fp', 'getcode', 'getheader', 'getheaders', 'geturl', 'headers', 'info', 'isatty', 'isclosed', 'length', 'msg', 'peek', 'read', 'read1', 'readable', 'readinto', 'readinto1', 'readline', 'readlines', 'reason', 'seek', 'seekable', 'status', 'tell', 'truncate', 'url', 'version', 'will_close', 'writable', 'write', 'writelines']\n"
     ]
    }
   ],
   "source": [
    "print(dir(f))"
   ]
  },
  {
   "cell_type": "code",
   "execution_count": 7,
   "metadata": {},
   "outputs": [
    {
     "data": {
      "text/plain": [
       "200"
      ]
     },
     "execution_count": 7,
     "metadata": {},
     "output_type": "execute_result"
    }
   ],
   "source": [
    "f.code"
   ]
  },
  {
   "cell_type": "code",
   "execution_count": 10,
   "metadata": {},
   "outputs": [
    {
     "data": {
      "text/plain": [
       "[('Date', 'Sun, 10 Oct 2021 09:05:33 GMT'),\n",
       " ('Server', 'Apache'),\n",
       " ('Last-Modified', 'Wed, 06 Oct 2021 06:00:47 GMT'),\n",
       " ('ETag', '\"1760011-7b3-5cda8de0ac1c0\"'),\n",
       " ('Accept-Ranges', 'bytes'),\n",
       " ('Content-Length', '1971'),\n",
       " ('Connection', 'close'),\n",
       " ('Content-Type', 'text/html')]"
      ]
     },
     "execution_count": 10,
     "metadata": {},
     "output_type": "execute_result"
    }
   ],
   "source": [
    "f.getheaders()"
   ]
  },
  {
   "cell_type": "code",
   "execution_count": 11,
   "metadata": {},
   "outputs": [
    {
     "data": {
      "text/plain": [
       "'http://igm.univ-mlv.fr/~jyt/M1_python/'"
      ]
     },
     "execution_count": 11,
     "metadata": {},
     "output_type": "execute_result"
    }
   ],
   "source": [
    "f.geturl()"
   ]
  },
  {
   "cell_type": "markdown",
   "metadata": {},
   "source": [
    "### Exemple\n",
    "Pour savoir si un nouveau document a été mis en ligne \n",
    "(le fichier `etag_python`  doit avoir été initialisé) :"
   ]
  },
  {
   "cell_type": "code",
   "execution_count": 13,
   "metadata": {},
   "outputs": [
    {
     "name": "stdout",
     "output_type": "stream",
     "text": [
      "Wed, 06 Oct 2021 06:00:47 GMT\n",
      "La page du cours de Python a été modifiée\n"
     ]
    }
   ],
   "source": [
    "url = 'http://igm.univ-mlv.fr/~jyt/M1_python'\n",
    "t = open('etag_python').read()\n",
    "d = urlopen(url).info()\n",
    "s = d['etag']\n",
    "print (d['last-modified'])\n",
    "if s != t :\n",
    "    print (\"La page du cours de Python a été modifiée\")\n",
    "    open('etag_python','w').write(s)\n",
    "else: print (\"Aucune modification\")"
   ]
  },
  {
   "cell_type": "markdown",
   "metadata": {},
   "source": [
    "`urlopen` prend un paramètre optionnel, `data`. Si\n",
    "`data` est `None`, elle envoie une requête GET, sinon\n",
    "une requête POST. \n"
   ]
  },
  {
   "cell_type": "code",
   "execution_count": 14,
   "metadata": {},
   "outputs": [
    {
     "data": {
      "text/plain": [
       "'q=1%2C1%2C3%2C11%2C49%2C257&language=english&go=Search'"
      ]
     },
     "execution_count": 14,
     "metadata": {},
     "output_type": "execute_result"
    }
   ],
   "source": [
    "from urllib.parse import urlencode\n",
    "url='http://oeis.org'\n",
    "query={'q':'1,1,3,11,49,257','language':'english', 'go':'Search'}\n",
    "data = urlencode(query)\n",
    "\n",
    "data"
   ]
  },
  {
   "cell_type": "code",
   "execution_count": 15,
   "metadata": {},
   "outputs": [],
   "source": [
    "s = urlopen(url,data.encode('ascii')).read()"
   ]
  },
  {
   "cell_type": "code",
   "execution_count": 16,
   "metadata": {},
   "outputs": [
    {
     "data": {
      "text/plain": [
       "b'\\n<!DOCTYPE html PUBLIC \"-//W3C//DTD HTML 3.2 Final//EN\">\\n<html>\\n  \\n  <head>\\n  <style>\\n  tt { font-family: monospace; font-size: 100%; }\\n  p.editing { font-family: monospace; margin: 10px; text-indent: -10px; word-wrap:break-word;}\\n  p { word-wrap: break-word; }\\n  </style>\\n  <meta http-equiv=\"content'"
      ]
     },
     "execution_count": 16,
     "metadata": {},
     "output_type": "execute_result"
    }
   ],
   "source": [
    "s[:300]"
   ]
  },
  {
   "cell_type": "markdown",
   "metadata": {},
   "source": [
    "## Le module urllib.parse\n",
    "\n",
    "La manipulation des URLs est facilitée par le module [urllib.parse](https://docs.python.org/3.7/library/urllib.parse.html)"
   ]
  },
  {
   "cell_type": "code",
   "execution_count": 17,
   "metadata": {},
   "outputs": [],
   "source": [
    "from urllib.parse import unquote, urlsplit, urlunsplit"
   ]
  },
  {
   "cell_type": "code",
   "execution_count": 18,
   "metadata": {},
   "outputs": [
    {
     "data": {
      "text/plain": [
       "'q=1,1,3,11,49,257&language=english&go=Search'"
      ]
     },
     "execution_count": 18,
     "metadata": {},
     "output_type": "execute_result"
    }
   ],
   "source": [
    "unquote(data)"
   ]
  },
  {
   "cell_type": "code",
   "execution_count": 19,
   "metadata": {},
   "outputs": [
    {
     "data": {
      "text/plain": [
       "SplitResult(scheme='http', netloc='www.google.fr', path='/search', query='as_q=python&hl=fr&num=10&btnG=Recherche+Google&as_epq=&as_oq=&as_eq=&lr=&cr=&as_ft=i&as_filetype=pdf&as_qdr=all&as_occt=any&as_dt=i&as_sitesearch=univ-mlv.fr&as_rights=&safe=images', fragment='')"
      ]
     },
     "execution_count": 19,
     "metadata": {},
     "output_type": "execute_result"
    }
   ],
   "source": [
    "x='http://www.google.fr/search?as_q=python&hl=fr&num=10&btnG=Recherche+Google&as_epq=&as_oq=&as_eq=&lr=&cr=&as_ft=i&as_filetype=pdf&as_qdr=all&as_occt=any&as_dt=i&as_sitesearch=univ-mlv.fr&as_rights=&safe=images'\n",
    "\n",
    "y = urlsplit(x)\n",
    "y"
   ]
  },
  {
   "cell_type": "code",
   "execution_count": 20,
   "metadata": {},
   "outputs": [
    {
     "data": {
      "text/plain": [
       "'www.google.fr'"
      ]
     },
     "execution_count": 20,
     "metadata": {},
     "output_type": "execute_result"
    }
   ],
   "source": [
    "y.netloc"
   ]
  },
  {
   "cell_type": "code",
   "execution_count": 21,
   "metadata": {},
   "outputs": [
    {
     "data": {
      "text/plain": [
       "'/search'"
      ]
     },
     "execution_count": 21,
     "metadata": {},
     "output_type": "execute_result"
    }
   ],
   "source": [
    "y.path"
   ]
  },
  {
   "cell_type": "code",
   "execution_count": 22,
   "metadata": {},
   "outputs": [
    {
     "data": {
      "text/plain": [
       "'as_q=python&hl=fr&num=10&btnG=Recherche+Google&as_epq=&as_oq=&as_eq=&lr=&cr=&as_ft=i&as_filetype=pdf&as_qdr=all&as_occt=any&as_dt=i&as_sitesearch=univ-mlv.fr&as_rights=&safe=images'"
      ]
     },
     "execution_count": 22,
     "metadata": {},
     "output_type": "execute_result"
    }
   ],
   "source": [
    "y.query"
   ]
  },
  {
   "cell_type": "code",
   "execution_count": 23,
   "metadata": {},
   "outputs": [
    {
     "data": {
      "text/plain": [
       "'http://www.google.fr/search?as_q=python&hl=fr&num=10&btnG=Recherche+Google&as_epq=&as_oq=&as_eq=&lr=&cr=&as_ft=i&as_filetype=pdf&as_qdr=all&as_occt=any&as_dt=i&as_sitesearch=univ-mlv.fr&as_rights=&safe=images'"
      ]
     },
     "execution_count": 23,
     "metadata": {},
     "output_type": "execute_result"
    }
   ],
   "source": [
    "urlunsplit(y)"
   ]
  },
  {
   "cell_type": "markdown",
   "metadata": {},
   "source": [
    "## Fonctionalités avancées d'urllib.request\n",
    "\n",
    "\n",
    "La fonction `urlopen` suffit pour les applications les plus courantes.\n",
    "\n",
    "Elle supporte les proxys pourvu qu'ils ne demandent pas d'authentification.\n",
    "Il suffit de positionner les variables d'environnement\n",
    "`http_proxy, ftp_proxy`, etc.\n",
    "\n",
    "<pre>\n",
    "$ http_proxy=\"http://www.monproxy.com:1234\"\n",
    "$ export http_proxy\n",
    "$ python\n",
    "</pre>\n",
    "\n",
    "Pour un contrôle plus fin (authentification, user-agent, cookies)\n",
    "on peut utiliser la classe `urllib.request.Request` (héritée du module\n",
    "`urllib2` de Python 2.\n",
    "\n",
    "\n"
   ]
  },
  {
   "cell_type": "code",
   "execution_count": 24,
   "metadata": {},
   "outputs": [
    {
     "name": "stdout",
     "output_type": "stream",
     "text": [
      "['__class__', '__delattr__', '__dict__', '__dir__', '__doc__', '__eq__', '__format__', '__ge__', '__getattribute__', '__gt__', '__hash__', '__init__', '__init_subclass__', '__le__', '__lt__', '__module__', '__ne__', '__new__', '__reduce__', '__reduce_ex__', '__repr__', '__setattr__', '__sizeof__', '__str__', '__subclasshook__', '__weakref__', '_data', '_full_url', '_parse', '_tunnel_host', 'add_header', 'add_unredirected_header', 'data', 'fragment', 'full_url', 'get_full_url', 'get_header', 'get_method', 'has_header', 'has_proxy', 'header_items', 'headers', 'host', 'origin_req_host', 'remove_header', 'selector', 'set_proxy', 'type', 'unredirected_hdrs', 'unverifiable']\n"
     ]
    }
   ],
   "source": [
    "from urllib.request import Request \n",
    "url='http://oeis.org'\n",
    "req = Request(url)\n",
    "print(dir(req))"
   ]
  },
  {
   "cell_type": "markdown",
   "metadata": {},
   "source": [
    "En spécifiant les en-têtes, on peut par exemple se faire passer pour Internet Explorer "
   ]
  },
  {
   "cell_type": "code",
   "execution_count": 25,
   "metadata": {},
   "outputs": [
    {
     "data": {
      "text/plain": [
       "{'User-agent': 'Mozilla/4.0 (compatible; MSIE 5.5; Windows NT)'}"
      ]
     },
     "execution_count": 25,
     "metadata": {},
     "output_type": "execute_result"
    }
   ],
   "source": [
    "req.add_header('User-agent','Mozilla/4.0 (compatible; MSIE 5.5; Windows NT)')\n",
    "req.headers"
   ]
  },
  {
   "cell_type": "markdown",
   "metadata": {},
   "source": [
    "Ou envoyer un cookie"
   ]
  },
  {
   "cell_type": "code",
   "execution_count": 26,
   "metadata": {},
   "outputs": [
    {
     "data": {
      "text/plain": [
       "{'User-agent': 'Mozilla/4.0 (compatible; MSIE 5.5; Windows NT)',\n",
       " 'Cookie': 'info=En-veux-tu%3F%20En%20voil%E0%21'}"
      ]
     },
     "execution_count": 26,
     "metadata": {},
     "output_type": "execute_result"
    }
   ],
   "source": [
    "req.add_header('Cookie', 'info=En-veux-tu%3F%20En%20voil%E0%21')\n",
    "req.headers"
   ]
  },
  {
   "cell_type": "markdown",
   "metadata": {},
   "source": [
    "Quand on ouvre une URL, on utilise un `opener`. On peut\n",
    "remplacer l'`opener` par défaut pour gérer l'authentification, les\n",
    "proxys, etc. Les `opener`s utilisent des `handlers`.\n",
    "\n",
    "`build_opener` est utilisé pour créer des objets `opener`,\n",
    "qui permettent d'ouvrir des URLs avec des handlers spécifiques. \n",
    "\n",
    "Les `handler`s peuvent gérer des cookies, l'authentification, et autres cas communs\n",
    "mais un peu spécifiques. \n",
    "\n",
    "Les objets `Opener` ont une méthode `open`, qui peut être appelée directement \n",
    "pour ouvrir des urls de la même manière que la fonction urlopen.\n",
    "\n",
    "\n",
    "`install_opener`\n",
    "peut être utilisé pour rendre l'objet `opener`\n",
    "l'opener par défaut. Cela signifie que les appels à `urlopen` l'utiliseront.\n",
    "\n",
    "### Exemple : authentification basique.\n",
    "\n",
    "Pour demander une authentification, le serveur envoie le coded'erreur 401 et un en-tête du type\n",
    "\n",
    "`www-authenticate: SCHEME realm=\"REALM\"`\n",
    "\n",
    "Le client doit alors re-essayer la requête avec un couple `(username,  password)`\n",
    "correct pour le domaine (realm). \n",
    "\n",
    "On peut gérer cela avec une instance de `HTTPBasicAuthHandler` et un \n",
    "opener pour utiliser ce handler.\n",
    "\n",
    "`HTTPBasicAuthHandler` utilise un  \"password manager\" \n",
    "pour gérer la correspondance entre les URIs et realms (domaines) et les\n",
    "couple  (password,  username). \n",
    "\n",
    "En général  un seul domaine (realm) par URI : `HTTPPasswordMgrWithDefaultRealm`. \n",
    "\n",
    "Exemple de la documentation officielle :\n",
    "\n",
    "```python\n",
    "import urllib.request\n",
    "# Create an OpenerDirector with support for Basic HTTP Authentication...\n",
    "auth_handler = urllib.request.HTTPBasicAuthHandler()\n",
    "auth_handler.add_password(realm='PDQ Application',\n",
    "                          uri='https://mahler:8092/site-updates.py',\n",
    "                          user='klem',\n",
    "                          passwd='kadidd!ehopper')\n",
    "opener = urllib.request.build_opener(auth_handler)\n",
    "# ...and install it globally so it can be used with urlopen.\n",
    "urllib.request.install_opener(opener)\n",
    "urllib.request.urlopen('http://www.example.com/login.html')\n",
    "```\n",
    "\n",
    "\n",
    "Pour en savoir plus :\n",
    "[urllib.request](https://docs.python.org/3/library/urllib.request.html)\n",
    "\n",
    "## Le module requests (à installer)\n",
    "\n",
    "Il existe un module tiers ([requests](https://requests-fr.readthedocs.io/en/latest/)) beaucoup plus pratique.\n",
    "\n"
   ]
  },
  {
   "cell_type": "code",
   "execution_count": 27,
   "metadata": {},
   "outputs": [],
   "source": [
    "import requests"
   ]
  },
  {
   "cell_type": "code",
   "execution_count": 28,
   "metadata": {},
   "outputs": [],
   "source": [
    "url = \"http://igm.univ-mlv.fr/~jyt/secret/\""
   ]
  },
  {
   "cell_type": "markdown",
   "metadata": {},
   "source": [
    "Si on essaie d'u accéder, un popup demande un nom d'utilisateur et un mot de passe."
   ]
  },
  {
   "cell_type": "code",
   "execution_count": 29,
   "metadata": {},
   "outputs": [
    {
     "ename": "HTTPError",
     "evalue": "HTTP Error 401: Authorization Required",
     "output_type": "error",
     "traceback": [
      "\u001b[0;31m---------------------------------------------------------------------------\u001b[0m",
      "\u001b[0;31mHTTPError\u001b[0m                                 Traceback (most recent call last)",
      "\u001b[0;32m<ipython-input-29-3ec16db46158>\u001b[0m in \u001b[0;36m<module>\u001b[0;34m\u001b[0m\n\u001b[0;32m----> 1\u001b[0;31m \u001b[0mf\u001b[0m \u001b[0;34m=\u001b[0m \u001b[0murlopen\u001b[0m\u001b[0;34m(\u001b[0m\u001b[0murl\u001b[0m\u001b[0;34m)\u001b[0m\u001b[0;34m.\u001b[0m\u001b[0mread\u001b[0m\u001b[0;34m(\u001b[0m\u001b[0;34m)\u001b[0m\u001b[0;34m\u001b[0m\u001b[0;34m\u001b[0m\u001b[0m\n\u001b[0m",
      "\u001b[0;32m/usr/lib/python3.8/urllib/request.py\u001b[0m in \u001b[0;36murlopen\u001b[0;34m(url, data, timeout, cafile, capath, cadefault, context)\u001b[0m\n\u001b[1;32m    220\u001b[0m     \u001b[0;32melse\u001b[0m\u001b[0;34m:\u001b[0m\u001b[0;34m\u001b[0m\u001b[0;34m\u001b[0m\u001b[0m\n\u001b[1;32m    221\u001b[0m         \u001b[0mopener\u001b[0m \u001b[0;34m=\u001b[0m \u001b[0m_opener\u001b[0m\u001b[0;34m\u001b[0m\u001b[0;34m\u001b[0m\u001b[0m\n\u001b[0;32m--> 222\u001b[0;31m     \u001b[0;32mreturn\u001b[0m \u001b[0mopener\u001b[0m\u001b[0;34m.\u001b[0m\u001b[0mopen\u001b[0m\u001b[0;34m(\u001b[0m\u001b[0murl\u001b[0m\u001b[0;34m,\u001b[0m \u001b[0mdata\u001b[0m\u001b[0;34m,\u001b[0m \u001b[0mtimeout\u001b[0m\u001b[0;34m)\u001b[0m\u001b[0;34m\u001b[0m\u001b[0;34m\u001b[0m\u001b[0m\n\u001b[0m\u001b[1;32m    223\u001b[0m \u001b[0;34m\u001b[0m\u001b[0m\n\u001b[1;32m    224\u001b[0m \u001b[0;32mdef\u001b[0m \u001b[0minstall_opener\u001b[0m\u001b[0;34m(\u001b[0m\u001b[0mopener\u001b[0m\u001b[0;34m)\u001b[0m\u001b[0;34m:\u001b[0m\u001b[0;34m\u001b[0m\u001b[0;34m\u001b[0m\u001b[0m\n",
      "\u001b[0;32m/usr/lib/python3.8/urllib/request.py\u001b[0m in \u001b[0;36mopen\u001b[0;34m(self, fullurl, data, timeout)\u001b[0m\n\u001b[1;32m    529\u001b[0m         \u001b[0;32mfor\u001b[0m \u001b[0mprocessor\u001b[0m \u001b[0;32min\u001b[0m \u001b[0mself\u001b[0m\u001b[0;34m.\u001b[0m\u001b[0mprocess_response\u001b[0m\u001b[0;34m.\u001b[0m\u001b[0mget\u001b[0m\u001b[0;34m(\u001b[0m\u001b[0mprotocol\u001b[0m\u001b[0;34m,\u001b[0m \u001b[0;34m[\u001b[0m\u001b[0;34m]\u001b[0m\u001b[0;34m)\u001b[0m\u001b[0;34m:\u001b[0m\u001b[0;34m\u001b[0m\u001b[0;34m\u001b[0m\u001b[0m\n\u001b[1;32m    530\u001b[0m             \u001b[0mmeth\u001b[0m \u001b[0;34m=\u001b[0m \u001b[0mgetattr\u001b[0m\u001b[0;34m(\u001b[0m\u001b[0mprocessor\u001b[0m\u001b[0;34m,\u001b[0m \u001b[0mmeth_name\u001b[0m\u001b[0;34m)\u001b[0m\u001b[0;34m\u001b[0m\u001b[0;34m\u001b[0m\u001b[0m\n\u001b[0;32m--> 531\u001b[0;31m             \u001b[0mresponse\u001b[0m \u001b[0;34m=\u001b[0m \u001b[0mmeth\u001b[0m\u001b[0;34m(\u001b[0m\u001b[0mreq\u001b[0m\u001b[0;34m,\u001b[0m \u001b[0mresponse\u001b[0m\u001b[0;34m)\u001b[0m\u001b[0;34m\u001b[0m\u001b[0;34m\u001b[0m\u001b[0m\n\u001b[0m\u001b[1;32m    532\u001b[0m \u001b[0;34m\u001b[0m\u001b[0m\n\u001b[1;32m    533\u001b[0m         \u001b[0;32mreturn\u001b[0m \u001b[0mresponse\u001b[0m\u001b[0;34m\u001b[0m\u001b[0;34m\u001b[0m\u001b[0m\n",
      "\u001b[0;32m/usr/lib/python3.8/urllib/request.py\u001b[0m in \u001b[0;36mhttp_response\u001b[0;34m(self, request, response)\u001b[0m\n\u001b[1;32m    638\u001b[0m         \u001b[0;31m# request was successfully received, understood, and accepted.\u001b[0m\u001b[0;34m\u001b[0m\u001b[0;34m\u001b[0m\u001b[0;34m\u001b[0m\u001b[0m\n\u001b[1;32m    639\u001b[0m         \u001b[0;32mif\u001b[0m \u001b[0;32mnot\u001b[0m \u001b[0;34m(\u001b[0m\u001b[0;36m200\u001b[0m \u001b[0;34m<=\u001b[0m \u001b[0mcode\u001b[0m \u001b[0;34m<\u001b[0m \u001b[0;36m300\u001b[0m\u001b[0;34m)\u001b[0m\u001b[0;34m:\u001b[0m\u001b[0;34m\u001b[0m\u001b[0;34m\u001b[0m\u001b[0m\n\u001b[0;32m--> 640\u001b[0;31m             response = self.parent.error(\n\u001b[0m\u001b[1;32m    641\u001b[0m                 'http', request, response, code, msg, hdrs)\n\u001b[1;32m    642\u001b[0m \u001b[0;34m\u001b[0m\u001b[0m\n",
      "\u001b[0;32m/usr/lib/python3.8/urllib/request.py\u001b[0m in \u001b[0;36merror\u001b[0;34m(self, proto, *args)\u001b[0m\n\u001b[1;32m    567\u001b[0m         \u001b[0;32mif\u001b[0m \u001b[0mhttp_err\u001b[0m\u001b[0;34m:\u001b[0m\u001b[0;34m\u001b[0m\u001b[0;34m\u001b[0m\u001b[0m\n\u001b[1;32m    568\u001b[0m             \u001b[0margs\u001b[0m \u001b[0;34m=\u001b[0m \u001b[0;34m(\u001b[0m\u001b[0mdict\u001b[0m\u001b[0;34m,\u001b[0m \u001b[0;34m'default'\u001b[0m\u001b[0;34m,\u001b[0m \u001b[0;34m'http_error_default'\u001b[0m\u001b[0;34m)\u001b[0m \u001b[0;34m+\u001b[0m \u001b[0morig_args\u001b[0m\u001b[0;34m\u001b[0m\u001b[0;34m\u001b[0m\u001b[0m\n\u001b[0;32m--> 569\u001b[0;31m             \u001b[0;32mreturn\u001b[0m \u001b[0mself\u001b[0m\u001b[0;34m.\u001b[0m\u001b[0m_call_chain\u001b[0m\u001b[0;34m(\u001b[0m\u001b[0;34m*\u001b[0m\u001b[0margs\u001b[0m\u001b[0;34m)\u001b[0m\u001b[0;34m\u001b[0m\u001b[0;34m\u001b[0m\u001b[0m\n\u001b[0m\u001b[1;32m    570\u001b[0m \u001b[0;34m\u001b[0m\u001b[0m\n\u001b[1;32m    571\u001b[0m \u001b[0;31m# XXX probably also want an abstract factory that knows when it makes\u001b[0m\u001b[0;34m\u001b[0m\u001b[0;34m\u001b[0m\u001b[0;34m\u001b[0m\u001b[0m\n",
      "\u001b[0;32m/usr/lib/python3.8/urllib/request.py\u001b[0m in \u001b[0;36m_call_chain\u001b[0;34m(self, chain, kind, meth_name, *args)\u001b[0m\n\u001b[1;32m    500\u001b[0m         \u001b[0;32mfor\u001b[0m \u001b[0mhandler\u001b[0m \u001b[0;32min\u001b[0m \u001b[0mhandlers\u001b[0m\u001b[0;34m:\u001b[0m\u001b[0;34m\u001b[0m\u001b[0;34m\u001b[0m\u001b[0m\n\u001b[1;32m    501\u001b[0m             \u001b[0mfunc\u001b[0m \u001b[0;34m=\u001b[0m \u001b[0mgetattr\u001b[0m\u001b[0;34m(\u001b[0m\u001b[0mhandler\u001b[0m\u001b[0;34m,\u001b[0m \u001b[0mmeth_name\u001b[0m\u001b[0;34m)\u001b[0m\u001b[0;34m\u001b[0m\u001b[0;34m\u001b[0m\u001b[0m\n\u001b[0;32m--> 502\u001b[0;31m             \u001b[0mresult\u001b[0m \u001b[0;34m=\u001b[0m \u001b[0mfunc\u001b[0m\u001b[0;34m(\u001b[0m\u001b[0;34m*\u001b[0m\u001b[0margs\u001b[0m\u001b[0;34m)\u001b[0m\u001b[0;34m\u001b[0m\u001b[0;34m\u001b[0m\u001b[0m\n\u001b[0m\u001b[1;32m    503\u001b[0m             \u001b[0;32mif\u001b[0m \u001b[0mresult\u001b[0m \u001b[0;32mis\u001b[0m \u001b[0;32mnot\u001b[0m \u001b[0;32mNone\u001b[0m\u001b[0;34m:\u001b[0m\u001b[0;34m\u001b[0m\u001b[0;34m\u001b[0m\u001b[0m\n\u001b[1;32m    504\u001b[0m                 \u001b[0;32mreturn\u001b[0m \u001b[0mresult\u001b[0m\u001b[0;34m\u001b[0m\u001b[0;34m\u001b[0m\u001b[0m\n",
      "\u001b[0;32m/usr/lib/python3.8/urllib/request.py\u001b[0m in \u001b[0;36mhttp_error_default\u001b[0;34m(self, req, fp, code, msg, hdrs)\u001b[0m\n\u001b[1;32m    647\u001b[0m \u001b[0;32mclass\u001b[0m \u001b[0mHTTPDefaultErrorHandler\u001b[0m\u001b[0;34m(\u001b[0m\u001b[0mBaseHandler\u001b[0m\u001b[0;34m)\u001b[0m\u001b[0;34m:\u001b[0m\u001b[0;34m\u001b[0m\u001b[0;34m\u001b[0m\u001b[0m\n\u001b[1;32m    648\u001b[0m     \u001b[0;32mdef\u001b[0m \u001b[0mhttp_error_default\u001b[0m\u001b[0;34m(\u001b[0m\u001b[0mself\u001b[0m\u001b[0;34m,\u001b[0m \u001b[0mreq\u001b[0m\u001b[0;34m,\u001b[0m \u001b[0mfp\u001b[0m\u001b[0;34m,\u001b[0m \u001b[0mcode\u001b[0m\u001b[0;34m,\u001b[0m \u001b[0mmsg\u001b[0m\u001b[0;34m,\u001b[0m \u001b[0mhdrs\u001b[0m\u001b[0;34m)\u001b[0m\u001b[0;34m:\u001b[0m\u001b[0;34m\u001b[0m\u001b[0;34m\u001b[0m\u001b[0m\n\u001b[0;32m--> 649\u001b[0;31m         \u001b[0;32mraise\u001b[0m \u001b[0mHTTPError\u001b[0m\u001b[0;34m(\u001b[0m\u001b[0mreq\u001b[0m\u001b[0;34m.\u001b[0m\u001b[0mfull_url\u001b[0m\u001b[0;34m,\u001b[0m \u001b[0mcode\u001b[0m\u001b[0;34m,\u001b[0m \u001b[0mmsg\u001b[0m\u001b[0;34m,\u001b[0m \u001b[0mhdrs\u001b[0m\u001b[0;34m,\u001b[0m \u001b[0mfp\u001b[0m\u001b[0;34m)\u001b[0m\u001b[0;34m\u001b[0m\u001b[0;34m\u001b[0m\u001b[0m\n\u001b[0m\u001b[1;32m    650\u001b[0m \u001b[0;34m\u001b[0m\u001b[0m\n\u001b[1;32m    651\u001b[0m \u001b[0;32mclass\u001b[0m \u001b[0mHTTPRedirectHandler\u001b[0m\u001b[0;34m(\u001b[0m\u001b[0mBaseHandler\u001b[0m\u001b[0;34m)\u001b[0m\u001b[0;34m:\u001b[0m\u001b[0;34m\u001b[0m\u001b[0;34m\u001b[0m\u001b[0m\n",
      "\u001b[0;31mHTTPError\u001b[0m: HTTP Error 401: Authorization Required"
     ]
    }
   ],
   "source": [
    "f = urlopen(url).read()"
   ]
  },
  {
   "cell_type": "code",
   "execution_count": 30,
   "metadata": {},
   "outputs": [],
   "source": [
    "r = requests.get(url,auth=('jyt','toto'))"
   ]
  },
  {
   "cell_type": "code",
   "execution_count": 31,
   "metadata": {},
   "outputs": [
    {
     "data": {
      "text/plain": [
       "200"
      ]
     },
     "execution_count": 31,
     "metadata": {},
     "output_type": "execute_result"
    }
   ],
   "source": [
    "r.status_code"
   ]
  },
  {
   "cell_type": "code",
   "execution_count": 32,
   "metadata": {},
   "outputs": [
    {
     "data": {
      "text/plain": [
       "\"<html>\\n\\nIl n'y a rien a voir ici ...\\n</html>\\n\""
      ]
     },
     "execution_count": 32,
     "metadata": {},
     "output_type": "execute_result"
    }
   ],
   "source": [
    "r.text"
   ]
  },
  {
   "cell_type": "code",
   "execution_count": 33,
   "metadata": {},
   "outputs": [
    {
     "data": {
      "text/plain": [
       "{'Date': 'Sun, 10 Oct 2021 09:15:29 GMT', 'Server': 'Apache', 'Last-Modified': 'Sun, 14 Oct 2012 16:46:23 GMT', 'ETag': '\"1b2e2c6-2d-4cc07a93c95c0\"', 'Accept-Ranges': 'bytes', 'Content-Length': '45', 'Keep-Alive': 'timeout=15, max=100', 'Connection': 'Keep-Alive', 'Content-Type': 'text/html'}"
      ]
     },
     "execution_count": 33,
     "metadata": {},
     "output_type": "execute_result"
    }
   ],
   "source": [
    "r.headers"
   ]
  },
  {
   "cell_type": "markdown",
   "metadata": {},
   "source": [
    "## Côté serveur\n",
    "\n",
    "Les modules \n",
    "[http.server](https://docs.python.org/3/library/http.server.html) et \n",
    "[cgi](https://docs.python.org/3/library/cgi.html) permettent de mettre en place un serveur web\n",
    "opérationnel en quelques lignes.\n",
    "\n",
    "En fait, en une ligne :\n",
    "<pre>\n",
    "[jyt@scriabine ~]$ python -m http.server\n",
    "Serving HTTP on 0.0.0.0 port 8000 (http://0.0.0.0:8000/) ...\n",
    "127.0.0.1 - - [07/Oct/2019 09:35:32] \"GET / HTTP/1.1\" 200 -\n",
    "...\n",
    "</pre>\n",
    "\n",
    "\n",
    "Et sous forme de programme :\n",
    "```python\n",
    "import http.server\n",
    "import socketserver\n",
    "\n",
    "PORT = 8000\n",
    "\n",
    "Handler = http.server.SimpleHTTPRequestHandler\n",
    "\n",
    "with socketserver.TCPServer((\"\", PORT), Handler) as httpd:\n",
    "    print(\"serving at port\", PORT)\n",
    "    httpd.serve_forever()\n",
    "httpd.serve_forever()\n",
    "```"
   ]
  },
  {
   "cell_type": "markdown",
   "metadata": {},
   "source": [
    "Un serveur de scripts minimal serait \n",
    "\n",
    "```python\n",
    "#!/usr/bin/env python\n",
    "\n",
    "import http.server\n",
    " \n",
    "PORT = 8888\n",
    "server_address = (\"\", PORT)\n",
    "\n",
    "server = http.server.HTTPServer\n",
    "handler = http.server.CGIHTTPRequestHandler\n",
    "handler.cgi_directories = [\"/\"]\n",
    "print(\"Serving on port:\", PORT)\n",
    "\n",
    "httpd = server(server_address, handler)\n",
    "httpd.serve_forever()\n",
    "```\n",
    "\n",
    "Le script cgi devra être placé dans un sous-répertoire cgi-bin, \n",
    "et le serveur devra avoir le droit d'exécution. \n",
    "Seul root peut lancer le serveur sur le port 80. En tant qu'utilisateur normal, \n",
    "on pourra le lancer sur un port libre, par exemple 8888. \n",
    "Le formulaire sera alors déclaré avec l'action\n",
    "<pre>\n",
    "ACTION=\"http://127.0.01:8888/cgi-bin/monscript.cgi\"\n",
    "</pre>\n"
   ]
  },
  {
   "cell_type": "markdown",
   "metadata": {},
   "source": [
    "## Traitement du HTML\n",
    "\n",
    "Pour extraire des informations d'une page web, on peut parfois\n",
    "se débrouiller avec des expressions régulières. \n",
    "\n",
    "Mais on a aussi souvent besoin d'une analyse complète.\n",
    "\n",
    "Il existe  pour cela un module \n",
    "[html.parser](https://docs.python.org/3/library/html.parser.html#module-html.parser)\n",
    "qui exporte une classe `HTMLParser`.\n",
    "\n",
    "On l'illustrera sur un exemple tiré de la première édition de \"Dive into Python\" : \n",
    "traduire à la volée des pages web\n",
    "dans des dialectes farfelus tels que ceux proposés [ici](http://www.rinkworks.com/dialect/).\n",
    "\n",
    "\n",
    "On trouvera dans le livre de Pilgrim des grammaires simple pour  <i>chef, fudd, olde</i>. Les textes\n",
    "sont supposés en anglais, donc en ASCII.\n",
    "\n",
    "Dans le cours, on utilisera plutôt le touilleur de texte vu en TD pour brouiller\n",
    "une page web sans modifier sa mise en page.\n",
    "\n",
    "Au passage, voilà la version utilisant une expression régulière :\n",
    "\n",
    "\n",
    "```Python\n",
    "# module touille.py\n",
    "import random, re\n",
    "p = re.compile('(\\w)(\\w\\w+)(\\w)', re.M)  # mot d'au moins 4 lettres\n",
    "\n",
    "def touille(m):\n",
    "    milieu = list(m.group(2)) # group(2) est le milieu\n",
    "    random.shuffle(milieu)\n",
    "    return m.group(1) + ''.join(milieu) + m.group(3)\n",
    "\n",
    "def blurr(s):\n",
    "    return p.sub(touille,s)\n",
    "\n",
    "```"
   ]
  },
  {
   "cell_type": "code",
   "execution_count": 35,
   "metadata": {},
   "outputs": [
    {
     "data": {
      "text/plain": [
       "'Il est plus flacie de se laevr les dnets dans un verre à pied que de se lvear les pdies dans un vrree à dnets.'"
      ]
     },
     "execution_count": 35,
     "metadata": {},
     "output_type": "execute_result"
    }
   ],
   "source": [
    "from touille import blurr\n",
    "blurr('Il est plus facile de se laver les dents dans un verre à pied que de se laver les pieds dans un verre à dents.')"
   ]
  },
  {
   "cell_type": "markdown",
   "metadata": {},
   "source": [
    "Pour d'autres exemples, voir [ce site](http://funtranslations.com/).\n",
    "\n",
    "\n",
    "_Exemple_: Elmer Fudd <i>cf.</i> Bugs Bunny)\n",
    "\n",
    "Les dialectes sont définis par des substitutions,\n",
    "attribut `subs` d'une sous-classe `Dialectizer`\n",
    "de `BaseHTMLProcessor`, elle même dérivée de `HTMLParser`.\n",
    "\n",
    "```python\n",
    "class FuddDialectizer(Dialectizer):\n",
    "    \"\"\"convert HTML to Elmer Fudd-speak\"\"\"\n",
    "    subs = ((r'[rl]', r'w'),\n",
    "            (r'qu', r'qw'),\n",
    "            (r'th\\b', r'f'),\n",
    "            (r'th', r'd'),\n",
    "            (r'n[.]', r'n, uh-hah-hah-hah.'))\n",
    "```"
   ]
  },
  {
   "cell_type": "markdown",
   "metadata": {},
   "source": [
    "### La classe <tt>HTMLParser</tt>\n",
    "\n",
    "Elle réalise l'analyse syntaxique du HTML. \n",
    "\n",
    "\n",
    "Dès qu'un élément utile est identifié (une balise ouvrante,\n",
    "`start_tag`, par exemple),\n",
    "une méthode `handle_starttag, do_tag, ...` est appelée.\n",
    "\n",
    "\n",
    "`HTMLParser` analyse le HTML en 8 types de données, et appelle une méthode différente pour chaque cas :\n",
    "\n",
    "<ul>\n",
    "<li> *start tag* (balise ouvrante) : <tt>handle&#95;starttag</tt>, <tt>handle&#95;startendtag</tt> (pour les $<.../ >$ en xhtml)\n",
    "    <li> *end tag* (balise fermante) : <tt>handle&#95;endtag</tt>\n",
    "    <li> *character reference* : par exemple &amp;&#35;160; <tt>handle&#95;charref</tt>\n",
    "    <li> *entity reference* : par exemple &amp;copy;. <tt>handle&#95;entityref</tt>\n",
    "    <li> *comment* : <tt>handle&#95;comment</tt>\n",
    "    <li> *processing instruction* : &lt;&#63; ... &gt;. <tt>handle&#95;pi</tt>\n",
    "    <li> _declaration_ : &lt;&#33; ... &gt;.  <tt>handle&#95;decl</tt>\n",
    "    <li> _text data_ : <tt>handle&#95;data</tt>.\n",
    "\n",
    "</ul>\n",
    "\n",
    "Pour l'utiliser, il faut créer une classe dérivée de `HTMLParser`, et surcharger ces 8 méthodes."
   ]
  },
  {
   "cell_type": "code",
   "execution_count": 36,
   "metadata": {},
   "outputs": [
    {
     "name": "stdout",
     "output_type": "stream",
     "text": [
      "Balise ouvrante : html []\n",
      "Texte  : '\\n\\t'\n",
      "Balise ouvrante : body []\n",
      "Texte  : '\\n\\t\\t'\n",
      "Balise ouvrante : h1 []\n",
      "Texte  : ' M1 Informatique : Python '\n",
      "Balise fermante : h1\n",
      "Texte  : '\\n\\t\\t'\n",
      "Balise ouvrante : ul []\n",
      "Texte  : '\\n\\t\\t\\t'\n",
      "Balise ouvrante : li []\n",
      "Texte  : ' Commencer ici : '\n",
      "Balise ouvrante : a [('href', 'http://www.python.org/')]\n",
      "Texte  : 'python.org'\n",
      "Balise fermante : a\n",
      "Texte  : '\\n\\t\\t\\t'\n",
      "Balise ouvrante : li []\n",
      "Texte  : ' La '\n",
      "Balise ouvrante : a [('href', 'http://docs.python.org/3.8')]\n",
      "Texte  : 'documentation'\n",
      "Balise fermante : a\n",
      "Texte  : ' officielle\\n\\t\\t\\t'\n",
      "Balise ouvrante : li []\n",
      "Texte  : ' Le '\n",
      "Balise ouvrante : a [('href', 'http://www.pythonchallenge.com/')]\n",
      "Texte  : ' Python Challenge'\n",
      "Balise fermante : a\n",
      "Texte  : '\\n\\t\\t\\t'\n",
      "Balise ouvrante : li []\n",
      "Texte  : ' '\n",
      "Balise ouvrante : a [('href', 'https://python.developpez.com/cours/DiveIntoPython/')]\n",
      "Balise ouvrante : i []\n",
      "Texte  : 'Dive into Python'\n",
      "Balise fermante : i\n",
      "Balise fermante : a\n",
      "Texte  : '  \\n\\t\\t\\tpar '\n",
      "Balise ouvrante : a [('href', 'http://en.wikipedia.org/wiki/Mark_Pilgrim_%28software_developer%29')]\n",
      "Texte  : 'Mark Pilgrim'\n",
      "Balise fermante : a\n",
      "Texte  : ' \\n\\t\\t\\t(un livre recommandé mais ancien);\\n\\t\\t\\t'\n",
      "Balise ouvrante : a [('href', 'http://diveintopython3.problemsolving.io/')]\n",
      "Texte  : 'version Python 3'\n",
      "Balise fermante : a\n",
      "Texte  : '. \\n\\t\\t\\t'\n",
      "Balise ouvrante : li []\n",
      "Texte  : ' La '\n",
      "Balise ouvrante : a [('href', 'http://fr.wikipedia.org/wiki/Python_%28langage%29')]\n",
      "Texte  : 'page'\n",
      "Balise fermante : a\n",
      "Texte  : ' de Wikipédia contient un bon résumé\\n\\t\\t\\t'\n",
      "Balise ouvrante : li []\n",
      "Texte  : ' Introduction au '\n",
      "Balise ouvrante : i []\n",
      "Texte  : 'notebook'\n",
      "Balise fermante : i\n",
      "Texte  : ' ipython ou jupyter :)\\n\\t\\t\\t'\n",
      "Balise ouvrante : ul []\n",
      "Texte  : ' \\n\\t\\t\\t\\t'\n",
      "Balise ouvrante : li []\n",
      "Texte  : ' '\n",
      "Balise ouvrante : a [('href', 'intro_jupyter.html')]\n",
      "Texte  : 'Exemple'\n",
      "Balise fermante : a\n",
      "Texte  : \"  de ce qu'on peut obtenir (converti en html)\\n\\t\\t\\t\\t\"\n",
      "Balise ouvrante : li []\n",
      "Texte  : ' Le '\n",
      "Balise ouvrante : a [('href', 'intro_jupyter.ipynb')]\n",
      "Texte  : 'code source'\n",
      "Balise fermante : a\n",
      "Texte  : ' (fichier '\n",
      "Balise ouvrante : tt []\n",
      "Texte  : '.ipynb'\n",
      "Balise fermante : tt\n",
      "Texte  : '), à télécharger\\n\\t\\t\\t\\t'\n",
      "Balise ouvrante : li []\n",
      "Texte  : ' Lancer un terminal, aller dans le dossier contenant le fichier '\n",
      "Balise ouvrante : tt []\n",
      "Texte  : '.ipynb'\n",
      "Balise fermante : tt\n",
      "Texte  : ', et entrer la commande '\n",
      "Balise ouvrante : tt []\n",
      "Texte  : 'jupyter notebook'\n",
      "Balise fermante : tt\n",
      "Texte  : '\\n\\t\\t\\t'\n",
      "Balise fermante : ul\n",
      "Texte  : '\\n\\t\\t\\t'\n",
      "Balise ouvrante : li []\n",
      "Texte  : ' Cours 1 (22/9/21) '\n",
      "Balise ouvrante : a [('href', 'python3_M1_2021-1.html')]\n",
      "Texte  : 'html'\n",
      "Balise fermante : a\n",
      "Texte  : ' - '\n",
      "Balise ouvrante : a [('href', 'python3_M1_2021-1.ipynb')]\n",
      "Texte  : 'notebook'\n",
      "Balise fermante : a\n",
      "Texte  : '\\n\\t\\t\\t'\n",
      "Balise ouvrante : li []\n",
      "Texte  : ' '\n",
      "Balise ouvrante : a [('href', 'td1_python3_2020.html')]\n",
      "Texte  : ' TD 1'\n",
      "Balise fermante : a\n",
      "Texte  : ' (22/9/21)\\n\\t\\t\\t'\n",
      "Balise ouvrante : li []\n",
      "Texte  : ' '\n",
      "Balise ouvrante : a [('href', 'script3.py')]\n",
      "Texte  : 'modèle de script'\n",
      "Balise fermante : a\n",
      "Texte  : ' avec options et documentation\\n\\t\\t\\t'\n",
      "Balise ouvrante : li []\n",
      "Texte  : ' '\n",
      "Balise ouvrante : a [('href', 'td1_sol_3_2021.html')]\n",
      "Texte  : 'Corrigé'\n",
      "Balise fermante : a\n",
      "Texte  : ' du TD 1\\n\\t\\t\\t'\n",
      "Balise ouvrante : li []\n",
      "Texte  : ' Cours 2 (29/09/2021) '\n",
      "Balise ouvrante : a [('href', 'Python3_M1_2021-2.html')]\n",
      "Texte  : 'html'\n",
      "Balise fermante : a\n",
      "Texte  : ' - '\n",
      "Balise ouvrante : a [('href', 'Python3_M1_2021-2.ipynb')]\n",
      "Texte  : 'notebook'\n",
      "Balise fermante : a\n",
      "Texte  : '\\n\\t\\t\\t'\n",
      "Balise ouvrante : li []\n",
      "Texte  : ' '\n",
      "Balise ouvrante : a [('href', 'td2_2021_texte.html')]\n",
      "Texte  : 'TD 2'\n",
      "Balise fermante : a\n",
      "Texte  : ' (29/09/2021)\\n\\t\\t\\t'\n",
      "Balise ouvrante : li []\n",
      "Texte  : ' '\n",
      "Balise ouvrante : a [('href', 'td2_solpy3_2021.html')]\n",
      "Texte  : 'Corrigé'\n",
      "Balise fermante : a\n",
      "Texte  : ' du TD 2\\n\\t\\t\\t'\n",
      "Balise ouvrante : li []\n",
      "Texte  : ' Cours 3 (6/10/2021) '\n",
      "Balise ouvrante : a [('href', 'python3_M1_2021-3.html')]\n",
      "Texte  : 'html'\n",
      "Balise fermante : a\n",
      "Texte  : ' - '\n",
      "Balise ouvrante : a [('href', 'python3_M1_2021-3.ipynb')]\n",
      "Texte  : 'notebook'\n",
      "Balise fermante : a\n",
      "Texte  : '\\n\\t\\t\\t'\n",
      "Balise ouvrante : li []\n",
      "Texte  : ' '\n",
      "Balise ouvrante : a [('href', 'td3_2021_texte.html')]\n",
      "Texte  : 'TD 3'\n",
      "Balise fermante : a\n",
      "Texte  : ' (6/10/2021)\\n\\n\\n\\n\\t\\t\\n\\n\\n\\t\\t\\t\\n\\n\\t\\t'\n",
      "Balise fermante : ul\n",
      "Texte  : '\\n\\t'\n",
      "Balise fermante : body\n",
      "Texte  : '\\n'\n",
      "Balise fermante : html\n",
      "Texte  : '\\n\\n\\t\\t\\n'\n"
     ]
    }
   ],
   "source": [
    "from html.parser import HTMLParser\n",
    "\n",
    "\n",
    "class MyHTMLParser(HTMLParser):\n",
    "    def handle_starttag(self, tag, attrs):\n",
    "        print (\"Balise ouvrante :\", tag, attrs)\n",
    "\n",
    "    def handle_endtag(self, tag):\n",
    "        print (\"Balise fermante :\", tag)\n",
    "\n",
    "    def handle_data(self, data):\n",
    "        print (\"Texte  :\", repr(data))\n",
    "\n",
    "# On créee une instance\n",
    "parser = MyHTMLParser()\n",
    "\n",
    "# Et on lui donne à manger\n",
    "\n",
    "from urllib.request import urlopen\n",
    "s = urlopen('http://igm.univ-mlv.fr/~jyt/M1_python/').read().decode('utf8')\n",
    "parser.feed(s)"
   ]
  },
  {
   "cell_type": "markdown",
   "metadata": {},
   "source": [
    "### Exemple : URLLister\n",
    "\n",
    "But : une classe pour extraire les liens d'une page web."
   ]
  },
  {
   "cell_type": "code",
   "execution_count": 37,
   "metadata": {},
   "outputs": [],
   "source": [
    "from html.parser import HTMLParser\n",
    "\n",
    "class URLLister(HTMLParser):\n",
    "    def reset(self):                              \n",
    "        HTMLParser.reset(self)\n",
    "        self.urls = []\n",
    "\n",
    "    def handle_starttag(self, tag, attrs):                     \n",
    "        href = [v for k, v in attrs if k=='href'] # attrs est une liste de couples\n",
    "        if href:\n",
    "            self.urls.extend(href)\n"
   ]
  },
  {
   "cell_type": "code",
   "execution_count": 38,
   "metadata": {},
   "outputs": [
    {
     "name": "stdout",
     "output_type": "stream",
     "text": [
      "http://www.python.org/\n",
      "http://docs.python.org/3.8\n",
      "http://www.pythonchallenge.com/\n",
      "https://python.developpez.com/cours/DiveIntoPython/\n",
      "http://en.wikipedia.org/wiki/Mark_Pilgrim_%28software_developer%29\n",
      "http://diveintopython3.problemsolving.io/\n",
      "http://fr.wikipedia.org/wiki/Python_%28langage%29\n",
      "intro_jupyter.html\n",
      "intro_jupyter.ipynb\n",
      "python3_M1_2021-1.html\n",
      "python3_M1_2021-1.ipynb\n",
      "td1_python3_2020.html\n",
      "script3.py\n",
      "td1_sol_3_2021.html\n",
      "Python3_M1_2021-2.html\n",
      "Python3_M1_2021-2.ipynb\n",
      "td2_2021_texte.html\n",
      "td2_solpy3_2021.html\n",
      "python3_M1_2021-3.html\n",
      "python3_M1_2021-3.ipynb\n",
      "td3_2021_texte.html\n"
     ]
    }
   ],
   "source": [
    "s = urlopen('http://igm.univ-mlv.fr/~jyt/M1_python').read().decode('utf8')\n",
    "p = URLLister()\n",
    "p.feed(s)\n",
    "p.close()\n",
    "\n",
    "for u in p.urls: print (u)"
   ]
  },
  {
   "cell_type": "markdown",
   "metadata": {},
   "source": [
    "En appliquant ceci à la page du cours, on pourrait tester (avec une regexp) si\n",
    "un nouveau pdf a été mis en ligne et le récuperer automatiquement ...\n",
    "\n",
    "\n",
    "\n",
    "\n",
    "###  La traduction d'une page HTML\n",
    "\n",
    "Il s'agit de reproduire à l'identique le document HTML, en traduisant seulement le texte, sauf s'il\n",
    "est encadré par une balise &lt;pre&gt; (on ne traduirait pas un programme).\n",
    "\n",
    "Pour varier les plaisirs, on pourra [traduire de l'anglais en texan](http://www.discordia.ch/Programs/drawl.x) : \n",
    "\n",
    "<pre>\n",
    "(^|\" \")\"American\"\t\t\tchangeCase(\" Amerkin\");\n",
    "(^|\" \")\"California\"\t\t\tchangeCase(\" Caleyfornyuh\");\n",
    "(^|\" \")\"Dallas\"\t\t\t\tchangeCase(\" Big D.\");\n",
    "(^|\" \")\"Fort Worth\"\t\t\tchangeCase(\" Fowert Wurth\");\n",
    "(^|\" \")\"Houston\"\t\t\tchangeCase(\" Useton\");\n",
    "(^|\" \")\"I don't know\"\t\t\tchangeCase(\" I-O-no\");\n",
    "(^|\" \")\"I will\"|\" I'll\"\t\t\tchangeCase(\" Ahl\");\n",
    "...\n",
    "</pre>\n",
    "\n",
    "\n",
    "### La classe <tt> BaseHTMLProcessor</tt>\n",
    "\n",
    "On commence par construire une classe dérivée qui ne fait rien : elle recompose\n",
    "la page analysée sans la modifier. \n",
    "\n",
    "On surchargera ensuite la méthode <tt>handle&#95;data</tt> pour modifier le texte\n",
    "à notre convenance.\n"
   ]
  },
  {
   "cell_type": "code",
   "execution_count": 39,
   "metadata": {},
   "outputs": [],
   "source": [
    "from html.entities import entitydefs\n",
    "\n",
    "class BaseHTMLProcessor(HTMLParser):\n",
    "    def reset(self):                        \n",
    "        self.pieces = []\n",
    "        HTMLParser.reset(self)\n",
    "\n",
    "    def handle_starttag(self, tag, attrs): \n",
    "        strattrs = \"\".join([' %s=\"%s\"' % (key, value) \n",
    "                            for key, value in attrs])\n",
    "        self.pieces.append(\"<%(tag)s%(strattrs)s>\" % locals())\n",
    "\n",
    "    def handle_endtag(self, tag):          \n",
    "        self.pieces.append(\"</%(tag)s>\" % locals())\n",
    "\n",
    "    def handle_charref(self, ref):          \n",
    "        self.pieces.append(\"&#%(ref)s;\" % locals())\n",
    "\n",
    "    def handle_entityref(self, ref):\n",
    "        self.pieces.append(\"&%(ref)s\" % locals())\n",
    "        if htmlentitydefs.entitydefs.has_key(ref):\n",
    "            self.pieces.append(\";\")\n",
    "\n",
    "    def handle_data(self, text):  # A surcharger         \n",
    "        self.pieces.append(text)\n",
    "\n",
    "    def handle_comment(self, text):         \n",
    "        self.pieces.append(\"<!--%(text)s-->\" % locals())\n",
    "        \n",
    "    def handle_pi(self, text):              \n",
    "        self.pieces.append(\"<?%(text)s>\" % locals())\n",
    "\n",
    "    def handle_decl(self, text):\n",
    "        self.pieces.append(\"<!%(text)s>\" % locals())\n",
    "\n",
    "    def output(self):               \n",
    "            \"\"\"Return processed HTML as a single string\"\"\"\n",
    "            return \"\".join(self.pieces) \n",
    "\n",
    "\n"
   ]
  },
  {
   "cell_type": "code",
   "execution_count": 40,
   "metadata": {},
   "outputs": [],
   "source": [
    "b = BaseHTMLProcessor()\n",
    "b.feed(s)"
   ]
  },
  {
   "cell_type": "code",
   "execution_count": 41,
   "metadata": {},
   "outputs": [],
   "source": [
    "b.close()"
   ]
  },
  {
   "cell_type": "code",
   "execution_count": 42,
   "metadata": {},
   "outputs": [
    {
     "name": "stdout",
     "output_type": "stream",
     "text": [
      "['<html>', '\\n\\t', '<body>', '\\n\\t\\t', '<h1>', ' M1 Informatique : Python ', '</h1>', '\\n\\t\\t', '<ul>', '\\n\\t\\t\\t', '<li>', ' Commencer ici : ', '<a href=\"http://www.python.org/\">', 'python.org', '</a>', '\\n\\t\\t\\t', '<li>', ' La ', '<a href=\"http://docs.python.org/3.8\">', 'documentation', '</a>', ' officielle\\n\\t\\t\\t', '<li>', ' Le ', '<a href=\"http://www.pythonchallenge.com/\">', ' Python Challenge', '</a>', '\\n\\t\\t\\t', '<li>', ' ', '<a href=\"https://python.developpez.com/cours/DiveIntoPython/\">', '<i>', 'Dive into Python', '</i>', '</a>', '  \\n\\t\\t\\tpar ', '<a href=\"http://en.wikipedia.org/wiki/Mark_Pilgrim_%28software_developer%29\">', 'Mark Pilgrim', '</a>', ' \\n\\t\\t\\t(un livre recommandé mais ancien);\\n\\t\\t\\t', '<a href=\"http://diveintopython3.problemsolving.io/\">', 'version Python 3', '</a>', '. \\n\\t\\t\\t', '<li>', ' La ', '<a href=\"http://fr.wikipedia.org/wiki/Python_%28langage%29\">', 'page', '</a>', ' de Wikipédia contient un bon résumé\\n\\t\\t\\t', '<li>', ' Introduction au ', '<i>', 'notebook', '</i>', ' ipython ou jupyter :)\\n\\t\\t\\t', '<ul>', ' \\n\\t\\t\\t\\t', '<li>', ' ', '<a href=\"intro_jupyter.html\">', 'Exemple', '</a>', \"  de ce qu'on peut obtenir (converti en html)\\n\\t\\t\\t\\t\", '<li>', ' Le ', '<a href=\"intro_jupyter.ipynb\">', 'code source', '</a>', ' (fichier ', '<tt>', '.ipynb', '</tt>', '), à télécharger\\n\\t\\t\\t\\t', '<li>', ' Lancer un terminal, aller dans le dossier contenant le fichier ', '<tt>', '.ipynb', '</tt>', ', et entrer la commande ', '<tt>', 'jupyter notebook', '</tt>', '\\n\\t\\t\\t', '</ul>', '\\n\\t\\t\\t', '<li>', ' Cours 1 (22/9/21) ', '<a href=\"python3_M1_2021-1.html\">', 'html', '</a>', ' - ', '<a href=\"python3_M1_2021-1.ipynb\">', 'notebook', '</a>', '\\n\\t\\t\\t', '<li>', ' ', '<a href=\"td1_python3_2020.html\">', ' TD 1', '</a>', ' (22/9/21)\\n\\t\\t\\t', '<li>', ' ', '<a href=\"script3.py\">', 'modèle de script', '</a>', ' avec options et documentation\\n\\t\\t\\t', '<li>', ' ', '<a href=\"td1_sol_3_2021.html\">', 'Corrigé', '</a>', ' du TD 1\\n\\t\\t\\t', '<li>', ' Cours 2 (29/09/2021) ', '<a href=\"Python3_M1_2021-2.html\">', 'html', '</a>', ' - ', '<a href=\"Python3_M1_2021-2.ipynb\">', 'notebook', '</a>', '\\n\\t\\t\\t', '<li>', ' ', '<a href=\"td2_2021_texte.html\">', 'TD 2', '</a>', ' (29/09/2021)\\n\\t\\t\\t', '<li>', ' ', '<a href=\"td2_solpy3_2021.html\">', 'Corrigé', '</a>', ' du TD 2\\n\\t\\t\\t', '<li>', ' Cours 3 (6/10/2021) ', '<a href=\"python3_M1_2021-3.html\">', 'html', '</a>', ' - ', '<a href=\"python3_M1_2021-3.ipynb\">', 'notebook', '</a>', '\\n\\t\\t\\t', '<li>', ' ', '<a href=\"td3_2021_texte.html\">', 'TD 3', '</a>', ' (6/10/2021)\\n\\n\\n\\n\\t\\t\\n\\n\\n\\t\\t\\t\\n\\n\\t\\t', '</ul>', '\\n\\t', '</body>', '\\n', '</html>', '\\n\\n\\t\\t\\n']\n"
     ]
    }
   ],
   "source": [
    "print (b.pieces)"
   ]
  },
  {
   "cell_type": "code",
   "execution_count": 43,
   "metadata": {},
   "outputs": [
    {
     "data": {
      "text/plain": [
       "'<html>\\n\\t<body>\\n\\t\\t<h1> M1 Informatique : Python </h1>\\n\\t\\t<ul>\\n\\t\\t\\t<li> Commencer ici : <a href=\"http://www.python.org/\">python.org</a>\\n\\t\\t\\t<li> La <a href=\"http://docs.python.org/3.8\">documentation</a> officielle\\n\\t\\t\\t<li> Le <a href=\"http://www.pythonchallenge.com/\"> Python Challenge</a>\\n\\t\\t\\t<li> <a href=\"https://python.developpez.com/cours/DiveIntoPython/\"><i>Dive into Python</i></a>  \\n\\t\\t\\tpar <a href=\"http://en.wikipedia.org/wiki/Mark_Pilgrim_%28software_developer%29\">Mark Pilgrim</a> \\n\\t\\t\\t(un livre recommandé mais ancien);\\n\\t\\t\\t<a href=\"http://diveintopython3.problemsolving.io/\">version Python 3</a>. \\n\\t\\t\\t<li> La <a href=\"http://fr.wikipedia.org/wiki/Python_%28langage%29\">page</a> de Wikipédia contient un bon résumé\\n\\t\\t\\t<li> Introduction au <i>notebook</i> ipython ou jupyter :)\\n\\t\\t\\t<ul> \\n\\t\\t\\t\\t<li> <a href=\"intro_jupyter.html\">Exemple</a>  de ce qu\\'on peut obtenir (converti en html)\\n\\t\\t\\t\\t<li> Le <a href=\"intro_jupyter.ipynb\">code source</a> (fichier <tt>.ipynb</tt>), à télécharger\\n\\t\\t\\t\\t<li> Lancer un terminal, aller dans le dossier contenant le fichier <tt>.ipynb</tt>, et entrer la commande <tt>jupyter notebook</tt>\\n\\t\\t\\t</ul>\\n\\t\\t\\t<li> Cours 1 (22/9/21) <a href=\"python3_M1_2021-1.html\">html</a> - <a href=\"python3_M1_2021-1.ipynb\">notebook</a>\\n\\t\\t\\t<li> <a href=\"td1_python3_2020.html\"> TD 1</a> (22/9/21)\\n\\t\\t\\t<li> <a href=\"script3.py\">modèle de script</a> avec options et documentation\\n\\t\\t\\t<li> <a href=\"td1_sol_3_2021.html\">Corrigé</a> du TD 1\\n\\t\\t\\t<li> Cours 2 (29/09/2021) <a href=\"Python3_M1_2021-2.html\">html</a> - <a href=\"Python3_M1_2021-2.ipynb\">notebook</a>\\n\\t\\t\\t<li> <a href=\"td2_2021_texte.html\">TD 2</a> (29/09/2021)\\n\\t\\t\\t<li> <a href=\"td2_solpy3_2021.html\">Corrigé</a> du TD 2\\n\\t\\t\\t<li> Cours 3 (6/10/2021) <a href=\"python3_M1_2021-3.html\">html</a> - <a href=\"python3_M1_2021-3.ipynb\">notebook</a>\\n\\t\\t\\t<li> <a href=\"td3_2021_texte.html\">TD 3</a> (6/10/2021)\\n\\n\\n\\n\\t\\t\\n\\n\\n\\t\\t\\t\\n\\n\\t\\t</ul>\\n\\t</body>\\n</html>\\n\\n\\t\\t\\n'"
      ]
     },
     "execution_count": 43,
     "metadata": {},
     "output_type": "execute_result"
    }
   ],
   "source": [
    "b.output()"
   ]
  },
  {
   "cell_type": "markdown",
   "metadata": {},
   "source": [
    "### Commentaires sur la syntaxe\n",
    "\n",
    "Ce code utilise quelques astuces typiquement pythonesques.\n",
    "\n",
    "<tt>locals()</tt> et <tt>globals()</tt> renvoient des dictionnaires de variables locales et globales ...\n",
    "\n"
   ]
  },
  {
   "cell_type": "code",
   "execution_count": 44,
   "metadata": {},
   "outputs": [],
   "source": [
    "def f(x):\n",
    "    y = 'toto'\n",
    "    print (locals())"
   ]
  },
  {
   "cell_type": "code",
   "execution_count": 45,
   "metadata": {},
   "outputs": [
    {
     "name": "stdout",
     "output_type": "stream",
     "text": [
      "{'x': 42, 'y': 'toto'}\n"
     ]
    }
   ],
   "source": [
    "f(42)"
   ]
  },
  {
   "cell_type": "markdown",
   "metadata": {},
   "source": [
    "Si on venait de lancer l'interpréteur, on aurait\n",
    "\n",
    "```python\n",
    ">>> print (globals())\n",
    "{'f': <function f at 0x402d35a4>, '__builtins__': \n",
    "<module '__builtin__' (built-in)>, '__name__': '__main__', \n",
    "'__doc__': None}\n",
    ">>> dir()\n",
    "['__builtins__', '__doc__', '__name__', 'f']\n",
    "```\n",
    "Mais dans un *notebook jupyter*, on en a beaucoup trop pour pouvoir les afficher ...\n",
    "\n",
    "Les lignes\n",
    "```python\n",
    "if __name__ == \"__main__\":\n",
    "    for k, v in globals().items():\n",
    "        print (k, \"=\", v)\n",
    "```\n",
    "ajoutées à la fin du fichier <tt>BaseHTMLProcessor.py</tt> décrit dans le livre produiraient l'effet\n",
    "suivant, quand le programme est lancé en ligne de commande :\n",
    "```bash\n",
    "$ python BaseHTMLProcessor.py\n",
    "__copyright__ = Copyright (c) 2001 Mark Pilgrim\n",
    "HTMLParser = HTMLParser.HTMLParser\n",
    "__license__ = Python\n",
    "__builtins__ = <module '__builtin__' (built-in)>\n",
    "__file__ = BaseHTMLProcessor.py  [ ... snip ...]\n",
    "```\n",
    "\n",
    "*Rappel* : formatage par dictionnaire\n",
    "\n"
   ]
  },
  {
   "cell_type": "code",
   "execution_count": 46,
   "metadata": {},
   "outputs": [
    {
     "data": {
      "text/plain": [
       "'Le cheval de mon cousin ne mange du foin que le dimanche'"
      ]
     },
     "execution_count": 46,
     "metadata": {},
     "output_type": "execute_result"
    }
   ],
   "source": [
    "d = {'animal':'cheval', 'parent':'cousin', 'aliment':'foin', 'jour':'dimanche'}\n",
    "s = 'Le %(animal)s de mon %(parent)s ne mange du %(aliment)s que le %(jour)s'\n",
    "\n",
    "s % d"
   ]
  },
  {
   "cell_type": "markdown",
   "metadata": {},
   "source": [
    "On peut donc utiliser `locals()` pour remettre\n",
    "en place les attributs des balises sans avoir à les connaître :\n",
    "\n",
    "```python\n",
    "    def handle_starttag(self, tag, attrs):\n",
    "        strattrs = \"\".join([' %s=\"%s\"' % (key, value) \n",
    "                             for key, value in attrs]) \n",
    "        self.pieces.append(\"<%(tag)s%(strattrs)s>\" % locals())                      \n",
    "```\n",
    "C'est ce procédé qui permet de reconstituer (essentiellement)\n",
    "le HTML qu'on ne souhaite pas modifier.\n",
    "\n",
    "\n",
    "Pourquoi *essentiellement* ? A cause des \"guillemets\":"
   ]
  },
  {
   "cell_type": "code",
   "execution_count": 47,
   "metadata": {},
   "outputs": [
    {
     "name": "stdout",
     "output_type": "stream",
     "text": [
      "        \n",
      "    <html>\n",
      "     <head>\n",
      "     <title>Test page</title>\n",
      "     </head>\n",
      "     <body>\n",
      "     <ul>\n",
      "     <li><a href=\"index.html\">Home</a></li>\n",
      "     <li><a href=\"toc.html\">Table of contents</a></li>\n",
      "     <li><a href=\"history.html\">Revision history</a></li>\n",
      "     </body>\n",
      "     </html>\n"
     ]
    }
   ],
   "source": [
    "htmlSource = \"\"\"        \n",
    "    <html>\n",
    "     <head>\n",
    "     <title>Test page</title>\n",
    "     </head>\n",
    "     <body>\n",
    "     <ul>\n",
    "     <li><a href=index.html>Home</a></li>\n",
    "     <li><a href=toc.html>Table of contents</a></li>\n",
    "     <li><a href=history.html>Revision history</a></li>\n",
    "     </body>\n",
    "     </html>\"\"\"\n",
    "\n",
    "\n",
    "parser = BaseHTMLProcessor()\n",
    "parser.feed(htmlSource) \n",
    "parser.close()\n",
    "print (parser.output())   \n"
   ]
  },
  {
   "cell_type": "markdown",
   "metadata": {},
   "source": [
    "### Le dialectiseur\n",
    "\n",
    "On construit ensuite une  classe <tt>Dialectizer</tt> qui dérive de <tt>BaseHTMLProcessor</tt>.\n",
    "Son rôle est de \"traduire\" le texte de la page,\n",
    "sauf lorsqu'il doit être rendu *verbatim* (&lt;pre&gt;...&lt;/pre&gt;).\n",
    "\n",
    "Il lui faudra donc un attribut <tt>verbatim</tt> qui permet de savoir\n",
    "si l'on doit traduire ou pas :\n",
    "\n",
    "\n",
    "Ceci étant acquis, on peut maintenant surcharger <tt>handle&#95;data</tt> :\n",
    "\n",
    "```python\n",
    "def handle_data(self, text):                                         \n",
    "    self.pieces.append(self.verbatim \n",
    "                       and text \n",
    "                       or self.process(text)) \n",
    "```\n",
    "\n",
    "La méthode <tt>process</tt> dépendra de la traduction désirée.\n",
    "\n",
    "On remarquera l'usa\n",
    "ge astucieux des booléens\n",
    "```python\n",
    ">>> (1==1) and 'toto'\n",
    "'toto'\n",
    ">>> (1==0) and 'toto'\n",
    "False\n",
    ">>> (1==0) or 'toto'\n",
    "'toto'\n",
    ">>> (1==0) and 'toto' or 'titi'\n",
    "'titi'\n",
    "```\n",
    "\n",
    "Explication (attention à l'ordre !) :\n",
    "```python\n",
    ">>> 'toto' and (1==1)\n",
    "True\n",
    ">>> 'toto' and (1==0)\n",
    "False\n",
    ">>> \n",
    "```\n",
    "La sémantique est\n",
    "<pre>\n",
    "x or y   -->  if x is false, then y, else x\n",
    "x and y  -->  if x is false, then x, else y\n",
    "</pre>\n",
    "\n"
   ]
  },
  {
   "cell_type": "markdown",
   "metadata": {},
   "source": [
    "## Brouilleur de page web : le code complet\n",
    "\n",
    "### Il faut un module de traduction, par exemple celui-ci :\n",
    "\n",
    "```python\n",
    "# module touille.py\n",
    "import random, re\n",
    "\n",
    "p = re.compile('(\\w)(\\w+)(\\w)', re.M)\n",
    "\n",
    "def touille(m):\n",
    "    milieu = list(m.group(2))\n",
    "    random.shuffle(milieu)\n",
    "    return m.group(1) + ''.join(milieu) + m.group(3)\n",
    "\n",
    "\n",
    "def blurr(s):\n",
    "    return p.sub(touille,s)\n",
    "```\n",
    "\n",
    "\n",
    "### La classe <tt>BaseHTMLProcessor</tt>\n",
    "\n",
    "```python\n",
    "# file newHTMLProcessor.py\n",
    "\"\"\"Base class for creating HTML processing modules\n",
    "\n",
    "This class is designed to take HTML as input and spit out equivalent\n",
    "HTML as output.  By itself it's not very interesting; you use it by\n",
    "subclassing it and providing the methods you need to create your HTML\n",
    "transformation.\n",
    "\n",
    "Adapted from Mark Pilgrim's book \"Dive into Python\".\n",
    "sgmllib.SGMLParser replaced in Python 3 by html.parser.HTMLParser.\n",
    "\n",
    "\"\"\"\n",
    "\n",
    "from html.parser import HTMLParser\n",
    "from html.entities import entitydefs\n",
    "\n",
    "class BaseHTMLProcessor(HTMLParser):\n",
    "\tdef reset(self):\n",
    "\t\t# extend (called by HTMLParser.__init__)\n",
    "\t\tself.pieces = []\n",
    "\t\tHTMLParser.reset(self)\n",
    "\n",
    "\tdef handle_starttag(self, tag, attrs):\n",
    "\t\t# called for each start tag\n",
    "\t\t# attrs is a list of (attr, value) tuples\n",
    "\t\t# e.g. for <pre class=\"screen\">, tag=\"pre\", attrs=[(\"class\", \"screen\")]\n",
    "\t\t# Ideally we would like to reconstruct original tag and attributes, but\n",
    "\t\t# we may end up quoting attribute values that weren't quoted in the source\n",
    "\t\t# document, or we may change the type of quotes around the attribute value\n",
    "\t\t# (single to double quotes).\n",
    "\t\t# Note that improperly embedded non-HTML code (like client-side Javascript)\n",
    "\t\t# may be parsed incorrectly by the ancestor, causing runtime script errors.\n",
    "\t\t# All non-HTML code must be enclosed in HTML comment tags (<!-- code -->)\n",
    "\t\t# to ensure that it will pass through this parser unaltered (in handle_comment).\n",
    "\t\tstrattrs = \"\".join([' %s=\"%s\"' % (key, value) for key, value in attrs])\n",
    "\t\tself.pieces.append(\"<%(tag)s%(strattrs)s>\" % locals())\n",
    "\n",
    "\tdef handle_endtag(self, tag):\n",
    "\t\t# called for each end tag, e.g. for </pre>, tag will be \"pre\"\n",
    "\t\t# Reconstruct the original end tag.\n",
    "\t\tself.pieces.append(\"</%(tag)s>\" % locals())\n",
    "\n",
    "\tdef handle_charref(self, ref):\n",
    "\t\t# called for each character reference, e.g. for \"&#160;\", ref will be \"160\"\n",
    "\t\t# Reconstruct the original character reference.\n",
    "\t\tself.pieces.append(\"&#%(ref)s;\" % locals())\n",
    "\n",
    "\tdef handle_entityref(self, ref):\n",
    "\t\t# called for each entity reference, e.g. for \"&copy;\", ref will be \"copy\"\n",
    "\t\t# Reconstruct the original entity reference.\n",
    "\t\tself.pieces.append(\"&%(ref)s\" % locals())\n",
    "\t\t# standard HTML entities are closed with a semicolon; other entities are not\n",
    "\t\tif htmlentitydefs.entitydefs.has_key(ref):\n",
    "\t\t\tself.pieces.append(\";\")\n",
    "\n",
    "\tdef handle_data(self, text): \n",
    "\t\t# called for each block of plain text, i.e. outside of any tag and\n",
    "\t\t# not containing any character or entity references\n",
    "\t\t# Store the original text verbatim.\n",
    "\t\tself.pieces.append(text)\n",
    "\n",
    "\tdef handle_comment(self, text): \n",
    "\t\t# called for each HTML comment, e.g. <!-- insert Javascript code here -->\n",
    "\t\t# Reconstruct the original comment.\n",
    "\t\t# It is especially important that the source document enclose client-side\n",
    "\t\t# code (like Javascript) within comments so it can pass through this\n",
    "\t\t# processor undisturbed; see comments in unknown_starttag for details.\n",
    "\t\tself.pieces.append(\"<!--%(text)s-->\" % locals())\n",
    "\n",
    "\tdef handle_pi(self, text): \n",
    "\t\t# called for each processing instruction, e.g. <?instruction>\n",
    "\t\t# Reconstruct original processing instruction.\n",
    "\t\tself.pieces.append(\"<?%(text)s>\" % locals())\n",
    "\n",
    "\tdef handle_decl(self, text): \n",
    "\t\t# called for the DOCTYPE, if present, e.g.\n",
    "\t\t# <!DOCTYPE html PUBLIC \"-//W3C//DTD HTML 4.01 Transitional//EN\"\n",
    "\t\t#\t \"http://www.w3.org/TR/html4/loose.dtd\">\n",
    "\t\t# Reconstruct original DOCTYPE\n",
    "\t\tself.pieces.append(\"<!%(text)s>\" % locals())\n",
    "\n",
    "\tdef output(self):\n",
    "\t\t\"\"\"Return processed HTML as a single string\"\"\"\n",
    "\t\treturn \"\".join(self.pieces)\n",
    "\n",
    "if __name__ == \"__main__\":\n",
    "\tfor k, v in globals().items():\n",
    "\t\tprint (k, \"=\", v)\n",
    "```\n",
    "\n",
    "### Le programme principal <tt>blurweb3.py</tt>\n",
    "```python\n",
    "#!/usr/bin/env python\n",
    "\"\"\"Web page blurrer for Python\n",
    "\n",
    "This program is adapted from \"Dive Into Python\", a free Python book for\n",
    "experienced programmers.  Visit http://diveintopython.org/ for the\n",
    "latest version.\n",
    "\n",
    "New version using Python 3, html.parser and including images.\n",
    "\"\"\"\n",
    "\n",
    "__author__ = \"Mark Pilgrim (mark@diveintopython.org)\"\n",
    "__updated_by__ = \"Jean-Yves Thibon\"\n",
    "__version__ = \"$Revision: 3.0 $\"\n",
    "__date__ = \"$Date: 2019/10/07 $\"\n",
    "__copyright__ = \"Copyright (c) 2001 Mark Pilgrim\"\n",
    "__license__ = \"Python\"\n",
    "\n",
    "import re\n",
    "from newHTMLProcessor import BaseHTMLProcessor\n",
    "from touille import blurr\n",
    "import codecs\n",
    "from urllib.parse import urljoin\n",
    "\n",
    "class Dialectizer(BaseHTMLProcessor):\n",
    "        subs = ()\n",
    "        def __init__(self,root_url=None):# ajout\n",
    "                BaseHTMLProcessor.__init__(self)\n",
    "                self.url = root_url\n",
    "\n",
    "        def __compl(self, x):# pair (key, value)\n",
    "                if x[0] == 'href' or x[0] == 'src':\n",
    "                        return (x[0], urljoin(self.url,x[1]))\n",
    "                else: return x\n",
    "\n",
    "        def reset(self):\n",
    "                # extend (called from __init__ in ancestor)\n",
    "                # Reset all data attributes\n",
    "                self.verbatim = 0\n",
    "                BaseHTMLProcessor.reset(self)\n",
    "\n",
    "        def handle_starttag(self,tag,args):\n",
    "                if self.url:\n",
    "                        args = [self.__compl(x) for x in args]\n",
    "                if tag in [\"pre\",\"script\",\"style\"]: self.verbatim += 1\n",
    "                strattrs = \"\".join([' %s=\"%s\"' % (key, value) for key, value in args])\n",
    "                self.pieces.append(\"<%(tag)s%(strattrs)s>\" % locals())\n",
    "\n",
    "        def handle_endtag(self,tag):\n",
    "                # called for every </pre> tag in HTML source\n",
    "                # Decrement verbatim mode count\n",
    "                if tag in [\"pre\",\"script\",\"style\"]: self.verbatim -= 1\n",
    "                self.pieces.append(\"</%(tag)s>\" % locals())\n",
    "\n",
    "        def handle_data(self, text):\n",
    "                # override\n",
    "                # called for every block of text in HTML source\n",
    "                # If in verbatim mode, save text unaltered;\n",
    "                # otherwise process the text with a series of substitutions\n",
    "                self.pieces.append(self.verbatim and text or self.process(text))\n",
    "\n",
    "        def process(self, text):\n",
    "                # called from handle_data\n",
    "                text = blurr(text)\n",
    "                return text\n",
    "\n",
    "\n",
    "def translate(url):\n",
    "        \"\"\"fetch URL and blurr\"\"\"\n",
    "        from urllib.request import urlopen\n",
    "        sock = urlopen(url)\n",
    "        htmlSource = sock.read()\n",
    "        sock.close()\n",
    "        s = htmlSource.decode('utf-8')\n",
    "        parser = Dialectizer(url)#test\n",
    "        parser.feed(s)\n",
    "        parser.close()\n",
    "        return parser.output()\n",
    "\n",
    "def test(url):\n",
    "        \"\"\"test  against URL\"\"\"\n",
    "        outfile = \"touillage.html\"\n",
    "        fsock = codecs.open(outfile, \"wb\",encoding='UTF-8')\n",
    "        fsock.write(translate(url))\n",
    "        fsock.close()\n",
    "        import webbrowser\n",
    "        K = webbrowser.Mozilla('firefox')\n",
    "        webbrowser.register('firefox', None, K)\n",
    "\n",
    "\n",
    "        K.open_new(outfile)\n",
    "\n",
    "if __name__ == \"__main__\":\n",
    "        s = test(\"http://igm.univ-mlv.fr/~jyt/\")\n",
    "\n",
    "```\n",
    "\n"
   ]
  },
  {
   "cell_type": "markdown",
   "metadata": {},
   "source": [
    "![screen8.png](blur3/screen8.png)"
   ]
  },
  {
   "cell_type": "markdown",
   "metadata": {},
   "source": [
    "Ce code est instructif, mais assez compliqué. On peut faire plus simple avec <tt>BeautifulSoup</tt>."
   ]
  },
  {
   "cell_type": "code",
   "execution_count": null,
   "metadata": {},
   "outputs": [],
   "source": []
  },
  {
   "cell_type": "code",
   "execution_count": null,
   "metadata": {},
   "outputs": [],
   "source": []
  },
  {
   "cell_type": "code",
   "execution_count": null,
   "metadata": {},
   "outputs": [],
   "source": []
  },
  {
   "cell_type": "code",
   "execution_count": null,
   "metadata": {},
   "outputs": [],
   "source": []
  }
 ],
 "metadata": {
  "kernelspec": {
   "display_name": "Python 3 (ipykernel)",
   "language": "python",
   "name": "python3"
  },
  "language_info": {
   "codemirror_mode": {
    "name": "ipython",
    "version": 3
   },
   "file_extension": ".py",
   "mimetype": "text/x-python",
   "name": "python",
   "nbconvert_exporter": "python",
   "pygments_lexer": "ipython3",
   "version": "3.11.1"
  }
 },
 "nbformat": 4,
 "nbformat_minor": 2
}
