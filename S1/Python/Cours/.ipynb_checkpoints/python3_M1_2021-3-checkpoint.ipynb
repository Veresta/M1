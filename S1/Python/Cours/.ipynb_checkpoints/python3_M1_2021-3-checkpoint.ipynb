{
 "cells": [
  {
   "cell_type": "markdown",
   "metadata": {},
   "source": [
    "# La bibliothèque (Python 3)\n",
    "\n",
    "Elle se compose de *modules*, que l'on doit importer (mot clé <tt>import</tt>).\n",
    "\n",
    "À explorer : [https://docs.python.org/3/py-modindex.html](https://docs.python.org/3/py-modindex.html)\n",
    "\n",
    "- sys : sys.argv, sys.stdin... principalement\n",
    "- os : fonctions \"bas niveau\" (appels système)\n",
    "- re : expressions régulières\n",
    "- math :   flottants,  complexes\n",
    "- pickle, cPickle : (dé)sérialisation\n",
    "- shelve : dictionnaires persistants\n",
    "- urllib, urllib2 : http\n",
    "- html.parser : comme son nom l'indique ...\n",
    "- xmlrpclib : \"Remote Procedure Call\" (web services) \n",
    "- cgi : Common Gateway Interface\n",
    "- sqlite3 : Bases de données SQLite\n",
    "- socket : réseau bas niveau\n",
    "\n",
    "\n",
    "Il y a de nombreux paquetages \n",
    "[http://pypi.python.org/pypi](http://pypi.python.org/pypi) (environ 120000)\n",
    "pour à peu près n'importe quoi ..."
   ]
  },
  {
   "cell_type": "markdown",
   "metadata": {},
   "source": [
    "## Entrées/sorties : le module [sys](https://docs.python.org/3/library/sys.html#module-sys)\n",
    "\n",
    "Exporte en particulier <tt>sys.stdin, sys.stdout, sys.stderr, sys.argv, sys.exit</tt>."
   ]
  },
  {
   "cell_type": "code",
   "execution_count": 3,
   "metadata": {},
   "outputs": [
    {
     "name": "stdout",
     "output_type": "stream",
     "text": [
      "Hello!\n"
     ]
    },
    {
     "data": {
      "text/plain": [
       "7"
      ]
     },
     "execution_count": 3,
     "metadata": {},
     "output_type": "execute_result"
    }
   ],
   "source": [
    "import sys\n",
    "sys.stdout.write('Hello!\\n') # équivalent de 'print (Hello!)'"
   ]
  },
  {
   "cell_type": "code",
   "execution_count": 2,
   "metadata": {},
   "outputs": [
    {
     "name": "stderr",
     "output_type": "stream",
     "text": [
      "Raté !"
     ]
    }
   ],
   "source": [
    "sys.stderr.write('Raté !')"
   ]
  },
  {
   "cell_type": "code",
   "execution_count": 3,
   "metadata": {},
   "outputs": [
    {
     "data": {
      "text/plain": [
       "'utf-8'"
      ]
     },
     "execution_count": 3,
     "metadata": {},
     "output_type": "execute_result"
    }
   ],
   "source": [
    "sys.getfilesystemencoding()"
   ]
  },
  {
   "cell_type": "code",
   "execution_count": 4,
   "metadata": {},
   "outputs": [
    {
     "data": {
      "text/plain": [
       "2000"
      ]
     },
     "execution_count": 4,
     "metadata": {},
     "output_type": "execute_result"
    }
   ],
   "source": [
    "sys.getrecursionlimit()"
   ]
  },
  {
   "cell_type": "code",
   "execution_count": 5,
   "metadata": {},
   "outputs": [
    {
     "data": {
      "text/plain": [
       "'linux'"
      ]
     },
     "execution_count": 5,
     "metadata": {},
     "output_type": "execute_result"
    }
   ],
   "source": [
    "sys.platform"
   ]
  },
  {
   "cell_type": "markdown",
   "metadata": {},
   "source": [
    "## Appels système : [os](https://docs.python.org/3/library/os.html#module-os) et [os.path](https://docs.python.org/3/library/os.path.html#module-os.path)\n",
    "\n",
    "Permet d'utiliser le système de manière indépendante de la plateforme."
   ]
  },
  {
   "cell_type": "code",
   "execution_count": 1,
   "metadata": {},
   "outputs": [
    {
     "ename": "FileNotFoundError",
     "evalue": "[Errno 2] No such file or directory: 'toto'",
     "output_type": "error",
     "traceback": [
      "\u001b[0;31m---------------------------------------------------------------------------\u001b[0m",
      "\u001b[0;31mFileNotFoundError\u001b[0m                         Traceback (most recent call last)",
      "Cell \u001b[0;32mIn[1], line 2\u001b[0m\n\u001b[1;32m      1\u001b[0m \u001b[38;5;28;01mimport\u001b[39;00m \u001b[38;5;21;01mos\u001b[39;00m\n\u001b[0;32m----> 2\u001b[0m \u001b[43mos\u001b[49m\u001b[38;5;241;43m.\u001b[39;49m\u001b[43mlistdir\u001b[49m\u001b[43m(\u001b[49m\u001b[38;5;124;43m'\u001b[39;49m\u001b[38;5;124;43mtoto\u001b[39;49m\u001b[38;5;124;43m'\u001b[39;49m\u001b[43m)\u001b[49m \u001b[38;5;66;03m# appelle 'ls' sous linux, et 'dir' sous windows\u001b[39;00m\n",
      "\u001b[0;31mFileNotFoundError\u001b[0m: [Errno 2] No such file or directory: 'toto'"
     ]
    }
   ],
   "source": [
    "import os\n",
    "os.listdir('toto') # appelle 'ls' sous linux, et 'dir' sous windows"
   ]
  },
  {
   "cell_type": "code",
   "execution_count": 7,
   "metadata": {},
   "outputs": [
    {
     "name": "stdout",
     "output_type": "stream",
     "text": [
      "total 16\r\n",
      "-rw-rw-r-- 1 jyt jyt    0 oct.  12  2021 1\r\n",
      "-rw-rw-r-- 1 jyt jyt    0 oct.  12  2021 2\r\n",
      "-rw-rw-r-- 1 jyt jyt    0 oct.  12  2021 3\r\n",
      "drwxrwxr-x 2 jyt jyt 4096 oct.  12  2021 bu\r\n",
      "drwxrwxr-x 2 jyt jyt 4096 oct.  12  2021 ga\r\n",
      "lrwxrwxrwx 1 jyt jyt    4 oct.  12  2021 link -> bu/5\r\n",
      "drwxrwxr-x 2 jyt jyt 4096 oct.  12  2021 meu\r\n",
      "drwxrwxr-x 2 jyt jyt 4096 oct.  12  2021 zo\r\n"
     ]
    }
   ],
   "source": [
    "!ls -l toto"
   ]
  },
  {
   "cell_type": "code",
   "execution_count": 8,
   "metadata": {},
   "outputs": [
    {
     "data": {
      "text/plain": [
       "'/home/jyt'"
      ]
     },
     "execution_count": 8,
     "metadata": {},
     "output_type": "execute_result"
    }
   ],
   "source": [
    "os.environ['HOME'] # variables d'environnement (dictionnaire)"
   ]
  },
  {
   "cell_type": "code",
   "execution_count": 9,
   "metadata": {},
   "outputs": [
    {
     "name": "stdout",
     "output_type": "stream",
     "text": [
      "KeysView(environ({'CLUTTER_IM_MODULE': 'xim', 'LS_COLORS': 'rs=0:di=01;34:ln=01;36:mh=00:pi=40;33:so=01;35:do=01;35:bd=40;33;01:cd=40;33;01:or=40;31;01:mi=00:su=37;41:sg=30;43:ca=30;41:tw=30;42:ow=34;42:st=37;44:ex=01;32:*.tar=01;31:*.tgz=01;31:*.arc=01;31:*.arj=01;31:*.taz=01;31:*.lha=01;31:*.lz4=01;31:*.lzh=01;31:*.lzma=01;31:*.tlz=01;31:*.txz=01;31:*.tzo=01;31:*.t7z=01;31:*.zip=01;31:*.z=01;31:*.Z=01;31:*.dz=01;31:*.gz=01;31:*.lrz=01;31:*.lz=01;31:*.lzo=01;31:*.xz=01;31:*.zst=01;31:*.tzst=01;31:*.bz2=01;31:*.bz=01;31:*.tbz=01;31:*.tbz2=01;31:*.tz=01;31:*.deb=01;31:*.rpm=01;31:*.jar=01;31:*.war=01;31:*.ear=01;31:*.sar=01;31:*.rar=01;31:*.alz=01;31:*.ace=01;31:*.zoo=01;31:*.cpio=01;31:*.7z=01;31:*.rz=01;31:*.cab=01;31:*.wim=01;31:*.swm=01;31:*.dwm=01;31:*.esd=01;31:*.jpg=01;35:*.jpeg=01;35:*.mjpg=01;35:*.mjpeg=01;35:*.gif=01;35:*.bmp=01;35:*.pbm=01;35:*.pgm=01;35:*.ppm=01;35:*.tga=01;35:*.xbm=01;35:*.xpm=01;35:*.tif=01;35:*.tiff=01;35:*.png=01;35:*.svg=01;35:*.svgz=01;35:*.mng=01;35:*.pcx=01;35:*.mov=01;35:*.mpg=01;35:*.mpeg=01;35:*.m2v=01;35:*.mkv=01;35:*.webm=01;35:*.ogm=01;35:*.mp4=01;35:*.m4v=01;35:*.mp4v=01;35:*.vob=01;35:*.qt=01;35:*.nuv=01;35:*.wmv=01;35:*.asf=01;35:*.rm=01;35:*.rmvb=01;35:*.flc=01;35:*.avi=01;35:*.fli=01;35:*.flv=01;35:*.gl=01;35:*.dl=01;35:*.xcf=01;35:*.xwd=01;35:*.yuv=01;35:*.cgm=01;35:*.emf=01;35:*.ogv=01;35:*.ogx=01;35:*.aac=00;36:*.au=00;36:*.flac=00;36:*.m4a=00;36:*.mid=00;36:*.midi=00;36:*.mka=00;36:*.mp3=00;36:*.mpc=00;36:*.ogg=00;36:*.ra=00;36:*.wav=00;36:*.oga=00;36:*.opus=00;36:*.spx=00;36:*.xspf=00;36:', 'LESSCLOSE': '/usr/bin/lesspipe %s %s', 'LANG': 'fr_FR.UTF-8', 'GDM_LANG': 'fr_FR', 'DISPLAY': ':0', 'GTK_OVERLAY_SCROLLING': '1', 'COLORTERM': 'truecolor', 'XDG_VTNR': '7', 'SSH_AUTH_SOCK': '/run/user/1000/keyring/ssh', 'MANDATORY_PATH': '/usr/share/gconf/cinnamon.mandatory.path', 'XDG_SESSION_ID': 'c2', 'XDG_GREETER_DATA_DIR': '/var/lib/lightdm-data/jyt', 'USER': 'jyt', 'DESKTOP_SESSION': 'cinnamon', 'QT4_IM_MODULE': 'xim', 'GNOME_TERMINAL_SCREEN': '/org/gnome/Terminal/screen/ed476182_26af_4f86_868c_051a4ba5039a', 'DEFAULTS_PATH': '/usr/share/gconf/cinnamon.default.path', 'PWD': '/home/jyt/ens/M1_python', 'HOME': '/home/jyt', 'SSH_AGENT_PID': '1197', 'QT_ACCESSIBILITY': '1', 'XDG_SESSION_TYPE': 'x11', 'XDG_DATA_DIRS': '/home/jyt/.local/share/flatpak/exports/share:/var/lib/flatpak/exports/share/:/usr/share/cinnamon:/usr/share/gnome:/home/jyt/.local/share/flatpak/exports/share:/var/lib/flatpak/exports/share:/usr/local/share:/usr/share', 'XDG_SESSION_DESKTOP': 'cinnamon', 'GJS_DEBUG_OUTPUT': 'stderr', 'GTK_MODULES': 'gail:atk-bridge', 'TERM': 'xterm-color', 'SHELL': '/bin/bash', 'VTE_VERSION': '5202', 'XDG_SEAT_PATH': '/org/freedesktop/DisplayManager/Seat0', 'XMODIFIERS': '@im=none', 'XDG_CURRENT_DESKTOP': 'X-Cinnamon', 'GPG_AGENT_INFO': '/run/user/1000/gnupg/S.gpg-agent:0:1', 'GNOME_TERMINAL_SERVICE': ':1.67', 'XDG_SEAT': 'seat0', 'SHLVL': '1', 'LANGUAGE': 'fr_FR', 'GDMSESSION': 'cinnamon', 'GNOME_DESKTOP_SESSION_ID': 'this-is-deprecated', 'LOGNAME': 'jyt', 'DBUS_SESSION_BUS_ADDRESS': 'unix:abstract=/tmp/dbus-EmjFsjx8bu,guid=4488bce740c823b90eae1cd1633d4566', 'XDG_RUNTIME_DIR': '/run/user/1000', 'XAUTHORITY': '/home/jyt/.Xauthority', 'XDG_SESSION_PATH': '/org/freedesktop/DisplayManager/Session0', 'XDG_CONFIG_DIRS': '/etc/xdg/xdg-cinnamon:/etc/xdg', 'PATH': '/home/jyt/anaconda3/bin:/home/jyt/bin:/usr/local/sbin:/usr/local/bin:/usr/sbin:/usr/bin:/sbin:/bin:/usr/games:/usr/local/games:/snap/bin', 'CINNAMON_VERSION': '3.8.9', 'GJS_DEBUG_TOPICS': 'JS ERROR;JS LOG', 'SESSION_MANAGER': 'local/balazuc:@/tmp/.ICE-unix/1117,unix/balazuc:/tmp/.ICE-unix/1117', 'LESSOPEN': '| /usr/bin/lesspipe %s', 'GTK_IM_MODULE': 'xim', 'OLDPWD': '/home/jyt', '_': '/home/jyt/anaconda3/bin/jupyter', 'JPY_PARENT_PID': '2476', 'CLICOLOR': '1', 'PAGER': 'cat', 'GIT_PAGER': 'cat', 'MPLBACKEND': 'module://ipykernel.pylab.backend_inline'}))\n"
     ]
    }
   ],
   "source": [
    "print (os.environ.keys())"
   ]
  },
  {
   "cell_type": "markdown",
   "metadata": {},
   "source": [
    "Une des fonctions les plus utiles est <tt>os.walk</tt> (parcours récursif d'une arborescence):"
   ]
  },
  {
   "cell_type": "code",
   "execution_count": 10,
   "metadata": {},
   "outputs": [
    {
     "name": "stdout",
     "output_type": "stream",
     "text": [
      "<generator object walk at 0x7fa70bf6d888>\n"
     ]
    }
   ],
   "source": [
    "tree = os.walk('toto')\n",
    "print (tree)"
   ]
  },
  {
   "cell_type": "code",
   "execution_count": 11,
   "metadata": {},
   "outputs": [
    {
     "data": {
      "text/plain": [
       "[('toto', ['ga', 'meu', 'bu', 'zo'], ['link', '2', '3', '1']),\n",
       " ('toto/ga', [], ['4']),\n",
       " ('toto/meu', [], ['8']),\n",
       " ('toto/bu', [], ['6', '5']),\n",
       " ('toto/zo', [], ['7'])]"
      ]
     },
     "execution_count": 11,
     "metadata": {},
     "output_type": "execute_result"
    }
   ],
   "source": [
    "list(tree)"
   ]
  },
  {
   "cell_type": "code",
   "execution_count": 12,
   "metadata": {},
   "outputs": [
    {
     "name": "stdout",
     "output_type": "stream",
     "text": [
      "toto:\r\n",
      "1  2  3  \u001b[0m\u001b[01;34mbu\u001b[0m/  \u001b[01;34mga\u001b[0m/  \u001b[01;36mlink\u001b[0m@  \u001b[01;34mmeu\u001b[0m/  \u001b[01;34mzo\u001b[0m/\r\n",
      "\r\n",
      "toto/bu:\r\n",
      "5  6\r\n",
      "\r\n",
      "toto/ga:\r\n",
      "4\r\n",
      "\r\n",
      "toto/meu:\r\n",
      "8\r\n",
      "\r\n",
      "toto/zo:\r\n",
      "7\r\n"
     ]
    }
   ],
   "source": [
    "ls -R toto"
   ]
  },
  {
   "cell_type": "markdown",
   "metadata": {},
   "source": [
    "On voit que <tt>os.walk</tt> retourne une liste de triplets de la forme\n",
    "\n",
    "(repertoire, [liste de repertoires], [liste de fichiers])\n",
    "\n",
    "Pour savoir si un chemin représente un répertoire, un fichier ou un lien symbolique, on utilise <tt>os.path</tt>:"
   ]
  },
  {
   "cell_type": "code",
   "execution_count": 13,
   "metadata": {},
   "outputs": [
    {
     "data": {
      "text/plain": [
       "False"
      ]
     },
     "execution_count": 13,
     "metadata": {},
     "output_type": "execute_result"
    }
   ],
   "source": [
    "os.path.islink('/home/jyt/ens/M1_python/toto')"
   ]
  },
  {
   "cell_type": "code",
   "execution_count": 14,
   "metadata": {},
   "outputs": [
    {
     "data": {
      "text/plain": [
       "True"
      ]
     },
     "execution_count": 14,
     "metadata": {},
     "output_type": "execute_result"
    }
   ],
   "source": [
    "os.path.islink('/home/jyt/ens/M1_python/toto/link')"
   ]
  },
  {
   "cell_type": "code",
   "execution_count": 15,
   "metadata": {},
   "outputs": [
    {
     "data": {
      "text/plain": [
       "os.stat_result(st_mode=16893, st_ino=8667102, st_dev=2054, st_nlink=6, st_uid=1000, st_gid=1000, st_size=4096, st_atime=1664953908, st_mtime=1634051854, st_ctime=1634051854)"
      ]
     },
     "execution_count": 15,
     "metadata": {},
     "output_type": "execute_result"
    }
   ],
   "source": [
    "os.stat('/home/jyt/ens/M1_python/toto')"
   ]
  },
  {
   "cell_type": "code",
   "execution_count": 16,
   "metadata": {},
   "outputs": [
    {
     "data": {
      "text/plain": [
       "'0o40775'"
      ]
     },
     "execution_count": 16,
     "metadata": {},
     "output_type": "execute_result"
    }
   ],
   "source": [
    "oct(_.st_mode) # les 3 derniers chiffres en octal correpondent aux permissions"
   ]
  },
  {
   "cell_type": "code",
   "execution_count": 18,
   "metadata": {},
   "outputs": [],
   "source": [
    "os.rename('toto','baz')"
   ]
  },
  {
   "cell_type": "code",
   "execution_count": 19,
   "metadata": {},
   "outputs": [
    {
     "name": "stdout",
     "output_type": "stream",
     "text": [
      "1  2  3  bu  ga  link  meu  zo\r\n"
     ]
    }
   ],
   "source": [
    "!ls baz"
   ]
  },
  {
   "cell_type": "code",
   "execution_count": 20,
   "metadata": {},
   "outputs": [
    {
     "data": {
      "text/plain": [
       "0"
      ]
     },
     "execution_count": 20,
     "metadata": {},
     "output_type": "execute_result"
    }
   ],
   "source": [
    "os.system('echo \"blablabla\">baz/blu') # execute une commande ou un programme"
   ]
  },
  {
   "cell_type": "code",
   "execution_count": 21,
   "metadata": {},
   "outputs": [
    {
     "name": "stdout",
     "output_type": "stream",
     "text": [
      "blablabla\r\n"
     ]
    }
   ],
   "source": [
    "cat baz/blu"
   ]
  },
  {
   "cell_type": "markdown",
   "metadata": {},
   "source": [
    "## [Pickle](https://docs.python.org/3/library/pickle.html#module-pickle) : mise en bocal\n",
    "Pour sauvegarder des données au format Python.\n",
    "\n",
    "\n",
    "Surtout utile pour sauvegarder des sessions.\n",
    "\n",
    "On ne peut pas tout sauver (sockets, modules...).\n"
   ]
  },
  {
   "cell_type": "code",
   "execution_count": 4,
   "metadata": {},
   "outputs": [],
   "source": [
    "import pickle\n",
    "f = open('/tmp/toto','wb') # sauvegarde \n",
    "pickle.dump(47,f)\n",
    "pickle.dump(sys.argv,f)\n",
    "pickle.dump({'canard':'coin', 'chat':'miaou'},f)\n",
    "f.close()"
   ]
  },
  {
   "cell_type": "code",
   "execution_count": 5,
   "metadata": {},
   "outputs": [
    {
     "name": "stdout",
     "output_type": "stream",
     "text": [
      "47\n",
      "['/opt/homebrew/Cellar/jupyterlab/3.4.8_1/libexec/lib/python3.11/site-packages/ipykernel_launcher.py', '-f', '/Users/mathismenaa/Library/Jupyter/runtime/kernel-68ec30c2-b986-4568-b89f-048086d48bd1.json']\n",
      "{'canard': 'coin', 'chat': 'miaou'}\n"
     ]
    }
   ],
   "source": [
    "f = open('/tmp/toto','rb')     # rechargement \n",
    "try:\n",
    "    while 1: print (pickle.load(f))\n",
    "except EOFError: pass"
   ]
  },
  {
   "cell_type": "markdown",
   "metadata": {},
   "source": [
    "## [Shelve](https://docs.python.org/3/library/shelve.html#module-shelve)\n",
    "Table de hachage stockée sur disque.\n",
    "\n",
    "Restrictions : les mêmes que pour pickle.\n",
    "De plus, les clés doivent être des chaînes."
   ]
  },
  {
   "cell_type": "code",
   "execution_count": 6,
   "metadata": {},
   "outputs": [],
   "source": [
    "import shelve\n",
    "d = shelve.open('titi')\n",
    "d['ga'] = (1,2)\n",
    "d['bu']= 'abracadabra'\n",
    "d['zo'] = 3.1415926535\n",
    "d['meu'] = {'a':'b'}\n",
    "d.close()"
   ]
  },
  {
   "cell_type": "code",
   "execution_count": 7,
   "metadata": {},
   "outputs": [
    {
     "name": "stdout",
     "output_type": "stream",
     "text": [
      "KeysView(<shelve.DbfilenameShelf object at 0x103d45950>)\n",
      "['ga', 'bu', 'zo', 'meu']\n",
      "[0, 1, 2]\n"
     ]
    }
   ],
   "source": [
    "d = shelve.open('titi')\n",
    "print (d.keys())\n",
    "print(list(d.keys()))\n",
    "['ga', 'bu', 'zo', 'meu']\n",
    "d['bu'] = list(range(3))\n",
    "d['bu'].append(8)\n",
    "print (d['bu']) # Un piège : l'attribut \"writeback\" est False par defaut"
   ]
  },
  {
   "cell_type": "markdown",
   "metadata": {},
   "source": [
    "## Expressions régulières\n",
    "\n",
    "Module [re](https://docs.python.org/3/library/re.html#module-re)\n",
    "            \n",
    "<tt>re.match(regex, chaîne)</tt> et <tt> re.search(regex, chaîne)</tt>\n",
    "retournent (en cas de match) un objet de type <tt>Match</tt>.\n",
    "\n",
    "<tt>re.match</tt> ne cherche qu'au début de la chaîne.\n",
    "\n",
    "<tt>re.search</tt>  cherche à n'importe quelle position.\n",
    "\n",
    "<tt>re.findall</tt> retourne une liste de toutes les occurences trouvées.\n",
    "\n",
    "\n",
    "Recherches multiples : <tt>re.compile</tt> construit un automate.\n",
    "\n",
    "Pratique : les raw strings\n"
   ]
  },
  {
   "cell_type": "code",
   "execution_count": 8,
   "metadata": {},
   "outputs": [
    {
     "data": {
      "text/plain": [
       "'abc\\n\\x01def'"
      ]
     },
     "execution_count": 8,
     "metadata": {},
     "output_type": "execute_result"
    }
   ],
   "source": [
    "\"abc\\n\\1def\" "
   ]
  },
  {
   "cell_type": "code",
   "execution_count": 9,
   "metadata": {},
   "outputs": [
    {
     "name": "stdout",
     "output_type": "stream",
     "text": [
      "abc\n",
      "\u0001def\n"
     ]
    }
   ],
   "source": [
    "print(_)\n"
   ]
  },
  {
   "cell_type": "code",
   "execution_count": 13,
   "metadata": {},
   "outputs": [
    {
     "data": {
      "text/plain": [
       "'abc\\\\n\\\\1def'"
      ]
     },
     "execution_count": 13,
     "metadata": {},
     "output_type": "execute_result"
    }
   ],
   "source": [
    "r\"abc\\n\\1def\""
   ]
  },
  {
   "cell_type": "code",
   "execution_count": 14,
   "metadata": {},
   "outputs": [
    {
     "name": "stdout",
     "output_type": "stream",
     "text": [
      "abc\n",
      "\u0001def\n"
     ]
    }
   ],
   "source": [
    "print (\"abc\\n\\1def\")"
   ]
  },
  {
   "cell_type": "code",
   "execution_count": 15,
   "metadata": {},
   "outputs": [
    {
     "name": "stdout",
     "output_type": "stream",
     "text": [
      "abc\\n\\1def\n"
     ]
    }
   ],
   "source": [
    "print (r\"abc\\n\\1def\")"
   ]
  },
  {
   "cell_type": "markdown",
   "metadata": {},
   "source": [
    "Dans une chaîne ordinaire, <tt>\\n</tt> est interprété comme un retour ligne. \n",
    "Pour avoir le caractère '\\' suivi du caracère 'n', il faut faire précéder le '\\' d'un autre '\\', \n",
    "qui est le caractère d'échappement.\n",
    "\n",
    "Les *rawstrings* interprètent '\\' comme un caractère ordinaire."
   ]
  },
  {
   "cell_type": "code",
   "execution_count": 16,
   "metadata": {},
   "outputs": [],
   "source": [
    "import re\n",
    "m = re.search(r't(.)t\\1', 'le tutu') # le \\ a une signification spéciale dans les regexp"
   ]
  },
  {
   "cell_type": "code",
   "execution_count": 17,
   "metadata": {},
   "outputs": [
    {
     "data": {
      "text/plain": [
       "<re.Match object; span=(3, 7), match='tutu'>"
      ]
     },
     "execution_count": 17,
     "metadata": {},
     "output_type": "execute_result"
    }
   ],
   "source": [
    "m"
   ]
  },
  {
   "cell_type": "markdown",
   "metadata": {},
   "source": [
    "On verra plus loin la signification de cet exemple.\n",
    "\n",
    "\n",
    "Le parseur python interprète le caractère '\\' dans une chaîne comme un caractère d'échappement indiquant le début du\n",
    "nom d'un caractère spécial, comme <tt>\\n,\\t,\\x2a,\\54,...</tt>.\n",
    "\n",
    "Le module <tt>re</tt> utilise aussi '\\' comme caractère d'échappement\n",
    "pour modifier la signification des caractères spéciaux comme <tt>*, ., $, ^</tt>.\n",
    "\n",
    "La calamité est qu'on doit parfois échapper le caractère d'échappement  (quand\n",
    "le caractère spécial est reconnu par les deux parseurs) et parfois non\n",
    "(quand le caractère spécial n'est pas reconnu par le parseur python).\n",
    "\n",
    "Dans une raw string, le parseur python ne substituera pas les caractères spéciaux\n",
    "à leur encodage.\n"
   ]
  },
  {
   "cell_type": "markdown",
   "metadata": {},
   "source": [
    "### Un test commode\n",
    "\n",
    "Les expressions régulières sont puissantes, mais d'un maniement délicat. Le petit test suivant \n",
    "(emprunté au livre de Pilgrim) permet de visualiser leur effet :"
   ]
  },
  {
   "cell_type": "code",
   "execution_count": 18,
   "metadata": {},
   "outputs": [],
   "source": [
    "def re_show(pat, s):\n",
    "    print (re.compile(pat, re.M).sub(\"{\\g<0>}\", s.rstrip()),'\\n')"
   ]
  },
  {
   "cell_type": "markdown",
   "metadata": {},
   "source": [
    "La compilation avec l'option <tt>re.M</tt> permet de traiter une chaîne\n",
    "contenant des sauts de lignes.\n",
    "\n",
    "L'expression $\\tt\\backslash g<0>$ représente la chaîne matchée, qui sera donc\n",
    "substituée à elle même, entourée d'accolades."
   ]
  },
  {
   "cell_type": "code",
   "execution_count": 21,
   "metadata": {},
   "outputs": [
    {
     "name": "stdout",
     "output_type": "stream",
     "text": [
      "{le} cheval {de} mon cousin {ne} {mange} du foin {que} {le} {dimanche} \n",
      "\n"
     ]
    }
   ],
   "source": [
    "s = \"le cheval de mon cousin ne mange du foin que le dimanche\"\n",
    "p = r'(\\b\\w*e\\b)' # un \"bord\" (\\b) suivi de 0 ou plusieurs caractères alphabétiques (\\w*), \n",
    "#des lettres i et n, et d'un bord\n",
    "re_show(p,s)"
   ]
  },
  {
   "cell_type": "code",
   "execution_count": 22,
   "metadata": {},
   "outputs": [
    {
     "data": {
      "text/plain": [
       "\"ceci \\\\ est un \\\\backslash\\nmais cela \\\\n n'est pas un \\n saut de ligne\""
      ]
     },
     "execution_count": 22,
     "metadata": {},
     "output_type": "execute_result"
    }
   ],
   "source": [
    "t = \"\"\"ceci \\\\ est un \\\\backslash\n",
    "mais cela \\\\n n'est pas un \\n saut de ligne\"\"\"\n",
    "t"
   ]
  },
  {
   "cell_type": "code",
   "execution_count": 23,
   "metadata": {},
   "outputs": [
    {
     "name": "stdout",
     "output_type": "stream",
     "text": [
      "ceci \\ est un \\backslash\n",
      "mais cela \\n n'est pas un \n",
      " saut de ligne\n"
     ]
    }
   ],
   "source": [
    "print (t)"
   ]
  },
  {
   "cell_type": "code",
   "execution_count": 24,
   "metadata": {},
   "outputs": [
    {
     "name": "stdout",
     "output_type": "stream",
     "text": [
      "ceci {\\} est un {\\}backslash{\n",
      "}mais cela {\\}n n'est pas un {\n",
      "} saut de ligne \n",
      "\n"
     ]
    }
   ],
   "source": [
    "re_show('\\n|\\\\\\\\',t)"
   ]
  },
  {
   "cell_type": "code",
   "execution_count": 25,
   "metadata": {},
   "outputs": [
    {
     "name": "stdout",
     "output_type": "stream",
     "text": [
      "ceci {\\} est un {\\}backslash{\n",
      "}mais cela {\\}n n'est pas un {\n",
      "} saut de ligne \n",
      "\n"
     ]
    }
   ],
   "source": [
    "re_show(r'\\n|\\\\',t) # autre version"
   ]
  },
  {
   "cell_type": "markdown",
   "metadata": {},
   "source": [
    "### Métacaractères\n",
    "\n",
    "Ce sont les suivants\n",
    "<pre>\n",
    ". ^ $ * + ? { } [ ] \\ | ( ) \\A \\Z \\b \\B\n",
    "</pre>\n",
    "\n",
    "<tt>\"[\"</tt> et <tt>\"]\"</tt> spécifient une classe de caractères :\n",
    "    \n",
    "<tt>[abcd]</tt> ou <tt>[a-d]</tt>. \n",
    "\n",
    "Les métacaractères ne sont pas actifs dans une classe : \n",
    "    <tt>[a-c(?\\$]</tt> contient les caractères <tt>a,b,c,(,?,$</tt>.\n",
    "\n",
    "Un <tt>^</tt> au début définit le complémentaire : les caractères non alphanumériques sont\n",
    "<tt>[^a-zA-Z0-9]</tt>.\n",
    "\n",
    "Le <tt>\\</tt> est le caractère d'échappement."
   ]
  },
  {
   "cell_type": "code",
   "execution_count": 26,
   "metadata": {},
   "outputs": [
    {
     "name": "stdout",
     "output_type": "stream",
     "text": [
      "ceci {\\} est {u}n {\\}b{a}cksl{a}sh{\n",
      "}m{a}is cel{a} {\\}n n'est p{a}s {u}n {\n",
      "} s{a}{u}t de ligne \n",
      "\n"
     ]
    }
   ],
   "source": [
    "re_show(r'[au\\n\\\\]',t)"
   ]
  },
  {
   "cell_type": "markdown",
   "metadata": {},
   "source": [
    "### Classes prédéfinies\n",
    "\n",
    "<pre>\n",
    "\\d  équivalent à [0-9].\n",
    "\\D  équivalent à [^0-9].\n",
    "\\s  équivalent à [ \\t\\n\\r\\f\\v].\n",
    "\\S  équivalent à [^ \\t\\n\\r\\f\\v].\n",
    "\\w  équivalent à alphanumérique (ou seulement [a-zA-Z0-9\\_] si ascii).\n",
    "\\W  est les complémntaire\n",
    "</pre>\n",
    "Ces séquences peuvent être incluses dans une classe. Par exemple,\n",
    "<tt>[\\s\\\\\\\\]</tt> contient tous les blancs et le backslash"
   ]
  },
  {
   "cell_type": "code",
   "execution_count": 28,
   "metadata": {},
   "outputs": [
    {
     "ename": "error",
     "evalue": "unterminated character set at position 0",
     "output_type": "error",
     "traceback": [
      "\u001b[0;31m---------------------------------------------------------------------------\u001b[0m",
      "\u001b[0;31merror\u001b[0m                                     Traceback (most recent call last)",
      "Cell \u001b[0;32mIn[28], line 1\u001b[0m\n\u001b[0;32m----> 1\u001b[0m \u001b[43mre_show\u001b[49m\u001b[43m(\u001b[49m\u001b[38;5;124;43m'\u001b[39;49m\u001b[38;5;124;43m[\u001b[39;49m\u001b[38;5;124;43m\\\u001b[39;49m\u001b[38;5;124;43ms\u001b[39;49m\u001b[38;5;130;43;01m\\\\\u001b[39;49;00m\u001b[38;5;124;43m]\u001b[39;49m\u001b[38;5;124;43m'\u001b[39;49m\u001b[43m,\u001b[49m\u001b[43mt\u001b[49m\u001b[43m)\u001b[49m\n",
      "Cell \u001b[0;32mIn[18], line 2\u001b[0m, in \u001b[0;36mre_show\u001b[0;34m(pat, s)\u001b[0m\n\u001b[1;32m      1\u001b[0m \u001b[38;5;28;01mdef\u001b[39;00m \u001b[38;5;21mre_show\u001b[39m(pat, s):\n\u001b[0;32m----> 2\u001b[0m     \u001b[38;5;28mprint\u001b[39m (\u001b[43mre\u001b[49m\u001b[38;5;241;43m.\u001b[39;49m\u001b[43mcompile\u001b[49m\u001b[43m(\u001b[49m\u001b[43mpat\u001b[49m\u001b[43m,\u001b[49m\u001b[43m \u001b[49m\u001b[43mre\u001b[49m\u001b[38;5;241;43m.\u001b[39;49m\u001b[43mM\u001b[49m\u001b[43m)\u001b[49m\u001b[38;5;241m.\u001b[39msub(\u001b[38;5;124m\"\u001b[39m\u001b[38;5;124m{\u001b[39m\u001b[38;5;124m\\\u001b[39m\u001b[38;5;124mg<0>}\u001b[39m\u001b[38;5;124m\"\u001b[39m, s\u001b[38;5;241m.\u001b[39mrstrip()),\u001b[38;5;124m'\u001b[39m\u001b[38;5;130;01m\\n\u001b[39;00m\u001b[38;5;124m'\u001b[39m)\n",
      "File \u001b[0;32m/opt/homebrew/Cellar/python@3.11/3.11.1/Frameworks/Python.framework/Versions/3.11/lib/python3.11/re/__init__.py:227\u001b[0m, in \u001b[0;36mcompile\u001b[0;34m(pattern, flags)\u001b[0m\n\u001b[1;32m    225\u001b[0m \u001b[38;5;28;01mdef\u001b[39;00m \u001b[38;5;21mcompile\u001b[39m(pattern, flags\u001b[38;5;241m=\u001b[39m\u001b[38;5;241m0\u001b[39m):\n\u001b[1;32m    226\u001b[0m     \u001b[38;5;124m\"\u001b[39m\u001b[38;5;124mCompile a regular expression pattern, returning a Pattern object.\u001b[39m\u001b[38;5;124m\"\u001b[39m\n\u001b[0;32m--> 227\u001b[0m     \u001b[38;5;28;01mreturn\u001b[39;00m \u001b[43m_compile\u001b[49m\u001b[43m(\u001b[49m\u001b[43mpattern\u001b[49m\u001b[43m,\u001b[49m\u001b[43m \u001b[49m\u001b[43mflags\u001b[49m\u001b[43m)\u001b[49m\n",
      "File \u001b[0;32m/opt/homebrew/Cellar/python@3.11/3.11.1/Frameworks/Python.framework/Versions/3.11/lib/python3.11/re/__init__.py:294\u001b[0m, in \u001b[0;36m_compile\u001b[0;34m(pattern, flags)\u001b[0m\n\u001b[1;32m    288\u001b[0m     \u001b[38;5;28;01mimport\u001b[39;00m \u001b[38;5;21;01mwarnings\u001b[39;00m\n\u001b[1;32m    289\u001b[0m     warnings\u001b[38;5;241m.\u001b[39mwarn(\u001b[38;5;124m\"\u001b[39m\u001b[38;5;124mThe re.TEMPLATE/re.T flag is deprecated \u001b[39m\u001b[38;5;124m\"\u001b[39m\n\u001b[1;32m    290\u001b[0m               \u001b[38;5;124m\"\u001b[39m\u001b[38;5;124mas it is an undocumented flag \u001b[39m\u001b[38;5;124m\"\u001b[39m\n\u001b[1;32m    291\u001b[0m               \u001b[38;5;124m\"\u001b[39m\u001b[38;5;124mwithout an obvious purpose. \u001b[39m\u001b[38;5;124m\"\u001b[39m\n\u001b[1;32m    292\u001b[0m               \u001b[38;5;124m\"\u001b[39m\u001b[38;5;124mDon\u001b[39m\u001b[38;5;124m'\u001b[39m\u001b[38;5;124mt use it.\u001b[39m\u001b[38;5;124m\"\u001b[39m,\n\u001b[1;32m    293\u001b[0m               \u001b[38;5;167;01mDeprecationWarning\u001b[39;00m)\n\u001b[0;32m--> 294\u001b[0m p \u001b[38;5;241m=\u001b[39m \u001b[43m_compiler\u001b[49m\u001b[38;5;241;43m.\u001b[39;49m\u001b[43mcompile\u001b[49m\u001b[43m(\u001b[49m\u001b[43mpattern\u001b[49m\u001b[43m,\u001b[49m\u001b[43m \u001b[49m\u001b[43mflags\u001b[49m\u001b[43m)\u001b[49m\n\u001b[1;32m    295\u001b[0m \u001b[38;5;28;01mif\u001b[39;00m \u001b[38;5;129;01mnot\u001b[39;00m (flags \u001b[38;5;241m&\u001b[39m DEBUG):\n\u001b[1;32m    296\u001b[0m     \u001b[38;5;28;01mif\u001b[39;00m \u001b[38;5;28mlen\u001b[39m(_cache) \u001b[38;5;241m>\u001b[39m\u001b[38;5;241m=\u001b[39m _MAXCACHE:\n\u001b[1;32m    297\u001b[0m         \u001b[38;5;66;03m# Drop the oldest item\u001b[39;00m\n",
      "File \u001b[0;32m/opt/homebrew/Cellar/python@3.11/3.11.1/Frameworks/Python.framework/Versions/3.11/lib/python3.11/re/_compiler.py:743\u001b[0m, in \u001b[0;36mcompile\u001b[0;34m(p, flags)\u001b[0m\n\u001b[1;32m    741\u001b[0m \u001b[38;5;28;01mif\u001b[39;00m isstring(p):\n\u001b[1;32m    742\u001b[0m     pattern \u001b[38;5;241m=\u001b[39m p\n\u001b[0;32m--> 743\u001b[0m     p \u001b[38;5;241m=\u001b[39m \u001b[43m_parser\u001b[49m\u001b[38;5;241;43m.\u001b[39;49m\u001b[43mparse\u001b[49m\u001b[43m(\u001b[49m\u001b[43mp\u001b[49m\u001b[43m,\u001b[49m\u001b[43m \u001b[49m\u001b[43mflags\u001b[49m\u001b[43m)\u001b[49m\n\u001b[1;32m    744\u001b[0m \u001b[38;5;28;01melse\u001b[39;00m:\n\u001b[1;32m    745\u001b[0m     pattern \u001b[38;5;241m=\u001b[39m \u001b[38;5;28;01mNone\u001b[39;00m\n",
      "File \u001b[0;32m/opt/homebrew/Cellar/python@3.11/3.11.1/Frameworks/Python.framework/Versions/3.11/lib/python3.11/re/_parser.py:980\u001b[0m, in \u001b[0;36mparse\u001b[0;34m(str, flags, state)\u001b[0m\n\u001b[1;32m    977\u001b[0m state\u001b[38;5;241m.\u001b[39mflags \u001b[38;5;241m=\u001b[39m flags\n\u001b[1;32m    978\u001b[0m state\u001b[38;5;241m.\u001b[39mstr \u001b[38;5;241m=\u001b[39m \u001b[38;5;28mstr\u001b[39m\n\u001b[0;32m--> 980\u001b[0m p \u001b[38;5;241m=\u001b[39m \u001b[43m_parse_sub\u001b[49m\u001b[43m(\u001b[49m\u001b[43msource\u001b[49m\u001b[43m,\u001b[49m\u001b[43m \u001b[49m\u001b[43mstate\u001b[49m\u001b[43m,\u001b[49m\u001b[43m \u001b[49m\u001b[43mflags\u001b[49m\u001b[43m \u001b[49m\u001b[38;5;241;43m&\u001b[39;49m\u001b[43m \u001b[49m\u001b[43mSRE_FLAG_VERBOSE\u001b[49m\u001b[43m,\u001b[49m\u001b[43m \u001b[49m\u001b[38;5;241;43m0\u001b[39;49m\u001b[43m)\u001b[49m\n\u001b[1;32m    981\u001b[0m p\u001b[38;5;241m.\u001b[39mstate\u001b[38;5;241m.\u001b[39mflags \u001b[38;5;241m=\u001b[39m fix_flags(\u001b[38;5;28mstr\u001b[39m, p\u001b[38;5;241m.\u001b[39mstate\u001b[38;5;241m.\u001b[39mflags)\n\u001b[1;32m    983\u001b[0m \u001b[38;5;28;01mif\u001b[39;00m source\u001b[38;5;241m.\u001b[39mnext \u001b[38;5;129;01mis\u001b[39;00m \u001b[38;5;129;01mnot\u001b[39;00m \u001b[38;5;28;01mNone\u001b[39;00m:\n",
      "File \u001b[0;32m/opt/homebrew/Cellar/python@3.11/3.11.1/Frameworks/Python.framework/Versions/3.11/lib/python3.11/re/_parser.py:455\u001b[0m, in \u001b[0;36m_parse_sub\u001b[0;34m(source, state, verbose, nested)\u001b[0m\n\u001b[1;32m    453\u001b[0m start \u001b[38;5;241m=\u001b[39m source\u001b[38;5;241m.\u001b[39mtell()\n\u001b[1;32m    454\u001b[0m \u001b[38;5;28;01mwhile\u001b[39;00m \u001b[38;5;28;01mTrue\u001b[39;00m:\n\u001b[0;32m--> 455\u001b[0m     itemsappend(\u001b[43m_parse\u001b[49m\u001b[43m(\u001b[49m\u001b[43msource\u001b[49m\u001b[43m,\u001b[49m\u001b[43m \u001b[49m\u001b[43mstate\u001b[49m\u001b[43m,\u001b[49m\u001b[43m \u001b[49m\u001b[43mverbose\u001b[49m\u001b[43m,\u001b[49m\u001b[43m \u001b[49m\u001b[43mnested\u001b[49m\u001b[43m \u001b[49m\u001b[38;5;241;43m+\u001b[39;49m\u001b[43m \u001b[49m\u001b[38;5;241;43m1\u001b[39;49m\u001b[43m,\u001b[49m\n\u001b[1;32m    456\u001b[0m \u001b[43m                       \u001b[49m\u001b[38;5;129;43;01mnot\u001b[39;49;00m\u001b[43m \u001b[49m\u001b[43mnested\u001b[49m\u001b[43m \u001b[49m\u001b[38;5;129;43;01mand\u001b[39;49;00m\u001b[43m \u001b[49m\u001b[38;5;129;43;01mnot\u001b[39;49;00m\u001b[43m \u001b[49m\u001b[43mitems\u001b[49m\u001b[43m)\u001b[49m)\n\u001b[1;32m    457\u001b[0m     \u001b[38;5;28;01mif\u001b[39;00m \u001b[38;5;129;01mnot\u001b[39;00m sourcematch(\u001b[38;5;124m\"\u001b[39m\u001b[38;5;124m|\u001b[39m\u001b[38;5;124m\"\u001b[39m):\n\u001b[1;32m    458\u001b[0m         \u001b[38;5;28;01mbreak\u001b[39;00m\n",
      "File \u001b[0;32m/opt/homebrew/Cellar/python@3.11/3.11.1/Frameworks/Python.framework/Versions/3.11/lib/python3.11/re/_parser.py:563\u001b[0m, in \u001b[0;36m_parse\u001b[0;34m(source, state, verbose, nested, first)\u001b[0m\n\u001b[1;32m    561\u001b[0m this \u001b[38;5;241m=\u001b[39m sourceget()\n\u001b[1;32m    562\u001b[0m \u001b[38;5;28;01mif\u001b[39;00m this \u001b[38;5;129;01mis\u001b[39;00m \u001b[38;5;28;01mNone\u001b[39;00m:\n\u001b[0;32m--> 563\u001b[0m     \u001b[38;5;28;01mraise\u001b[39;00m source\u001b[38;5;241m.\u001b[39merror(\u001b[38;5;124m\"\u001b[39m\u001b[38;5;124munterminated character set\u001b[39m\u001b[38;5;124m\"\u001b[39m,\n\u001b[1;32m    564\u001b[0m                        source\u001b[38;5;241m.\u001b[39mtell() \u001b[38;5;241m-\u001b[39m here)\n\u001b[1;32m    565\u001b[0m \u001b[38;5;28;01mif\u001b[39;00m this \u001b[38;5;241m==\u001b[39m \u001b[38;5;124m\"\u001b[39m\u001b[38;5;124m]\u001b[39m\u001b[38;5;124m\"\u001b[39m \u001b[38;5;129;01mand\u001b[39;00m \u001b[38;5;28mset\u001b[39m:\n\u001b[1;32m    566\u001b[0m     \u001b[38;5;28;01mbreak\u001b[39;00m\n",
      "\u001b[0;31merror\u001b[0m: unterminated character set at position 0"
     ]
    }
   ],
   "source": [
    "re_show(r'[\\s\\\\]',t)"
   ]
  },
  {
   "cell_type": "markdown",
   "metadata": {},
   "source": [
    "Le métacaractère \".\" matche tout sauf le saut de ligne. \n",
    "\n",
    "Il existe un mode <tt>re.DOTALL</tt> où il matche tout caractère.\n",
    "\n",
    "Le \"?\" matche 0 ou 1 fois.\n",
    "\n",
    "L'étoile `<regexp>*` signifie 0 ou plusieurs fois `<regexp>`.\n",
    "\n",
    "Le plus `<regexp>+` signifie 1 ou plusieurs fois `<regexp>`.\n",
    "\n",
    "Les accolades `<regexp>{m,n}` signifient au moins $m$ fois\n",
    "et au plus $n$ fois (`<regexp>{n}`  pour exactement $n$ fois).\n"
   ]
  },
  {
   "cell_type": "code",
   "execution_count": 42,
   "metadata": {},
   "outputs": [
    {
     "name": "stdout",
     "output_type": "stream",
     "text": [
      "{}b{oo}g{}i{}e{}-{}w{oo}g{}i{}e{} \n",
      "\n"
     ]
    }
   ],
   "source": [
    "re_show(r'o*', 'boogie-woogie')"
   ]
  },
  {
   "cell_type": "code",
   "execution_count": 43,
   "metadata": {},
   "outputs": [
    {
     "name": "stdout",
     "output_type": "stream",
     "text": [
      "b{oo}gie-w{oo}gie \n",
      "\n"
     ]
    }
   ],
   "source": [
    "re_show(r'o+', 'boogie-woogie')"
   ]
  },
  {
   "cell_type": "code",
   "execution_count": 44,
   "metadata": {},
   "outputs": [
    {
     "name": "stdout",
     "output_type": "stream",
     "text": [
      "oh b{oo}gie-w{oo}gie w{ooo}f w{oooo}f w{oooo}of \n",
      "\n"
     ]
    }
   ],
   "source": [
    "re_show(r'o{2,4}', 'oh boogie-woogie wooof woooof wooooof')"
   ]
  },
  {
   "cell_type": "markdown",
   "metadata": {},
   "source": [
    "La barre verticale `<R1>|<R2>` matche `<R1>` ou `<R2>`. On peut\n",
    "mettre une expression entre parenthèses pour lui appliquer un\n",
    "opérateur comme $*$ ou $+$"
   ]
  },
  {
   "cell_type": "code",
   "execution_count": 45,
   "metadata": {},
   "outputs": [
    {
     "name": "stdout",
     "output_type": "stream",
     "text": [
      "{baaababaaaba}b{baaba}bb{babaabaa}bb{baaaababa} \n",
      "\n"
     ]
    }
   ],
   "source": [
    "s = 'baaababaaababbaababbbabaabaabbbaaaababa'\n",
    "re_show(r'(a|ba)+',s)"
   ]
  },
  {
   "cell_type": "markdown",
   "metadata": {},
   "source": [
    "Les parenthèses servent aussi à indiquer des *groupes*\n",
    "(voir plus loin).\n",
    "\n",
    "<tt>^</tt> et <tt>\\$</tt> marquent respectivement le début et la fin d'une ligne."
   ]
  },
  {
   "cell_type": "code",
   "execution_count": 46,
   "metadata": {},
   "outputs": [
    {
     "name": "stdout",
     "output_type": "stream",
     "text": [
      "ceci \\ est un \\backsla{sh}\n",
      "{m}ais cela \\n n'est pas un \n",
      "{ }saut de ligne \n",
      "\n"
     ]
    }
   ],
   "source": [
    "re_show('^m|sh$|^\\s',t)"
   ]
  },
  {
   "cell_type": "markdown",
   "metadata": {},
   "source": [
    "### Le type <tt>RegexObject</tt>\n",
    "\n",
    "Les expressions régulières, jusqu'ici données sous forme de chaînes,\n",
    "peuvent être *compilées*. Le résultat est une instance de la\n",
    "classe <tt>RegexObject</tt>.\n",
    "\n",
    "Le module <tt>re</tt> exporte des fonctions ayant les mêmes noms\n",
    "que les méthodes des RegexObjects :"
   ]
  },
  {
   "cell_type": "code",
   "execution_count": 47,
   "metadata": {},
   "outputs": [
    {
     "data": {
      "text/plain": [
       "[('baaababaaaba', 'ba'),\n",
       " ('baaba', 'ba'),\n",
       " ('babaabaa', 'a'),\n",
       " ('baaaababa', 'ba')]"
      ]
     },
     "execution_count": 47,
     "metadata": {},
     "output_type": "execute_result"
    }
   ],
   "source": [
    "s='baaababaaababbaababbbabaabaabbbaaaababa'\n",
    "r = re.compile('((a|ba)+)')\n",
    "r.findall(s)"
   ]
  },
  {
   "cell_type": "markdown",
   "metadata": {},
   "source": [
    "A cause des deux paires de parenthèses, <tt>findall</tt> voit\n",
    "deux groupes, et retourne une liste de couples. \n",
    "\n",
    "Pour n'avoir que ce qu'on veut, on peut utiliser un groupe *non-capturant*"
   ]
  },
  {
   "cell_type": "code",
   "execution_count": 48,
   "metadata": {},
   "outputs": [
    {
     "data": {
      "text/plain": [
       "['baaababaaaba', 'baaba', 'babaabaa', 'baaaababa']"
      ]
     },
     "execution_count": 48,
     "metadata": {},
     "output_type": "execute_result"
    }
   ],
   "source": [
    "r = re.compile('(?:a|ba)+') # noter le ?: au début de la parenthèse interne\n",
    "r.findall(s)"
   ]
  },
  {
   "cell_type": "markdown",
   "metadata": {},
   "source": [
    "Les méthodes <tt>r.match</tt> (matche au début de la chaîne)\n",
    "et <tt>r.search</tt>\n",
    "(matche n'importe où dans la chaîne)\n",
    "retournent un <tt>MatchObject</tt> ou <tt>None</tt>.\n",
    "\n",
    "La méthode <tt>r.findall</tt> trouve toutes les occurences (non recouvrantes)\n",
    "de l'expression et retourne une liste.  <tt>r.finditer</tt> retourne un\n",
    "itérateur.\n",
    "\n",
    "<tt>r.split</tt> casse la chaîne selon les occurences de <tt>r</tt>.\n",
    "\n",
    "\n",
    "\n",
    "<tt>r.sub</tt>  et <tt>r.subn</tt> remplacent les occurences de <tt>r</tt> par une chaîne\n",
    "fixée, ou leur appliquent une fonction.\n"
   ]
  },
  {
   "cell_type": "code",
   "execution_count": 49,
   "metadata": {},
   "outputs": [
    {
     "name": "stdout",
     "output_type": "stream",
     "text": [
      "['ceci', '', '', 'est', 'un', '', 'backslash', 'mais', 'cela', '', 'n', \"n'est\", 'pas', 'un', '', '', 'saut', 'de', 'ligne']\n"
     ]
    }
   ],
   "source": [
    "print (re.split(r'\\s|\\\\',t))"
   ]
  },
  {
   "cell_type": "code",
   "execution_count": 50,
   "metadata": {},
   "outputs": [
    {
     "data": {
      "text/plain": [
       "\"ceci   est un  backslash mais cela  n n'est pas un saut de ligne\""
      ]
     },
     "execution_count": 50,
     "metadata": {},
     "output_type": "execute_result"
    }
   ],
   "source": [
    "re.sub(r'\\s+|\\\\', ' ',t)"
   ]
  },
  {
   "cell_type": "markdown",
   "metadata": {},
   "source": [
    "### Le type <tt>MatchObject</tt>\n",
    "\n",
    "Les méthodes les plus importantes d'un <tt>MatchObject m</tt> sont :\n",
    "\n",
    "\n",
    "- <tt> m.group()</tt> ou  <tt>m.group(0)</tt> retourne la chaîne matchée\n",
    "- <tt> m.start()</tt> retourne la position de départ du match\n",
    "- <tt> m.end()</tt> retourne la position de la fin du match\n",
    "- <tt> m.span()</tt> retourne un couple <tt>(start, end)</tt>\n",
    "- <tt> m.groups()</tt> : une expression peut comporter des *groupes*,\n",
    "délimités par des parenthèses ..."
   ]
  },
  {
   "cell_type": "code",
   "execution_count": 51,
   "metadata": {},
   "outputs": [
    {
     "name": "stdout",
     "output_type": "stream",
     "text": [
      "baaababaaaba\n",
      "(0, 12)\n"
     ]
    }
   ],
   "source": [
    "s='baaababaaababbaababbbabaabaabbbaaaababa'\n",
    "p = re.compile('((a|ba)+)')\n",
    "m = p.match(s)\n",
    "print (m.group())\n",
    "print (m.span())"
   ]
  },
  {
   "cell_type": "code",
   "execution_count": 52,
   "metadata": {},
   "outputs": [
    {
     "data": {
      "text/plain": [
       "<_sre.SRE_Match object; span=(0, 12), match='baaababaaaba'>"
      ]
     },
     "execution_count": 52,
     "metadata": {},
     "output_type": "execute_result"
    }
   ],
   "source": [
    "m"
   ]
  },
  {
   "cell_type": "code",
   "execution_count": 53,
   "metadata": {},
   "outputs": [
    {
     "data": {
      "text/plain": [
       "'............b.....bb........bb.........'"
      ]
     },
     "execution_count": 53,
     "metadata": {},
     "output_type": "execute_result"
    }
   ],
   "source": [
    "p.sub(lambda x:'.'*len(x.group(0)),s)"
   ]
  },
  {
   "cell_type": "code",
   "execution_count": 54,
   "metadata": {},
   "outputs": [
    {
     "data": {
      "text/plain": [
       "('abc', 'b', 'e')"
      ]
     },
     "execution_count": 54,
     "metadata": {},
     "output_type": "execute_result"
    }
   ],
   "source": [
    "p = re.compile('(a(b)c)d(e)') # groupes emboîtés\n",
    "m = p.match('abcde')\n",
    "m.groups()\n",
    "('abc', 'b', 'e')"
   ]
  },
  {
   "cell_type": "code",
   "execution_count": 55,
   "metadata": {},
   "outputs": [
    {
     "name": "stdout",
     "output_type": "stream",
     "text": [
      "abcde\n",
      "abc\n",
      "b\n",
      "e\n"
     ]
    }
   ],
   "source": [
    "print (m.group(0))\n",
    "print (m.group(1))\n",
    "print (m.group(2))\n",
    "print (m.group(3))"
   ]
  },
  {
   "cell_type": "markdown",
   "metadata": {},
   "source": [
    "### Groupes non capturants\n",
    "\n",
    "Évitent que les parenthèses (obligatoires pour encadrer le +)\n",
    "ne soient interprétées comme un groupe devant capturer la première\n",
    "occurence d'une des lettres <tt>i,j,a,b,c</tt> :"
   ]
  },
  {
   "cell_type": "code",
   "execution_count": 56,
   "metadata": {},
   "outputs": [
    {
     "name": "stdout",
     "output_type": "stream",
     "text": [
      "('c',)\n",
      "aabbjjiijc\n",
      "c\n"
     ]
    }
   ],
   "source": [
    "m = re.match('([ij]|[abc])+','aabbjjiijcxabb')\n",
    "print (m.groups())\n",
    "print (m.group(0))\n",
    "print (m.group(1))"
   ]
  },
  {
   "cell_type": "code",
   "execution_count": 57,
   "metadata": {},
   "outputs": [
    {
     "name": "stdout",
     "output_type": "stream",
     "text": [
      "aabbc\n"
     ]
    },
    {
     "data": {
      "text/plain": [
       "()"
      ]
     },
     "execution_count": 57,
     "metadata": {},
     "output_type": "execute_result"
    }
   ],
   "source": [
    "m = re.match('(?:[ij]|[abc])+','aabbcxabb')\n",
    "\n",
    "print (m.group(0))\n",
    "m.groups()"
   ]
  },
  {
   "cell_type": "markdown",
   "metadata": {},
   "source": [
    "Les groupes peuvent être nommés en utilisant\n",
    "la syntaxe \n",
    "$\\tt(?P<name>...)$\n"
   ]
  },
  {
   "cell_type": "code",
   "execution_count": 58,
   "metadata": {},
   "outputs": [
    {
     "data": {
      "text/plain": [
       "('cousin', 'dimanche')"
      ]
     },
     "execution_count": 58,
     "metadata": {},
     "output_type": "execute_result"
    }
   ],
   "source": [
    "s=\"le cheval de mon cousin ne mange du foin que le dimanche\"\n",
    "p = re.compile(r'(\\b\\w*in\\b).*(\\bd\\w*e\\b)')\n",
    "m = p.search(s)\n",
    "\n",
    "m.groups()"
   ]
  },
  {
   "cell_type": "code",
   "execution_count": 59,
   "metadata": {},
   "outputs": [
    {
     "data": {
      "text/plain": [
       "'dimanche'"
      ]
     },
     "execution_count": 59,
     "metadata": {},
     "output_type": "execute_result"
    }
   ],
   "source": [
    "p = re.compile(r'(?P<qui>\\b\\w*in\\b).*(?P<quand>\\bd\\w*e\\b)')\n",
    "m = p.search(s)\n",
    "m.group('quand')"
   ]
  },
  {
   "cell_type": "markdown",
   "metadata": {},
   "source": [
    "### Application d'une fonction aux groupes\n",
    "\n",
    "Syntaxe : <tt>r.sub(f, s, count=0)</tt>\n",
    "\n",
    "où <tt>f</tt> accepte comme argument un MatchObject et retourne\n",
    "la chaîne à utiliser en remplacement du match. "
   ]
  },
  {
   "cell_type": "code",
   "execution_count": 60,
   "metadata": {},
   "outputs": [
    {
     "name": "stdout",
     "output_type": "stream",
     "text": [
      "['Mon beau cours de python']\n",
      "<html>\n",
      "      <body>\n",
      "      <h1>Mon Beau Cours De Python</h1>\n",
      "      <H2>Blabla</H2> et ri et\n",
      "ra  patati et patata\n",
      "</body>\n",
      "</html>\n"
     ]
    }
   ],
   "source": [
    "s='''<html>\n",
    "      <body>\n",
    "      <H1>Mon beau cours de python</H1>\n",
    "      <H2>Blabla</H2> et ri et\n",
    "ra  patati et patata\n",
    "</body>\n",
    "</html>'''\n",
    "\n",
    "def capitalize(m):\n",
    "    return '<h1>'+ ' '.join([w.capitalize() for w in m.group(1).split()])+'</h1>'\n",
    "\n",
    "p=re.compile(r'<h1>(.*?)</h1>', re.I|re.M)\n",
    "\n",
    "print (re.findall(p,s))\n",
    "print (p.sub(capitalize,s))"
   ]
  },
  {
   "cell_type": "markdown",
   "metadata": {},
   "source": [
    "On peut utiliser cette technique pour l'exercice 3 du TD 2 : "
   ]
  },
  {
   "cell_type": "code",
   "execution_count": 61,
   "metadata": {
    "collapsed": true
   },
   "outputs": [],
   "source": [
    "import random, re\n",
    "\n",
    "p = re.compile('(\\w)(\\w\\w+)(\\w)', re.M) # reconnaît les mots d'au moins 4 lettres\n",
    "\n",
    "def touille(m):                         # m est un match object, m.group(2) est le contenu de (\\w\\w+)\n",
    "    milieu = list(m.group(2))           # donc le milieu de la chaîne matchée, qu'il faut convertir en\n",
    "    random.shuffle(milieu)              # liste et nommer pour la mélanger en place\n",
    "    return m.group(1) + ''.join(milieu) + m.group(3) # on remet la première et la dernière lettre en place\n",
    "\n",
    "\n",
    "def blurr(s):\n",
    "    return p.sub(touille,s)\n"
   ]
  },
  {
   "cell_type": "code",
   "execution_count": 62,
   "metadata": {},
   "outputs": [
    {
     "data": {
      "text/plain": [
       "'Il est plus faicle de se lvear les dtens dnas un verre à pied que de se leavr les pides dnas un verre à dtnes'"
      ]
     },
     "execution_count": 62,
     "metadata": {},
     "output_type": "execute_result"
    }
   ],
   "source": [
    "blurr('Il est plus facile de se laver les dents dans un verre à pied que de se laver les pieds dans un verre à dents')"
   ]
  },
  {
   "cell_type": "markdown",
   "metadata": {},
   "source": [
    "### Glouton, ou pas ?\n",
    "\n",
    "Les opérateurs *non-gloutons*  <tt>*?, +?, ??</tt>, ou <tt>{m,n}?</tt>, matchent aussi peu\n",
    "de texte que possible \n"
   ]
  },
  {
   "cell_type": "code",
   "execution_count": 63,
   "metadata": {},
   "outputs": [
    {
     "name": "stdout",
     "output_type": "stream",
     "text": [
      "<html><head><title>Title</title>\n"
     ]
    }
   ],
   "source": [
    "s = '<html><head><title>Title</title>'\n",
    "print (re.match('<.*>', s).group())"
   ]
  },
  {
   "cell_type": "code",
   "execution_count": 64,
   "metadata": {},
   "outputs": [
    {
     "name": "stdout",
     "output_type": "stream",
     "text": [
      "<html>\n"
     ]
    }
   ],
   "source": [
    "print (re.match('<.*?>', s).group())"
   ]
  },
  {
   "cell_type": "markdown",
   "metadata": {},
   "source": [
    "### Options de compilation\n",
    "\n",
    "-  <tt> I</tt> ou <tt> IGNORECASE</tt> : insensible à la casse\n",
    "-  <tt> L</tt> ou <tt> LOCALE</tt> : rend <tt>\\w, \\W, \\b, \\B</tt> dépendants de ce que\n",
    "la <tt> locale</tt> courante considère comme alphanumérique\n",
    "-  <tt> M</tt> ou <tt> MULTILINE</tt> : <tt>^, $</tt> matchent le début et la fin de chaque ligne,\n",
    "en plus du début et de la fin de la chaîne\n",
    "-  <tt> S</tt> ou <tt> DOTALL</tt> : le point . matche un saut de ligne\n",
    "-  <tt> U</tt> ou <tt> UNICODE</tt> : rend <tt>\\w, \\W, \\b, \\B</tt> dépendants de ce qu'Unicode \n",
    "considère comme alphanumérique\n",
    "-  <tt> X</tt> ou <tt> VERBOSE</tt> : les espaces blancs sont ignorés et <tt>#</tt> est interprété\n",
    "comme le début d'un commentaire\n",
    "\n"
   ]
  },
  {
   "cell_type": "markdown",
   "metadata": {},
   "source": [
    "### Mode verbeux\n",
    "\n",
    "Les options de compilation sont aussi utilisables avec les\n",
    "chaînes (syntaxe <tt>(?iLmsux)</tt>). En mode verbeux, les espaces\n",
    "sont ignorés et # signale un commentaire :\n"
   ]
  },
  {
   "cell_type": "code",
   "execution_count": 65,
   "metadata": {
    "collapsed": true
   },
   "outputs": [],
   "source": [
    "pat_url = re.compile(  r'''(?x) # flag à mettre au début depuis 3.6\n",
    "                   ( # verbose identify URLs within text\n",
    "   (http|ftp|gopher) # make sure we find a resource type\n",
    "                 :// # needs to be followed by ://\n",
    "      (\\w+[:.]?){2,} # at least two domain groups: (gouv.)(fr)\n",
    "                (/?| # just the domain name (maybe no /)\n",
    "          [^ \\n\\r\"]+ # or stuff then space, newline, tab, quote\n",
    "              [\\w/]) # resource name ends in alphanumeric or /\n",
    "   (?=[\\s\\.,>)'\"\\]]) # assert: followed by white or clause ending\n",
    "                   ) # end of match group''')"
   ]
  },
  {
   "cell_type": "code",
   "execution_count": null,
   "metadata": {
    "collapsed": true
   },
   "outputs": [],
   "source": []
  },
  {
   "cell_type": "code",
   "execution_count": null,
   "metadata": {
    "collapsed": true
   },
   "outputs": [],
   "source": []
  }
 ],
 "metadata": {
  "kernelspec": {
   "display_name": "Python 3 (ipykernel)",
   "language": "python",
   "name": "python3"
  },
  "language_info": {
   "codemirror_mode": {
    "name": "ipython",
    "version": 3
   },
   "file_extension": ".py",
   "mimetype": "text/x-python",
   "name": "python",
   "nbconvert_exporter": "python",
   "pygments_lexer": "ipython3",
   "version": "3.11.1"
  }
 },
 "nbformat": 4,
 "nbformat_minor": 2
}
