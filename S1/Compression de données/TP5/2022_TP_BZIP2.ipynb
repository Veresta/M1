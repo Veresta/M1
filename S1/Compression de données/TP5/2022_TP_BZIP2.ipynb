{
 "cells": [
  {
   "cell_type": "markdown",
   "metadata": {},
   "source": [
    "# Bzip2\n",
    "\n",
    "## 0. Préparation : fichier en binaire\n",
    "\n",
    "En Python on peut facilement ouvrir un fichier en binaire, en précisant `'rb'` comme mode d'ouverture :"
   ]
  },
  {
   "cell_type": "code",
   "execution_count": 9,
   "metadata": {},
   "outputs": [],
   "source": [
    "with open('../TP4/etranger.txt','rb') as f:\n",
    "    letters = f.read()"
   ]
  },
  {
   "cell_type": "markdown",
   "metadata": {},
   "source": [
    "Le résultat `listwords` est de type `bytes` = une séquence d'octets.  Chaque octet est lui-même un entier compris entre 0 et 255."
   ]
  },
  {
   "cell_type": "code",
   "execution_count": 10,
   "metadata": {},
   "outputs": [
    {
     "name": "stdout",
     "output_type": "stream",
     "text": [
      "<class 'bytes'>\n",
      "<class 'int'>\n"
     ]
    }
   ],
   "source": [
    "print(type(letters))\n",
    "print(type(letters[0]))"
   ]
  },
  {
   "cell_type": "markdown",
   "metadata": {},
   "source": [
    "Le type `bytes` est itérable, mais si vous préférez travailler avec les listes avec lesquelles vous êtres plus familiers, vous pouvez convertir en liste avec la fonction `list()`"
   ]
  },
  {
   "cell_type": "code",
   "execution_count": 11,
   "metadata": {},
   "outputs": [
    {
     "name": "stdout",
     "output_type": "stream",
     "text": [
      "b'Alber'\n",
      "[65, 108, 98, 101, 114]\n"
     ]
    }
   ],
   "source": [
    "listLetters = list(letters)\n",
    "print(letters[:5])\n",
    "print(listLetters[:5])"
   ]
  },
  {
   "cell_type": "markdown",
   "metadata": {},
   "source": [
    "**Important :** dans toutes la suite on travaillera *par défaut* sur l'alphabet contenant tous les octets. Pour tester sur des exemples (ceux du cours ou du TD), il peut néanmoins être utile de mettre les mots sur des alphabets habituels ; on pourra utiliser les fonctions de transformation (on considère que le caractère # utilisé dans BWT est encodé -1 comme ça elle sera directement inférieures à toutes les autres):"
   ]
  },
  {
   "cell_type": "code",
   "execution_count": 12,
   "metadata": {},
   "outputs": [
    {
     "name": "stdout",
     "output_type": "stream",
     "text": [
      "[97, 98, 97, 98, 97, 97, 99, -1, 97]\n",
      "True\n"
     ]
    }
   ],
   "source": [
    "def strToOctets(word):\n",
    "    return [ord(x) if x != '#' else -1 for x in word]\n",
    "\n",
    "def octetsToStr(listOctets):\n",
    "    return \"\".join([chr(x) if x != -1 else '#' for x in listOctets])\n",
    "\n",
    "word = \"ababaac#a\"\n",
    "octets = strToOctets(word)\n",
    "print(octets)\n",
    "print(octetsToStr(octets) == word)"
   ]
  },
  {
   "cell_type": "markdown",
   "metadata": {},
   "source": [
    "## 1. Transformée de Burrows-Wheeler (BWT)\n",
    "\n",
    "Dans cette première partie, on s'intéresse à la transformée de Burrows-Wheeler d'un mot.\n",
    "\n",
    "Ecrire la fonction `ordered_suff(u)` qui calcule la table des suffixe d'un mot d'octets `u` qui se termine par `-1`: si `S = ordered_suff(u)` alors\n",
    "`S` est de longueur `n=len(u)`, contient tous les entiers entre `0` et `len(u)-1` et on a\n",
    "$$\n",
    "u[S[0]:\\ ] < u[S[1]:\\ ] < u[S[2]:\\ ] < \\ldots < u[S[n-1]:\\ ]\n",
    "$$\n",
    "\n",
    "Par exemple : si `u=[1,2,2,1,-1]` on a `S=[4,3,0,2,1]` car le plus petit suffixe de `u` est celui qui commence en à l'indice `4`, puis celui commençant à l'indice `3`, etc\n"
   ]
  },
  {
   "cell_type": "code",
   "execution_count": 13,
   "metadata": {},
   "outputs": [
    {
     "name": "stdout",
     "output_type": "stream",
     "text": [
      "[4, 3, 0, 2, 1]\n"
     ]
    }
   ],
   "source": [
    "import functools\n",
    "\n",
    "def comp(u,i,j):\n",
    "    k = 0\n",
    "    while u[i+k] == u[j+k]:\n",
    "        k+=1\n",
    "    return u[i+k] - u[j+k]\n",
    "\n",
    "def ordered_stuff(u):\n",
    "    res = list(range(len(u)))\n",
    "    return sorted(res, key=functools.cmp_to_key(lambda x, y: comp(u, x, y)))\n",
    "\n",
    "u = [1, 2, 2, 1, -1]\n",
    "print(ordered_stuff(u))"
   ]
  },
  {
   "cell_type": "markdown",
   "metadata": {},
   "source": [
    "**Attention :** il est possible que votre tri soit très lent si vous vous y prenez mal. Si cela prend plus de 5 secondes sur le fichier  `etranger.txt` changez de façon de procéder."
   ]
  },
  {
   "cell_type": "code",
   "execution_count": 14,
   "metadata": {},
   "outputs": [
    {
     "name": "stdout",
     "output_type": "stream",
     "text": [
      "temps =  1.108100175857544\n"
     ]
    }
   ],
   "source": [
    "with open('../TP4/etranger.txt','rb') as f:\n",
    "    letters = list(f.read())\n",
    "\n",
    "from time import time\n",
    "letters.append(-1)\n",
    "t1 = time()\n",
    "v = ordered_stuff(letters)\n",
    "print(\"temps = \", time() - t1)"
   ]
  },
  {
   "cell_type": "markdown",
   "metadata": {},
   "source": [
    "Comme on a vu en cours, si on a les suffixes dans l'ordre, il suffit de prendre à chaque fois la lettre d'avant pour constituer la transformée de Burrow-Wheeler. Utilisez cette propriété pour encoder `bwt(u)` où `u` est un mot d'octets : on commence par ajouter un `-1` à la fin de `u`, puis on calcule `ordered_suff` sur le résultat, et on en déduit la transformée.\n",
    "\n",
    "Pour `u = [1,2,0,1,1]` on doit trouver `bwt(u) = [1, 2, 1, 0, -1, 1]`"
   ]
  },
  {
   "cell_type": "code",
   "execution_count": 27,
   "metadata": {},
   "outputs": [
    {
     "name": "stdout",
     "output_type": "stream",
     "text": [
      "[1, 2, 1, 0, -1, 1]\n"
     ]
    }
   ],
   "source": [
    "def bwt(u):\n",
    "    tmp = list(u) + [-1]\n",
    "    ordered = ordered_stuff(tmp)\n",
    "    return [tmp[ordered[i]-1] for i in range(len(ordered))]\n",
    "    \n",
    "\n",
    "\n",
    "    \n",
    "u=[1,2,0,1,1]\n",
    "print(bwt(u))"
   ]
  },
  {
   "cell_type": "markdown",
   "metadata": {},
   "source": [
    "Essayez sur l'étranger avec le script ci-dessous"
   ]
  },
  {
   "cell_type": "code",
   "execution_count": 44,
   "metadata": {},
   "outputs": [
    {
     "name": "stdout",
     "output_type": "stream",
     "text": [
      "temps 1.1832551956176758\n",
      "[10, 10, 10, 32, 32, 32, 32, 32, 32, 32, 32, 32, 32, 32, 32, 32, 32, 32, 32, 32, 32, 32, 32, 32, 32, 32, 32, 32, 32, 32, 32, 32, 32, 32, 32, 32, 32, 32, 32, 32, 45, 45, 32, 32, 32, 32, 32, 32, 32, 32, 32, 32, 32, 32, 45, 32, 32, 32, 32, 32, 45, 32, 45, 32, 45, 45, 32, 32, 32, 32, 45, 45, 32, 32, 45, 45, 32, 32, 32, 32, 45, 32, 32, 32, 32, 45, 32, 32, 45, 45, 45, 32, 32, 32, 32, 32, 32, 32, 32, 32]\n"
     ]
    }
   ],
   "source": [
    "with open('../TP4/etranger.txt','rb') as f:\n",
    "    letters = list(f.read())\n",
    "\n",
    "from time import time\n",
    "t1 = time()\n",
    "v = bwt(letters)\n",
    "print(\"temps\",time() - t1)\n",
    "print(v[:100])"
   ]
  },
  {
   "cell_type": "markdown",
   "metadata": {},
   "source": [
    "Encodez la fonction `un_bwt(v)` qui calcule la transformée de BW inverse d'un mot d'octets. On doit avoir `un_bwt(bwt(u)) == u`. Pour cela, on calculera la fonction `phi` comme présenté dans la feuille de TD, puis on l'utilisera comme vu en cours."
   ]
  },
  {
   "cell_type": "code",
   "execution_count": 4,
   "metadata": {},
   "outputs": [
    {
     "name": "stdout",
     "output_type": "stream",
     "text": [
      "[(2, 1), (2, 2), (1, 1), (1, 2)]\n"
     ]
    }
   ],
   "source": [
    "def compute_phi(v):\n",
    "    tmp = dict()\n",
    "    res = list()\n",
    "    for elem in v:\n",
    "        if elem not in tmp.keys():\n",
    "            tmp[elem] = 1\n",
    "        else:\n",
    "            value = tmp.pop(elem)\n",
    "            res.append((elem, value))\n",
    "            res.append((elem, value+1))\n",
    "    res + list(tmp.keys())\n",
    "    print(res)\n",
    "\n",
    "def un_bwt(v):\n",
    "    ...\n",
    "\n",
    "v = [3,-1,2,2,1,1,1]\n",
    "compute_phi(v)"
   ]
  },
  {
   "cell_type": "markdown",
   "metadata": {},
   "source": [
    "Testez avec les scripts suivants"
   ]
  },
  {
   "cell_type": "code",
   "execution_count": 29,
   "metadata": {},
   "outputs": [
    {
     "name": "stdout",
     "output_type": "stream",
     "text": [
      "[1, 1, 1, 1, 2, -1, 0, 2, 0]\n",
      "False\n"
     ]
    }
   ],
   "source": [
    "u = [1,0,2,2,1,0,1,1]\n",
    "print(bwt(u))\n",
    "print(un_bwt(bwt(u)) == u)"
   ]
  },
  {
   "cell_type": "code",
   "execution_count": 30,
   "metadata": {},
   "outputs": [
    {
     "ename": "FileNotFoundError",
     "evalue": "[Errno 2] No such file or directory: 'etranger.txt'",
     "output_type": "error",
     "traceback": [
      "\u001b[0;31m---------------------------------------------------------------------------\u001b[0m",
      "\u001b[0;31mFileNotFoundError\u001b[0m                         Traceback (most recent call last)",
      "Cell \u001b[0;32mIn [30], line 1\u001b[0m\n\u001b[0;32m----> 1\u001b[0m \u001b[38;5;28;01mwith\u001b[39;00m \u001b[38;5;28;43mopen\u001b[39;49m\u001b[43m(\u001b[49m\u001b[38;5;124;43m'\u001b[39;49m\u001b[38;5;124;43metranger.txt\u001b[39;49m\u001b[38;5;124;43m'\u001b[39;49m\u001b[43m,\u001b[49m\u001b[38;5;124;43m'\u001b[39;49m\u001b[38;5;124;43mrb\u001b[39;49m\u001b[38;5;124;43m'\u001b[39;49m\u001b[43m)\u001b[49m \u001b[38;5;28;01mas\u001b[39;00m f:\n\u001b[1;32m      2\u001b[0m     letters \u001b[38;5;241m=\u001b[39m \u001b[38;5;28mlist\u001b[39m(f\u001b[38;5;241m.\u001b[39mread())\n\u001b[1;32m      4\u001b[0m \u001b[38;5;28mprint\u001b[39m(un_bwt(bwt(letters)) \u001b[38;5;241m==\u001b[39m letters)\n",
      "File \u001b[0;32m~/Library/Python/3.10/lib/python/site-packages/IPython/core/interactiveshell.py:282\u001b[0m, in \u001b[0;36m_modified_open\u001b[0;34m(file, *args, **kwargs)\u001b[0m\n\u001b[1;32m    275\u001b[0m \u001b[39mif\u001b[39;00m file \u001b[39min\u001b[39;00m {\u001b[39m0\u001b[39m, \u001b[39m1\u001b[39m, \u001b[39m2\u001b[39m}:\n\u001b[1;32m    276\u001b[0m     \u001b[39mraise\u001b[39;00m \u001b[39mValueError\u001b[39;00m(\n\u001b[1;32m    277\u001b[0m         \u001b[39mf\u001b[39m\u001b[39m\"\u001b[39m\u001b[39mIPython won\u001b[39m\u001b[39m'\u001b[39m\u001b[39mt let you open fd=\u001b[39m\u001b[39m{\u001b[39;00mfile\u001b[39m}\u001b[39;00m\u001b[39m by default \u001b[39m\u001b[39m\"\u001b[39m\n\u001b[1;32m    278\u001b[0m         \u001b[39m\"\u001b[39m\u001b[39mas it is likely to crash IPython. If you know what you are doing, \u001b[39m\u001b[39m\"\u001b[39m\n\u001b[1;32m    279\u001b[0m         \u001b[39m\"\u001b[39m\u001b[39myou can use builtins\u001b[39m\u001b[39m'\u001b[39m\u001b[39m open.\u001b[39m\u001b[39m\"\u001b[39m\n\u001b[1;32m    280\u001b[0m     )\n\u001b[0;32m--> 282\u001b[0m \u001b[39mreturn\u001b[39;00m io_open(file, \u001b[39m*\u001b[39;49margs, \u001b[39m*\u001b[39;49m\u001b[39m*\u001b[39;49mkwargs)\n",
      "\u001b[0;31mFileNotFoundError\u001b[0m: [Errno 2] No such file or directory: 'etranger.txt'"
     ]
    }
   ],
   "source": [
    "with open('etranger.txt','rb') as f:\n",
    "    letters = list(f.read())\n",
    "\n",
    "print(un_bwt(bwt(letters)) == letters)"
   ]
  },
  {
   "cell_type": "markdown",
   "metadata": {},
   "source": [
    "## 2. Move to Front (MtF)\n",
    "\n",
    "Pour notre version de Move to Front, on considère que l'alphabet est composé de -1 et des nombres de 0 à 255 :\n",
    "`A = list(range(-1,256))`. Ecrire la fonction `mtf(v)` qui calcule Move to Front pour une suite de nombres de `A`"
   ]
  },
  {
   "cell_type": "code",
   "execution_count": 25,
   "metadata": {},
   "outputs": [
    {
     "name": "stdout",
     "output_type": "stream",
     "text": [
      "True\n"
     ]
    }
   ],
   "source": [
    "def mtf(v):\n",
    "    A = list(range(-1, 256))\n",
    "    res = []\n",
    "    cpt = 0\n",
    "    while cpt < len(v):\n",
    "        val = A.index(v[cpt])\n",
    "        tmp = v[cpt]\n",
    "        A.remove(tmp)\n",
    "        res.append(val)\n",
    "        A.insert(0, tmp)\n",
    "        cpt+=1\n",
    "    return res\n",
    "        \n",
    "\n",
    "# doit retourner True\n",
    "print(mtf([1, 1, 1, 1, 2, -1, 0, 2, 0]) == [2, 0, 0, 0, 3, 2, 3, 2, 1])"
   ]
  },
  {
   "cell_type": "markdown",
   "metadata": {},
   "source": [
    "Essayez-le sur l'`etranger.txt`"
   ]
  },
  {
   "cell_type": "code",
   "execution_count": 26,
   "metadata": {},
   "outputs": [
    {
     "name": "stdout",
     "output_type": "stream",
     "text": [
      "temps 0.06488490104675293\n"
     ]
    }
   ],
   "source": [
    "with open('../TP4/etranger.txt','rb') as f:\n",
    "    letters = list(f.read())\n",
    "\n",
    "v = bwt(letters)\n",
    "from time import time\n",
    "t1 = time()\n",
    "w = mtf(v)\n",
    "print(\"temps\",time()-t1)"
   ]
  },
  {
   "cell_type": "markdown",
   "metadata": {},
   "source": [
    "Implémentez `un_mtf(w)` qui calcule l'inverse de Move to Front"
   ]
  },
  {
   "cell_type": "code",
   "execution_count": 23,
   "metadata": {},
   "outputs": [],
   "source": [
    "def un_mtf(w):\n",
    "    A = list(range(-1, 256))\n",
    "    cpt = 0\n",
    "    res = []\n",
    "    while cpt < len(w):\n",
    "        tmp = A[w[cpt]]\n",
    "        res.append(tmp)\n",
    "        A.remove(tmp)\n",
    "        A.insert(0, tmp)\n",
    "        cpt+=1\n",
    "    return res\n",
    "    "
   ]
  },
  {
   "cell_type": "markdown",
   "metadata": {},
   "source": [
    "Le script ci-dessous doit retourner `True`"
   ]
  },
  {
   "cell_type": "code",
   "execution_count": null,
   "metadata": {},
   "outputs": [
    {
     "name": "stdout",
     "output_type": "stream",
     "text": [
      "True\n"
     ]
    }
   ],
   "source": [
    "print(un_mtf([2, 0, 0, 0, 3, 2, 3, 2, 1]) == [1, 1, 1, 1, 2, -1, 0, 2, 0])"
   ]
  },
  {
   "cell_type": "markdown",
   "metadata": {},
   "source": [
    "### 3. bzip2\n",
    "\n",
    "Implémentez bzip2 et un_bzip2 en utilisant les fonctions sur Huffman des TPs précédents."
   ]
  },
  {
   "cell_type": "code",
   "execution_count": 22,
   "metadata": {},
   "outputs": [],
   "source": [
    "# code pour huffman\n",
    "\n",
    "def count(L):\n",
    "   D = {}\n",
    "   for a in L:\n",
    "       if a not in D:\n",
    "           D[a] = 1\n",
    "       else:\n",
    "           D[a] +=1\n",
    "   return [(v,k) for (k,v) in D.items()]\n",
    "\n",
    "class Heap:\n",
    "   def __init__(self, function= lambda x:x):\n",
    "       self.tab = []\n",
    "       self.f = function\n",
    "   def father(self,i):\n",
    "       if i == 0:\n",
    "           return None\n",
    "       return int((i-1)/2)\n",
    "   def left(self,i):\n",
    "       if 2*i+1 < len(self.tab):\n",
    "           return 2*i+1\n",
    "       return None\n",
    "   def right(self,i):\n",
    "       if 2*i+2 < len(self.tab):\n",
    "           return 2*i+2\n",
    "       return None\n",
    "   def __str__(self):\n",
    "       return str(self.tab)\n",
    "   def add(self,x):\n",
    "       self.tab.append(x)\n",
    "       i = len(self.tab)-1\n",
    "       while i>0 and self.f(self.tab[i]) < self.f(self.tab[self.father(i)]):\n",
    "           self.tab[i], self.tab[self.father(i)] = self.tab[self.father(i)], self.tab[i]\n",
    "           i = self.father(i)\n",
    "   def extract(self):\n",
    "       if len(self.tab) == 1:\n",
    "               return self.tab.pop()\n",
    "       res = self.tab[0]\n",
    "       self.tab[0] = self.tab.pop()\n",
    "       i = 0\n",
    "       while True:\n",
    "           l,r = self.left(i), self.right(i)\n",
    "           vl, vr = self.f(self.tab[i]), self.f(self.tab[i])\n",
    "           if l is not None:\n",
    "               vl = self.f(self.tab[l])\n",
    "           if r is not None:\n",
    "               vr = self.f(self.tab[r])\n",
    "           if self.f(self.tab[i]) <= vr and self.f(self.tab[i]) <= vl:\n",
    "               return res\n",
    "           if vl < vr:\n",
    "               self.tab[i], self.tab[l] = self.tab[l], self.tab[i]\n",
    "               i = l\n",
    "           else:\n",
    "               self.tab[i], self.tab[r] = self.tab[r], self.tab[i]\n",
    "               i = r    \n",
    "\n",
    "def huffmanTree(L):\n",
    "   C = count(L)\n",
    "   H = Heap(lambda x:x[0])\n",
    "   for c in C:\n",
    "       H.add(c)\n",
    "   while len(H.tab)>1:\n",
    "       x1 = H.extract()\n",
    "       x2 = H.extract()\n",
    "       A = (x1[0]+x2[0],x1,x2)\n",
    "       H.add(A)\n",
    "   return H.tab[0]  \n",
    "\n",
    "def huffmanToCode(T,C=None,word=None):\n",
    "   if word is None:\n",
    "       word = []\n",
    "   if C is None:\n",
    "       C = {}\n",
    "   if len(T) == 2: # leaf\n",
    "       C[T[1]] = u\"\".join(word)\n",
    "   else:\n",
    "       word.append('0')\n",
    "       huffmanToCode(T[1],C,word)\n",
    "       word[-1] = '1'\n",
    "       huffmanToCode(T[2],C,word)\n",
    "       word.pop()\n",
    "   return C\n",
    "\n",
    "from math import log\n",
    "\n",
    "def huffmanSize(text):\n",
    "   K = count(text)\n",
    "   T = huffmanTree(text)\n",
    "   C = huffmanToCode(T)\n",
    "   k = len(K)\n",
    "   b = int(log(k+1,2)+1)\n",
    "   return sum([len(C[l])*nb for nb,l in K])+ (b+2)*k -1"
   ]
  },
  {
   "cell_type": "code",
   "execution_count": 41,
   "metadata": {},
   "outputs": [],
   "source": [
    "def bzip2(u):\n",
    "    b = bwt(u)\n",
    "    m = mtf(b)\n",
    "    return huffmanSize(m)\n",
    "    \n",
    "def un_bzip2(v):\n",
    "    ..."
   ]
  },
  {
   "cell_type": "markdown",
   "metadata": {},
   "source": [
    "Calculez le taux de compression obtenu avec votre version de bzip2 sur *l'étranger*"
   ]
  },
  {
   "cell_type": "code",
   "execution_count": 43,
   "metadata": {},
   "outputs": [
    {
     "name": "stdout",
     "output_type": "stream",
     "text": [
      "Taux de compression :  0.31659137131114545\n"
     ]
    }
   ],
   "source": [
    "with open(\"../TP4/etranger.txt\", \"rb\") as file:\n",
    "    letters = list(file.read())\n",
    "    compression = bzip2(letters)\n",
    "\n",
    "    print(\"Taux de compression : \", compression / len(letters) / 8)\n",
    "    "
   ]
  }
 ],
 "metadata": {
  "kernelspec": {
   "display_name": "Python 3.10.6 64-bit",
   "language": "python",
   "name": "python3"
  },
  "language_info": {
   "codemirror_mode": {
    "name": "ipython",
    "version": 3
   },
   "file_extension": ".py",
   "mimetype": "text/x-python",
   "name": "python",
   "nbconvert_exporter": "python",
   "pygments_lexer": "ipython3",
   "version": "3.10.6"
  },
  "vscode": {
   "interpreter": {
    "hash": "aee8b7b246df8f9039afb4144a1f6fd8d2ca17a180786b69acc140d282b71a49"
   }
  }
 },
 "nbformat": 4,
 "nbformat_minor": 2
}
